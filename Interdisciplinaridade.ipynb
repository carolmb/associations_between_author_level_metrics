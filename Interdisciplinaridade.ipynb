{
 "cells": [
  {
   "cell_type": "code",
   "execution_count": 33,
   "metadata": {},
   "outputs": [],
   "source": [
    "import xnet\n",
    "import json\n",
    "import glob\n",
    "import util\n",
    "\n",
    "import numpy as np\n",
    "import matplotlib.pyplot as plt\n",
    "from scipy.stats import pearsonr,spearmanr\n",
    "\n",
    "from collections import OrderedDict\n",
    "\n",
    "from igraph import *"
   ]
  },
  {
   "cell_type": "code",
   "execution_count": 34,
   "metadata": {},
   "outputs": [],
   "source": [
    "history_out_filename = 'data/authors_pac_out_2lvls_2multi.json'\n",
    "history_in_filename = 'data/authors_pac_in_2lvls_2multi.json'\n",
    "history_filename = 'data/authors_pac_2lvls_2multi.json'"
   ]
  },
  {
   "cell_type": "code",
   "execution_count": 35,
   "metadata": {},
   "outputs": [],
   "source": [
    "data = xnet.xnet2igraph('data/citation_network_ge1985_pacs.xnet')"
   ]
  },
  {
   "cell_type": "code",
   "execution_count": 36,
   "metadata": {},
   "outputs": [],
   "source": [
    "filenames = sorted(glob.glob('data/pacs/2lvls/*_delta4_multilevel2.xnet'))\n",
    "pac_nets = []\n",
    "for filename in filenames:\n",
    "    net = xnet.xnet2igraph(filename)\n",
    "    pac_nets.append(net)"
   ]
  },
  {
   "cell_type": "code",
   "execution_count": 37,
   "metadata": {},
   "outputs": [],
   "source": [
    "# for net in pac_nets:\n",
    "#     print(set(net.vs[\"community\"]))"
   ]
  },
  {
   "cell_type": "code",
   "execution_count": 38,
   "metadata": {},
   "outputs": [],
   "source": [
    "history_out = util.load(history_out_filename)\n",
    "authors_out_div = util.authors_metric(history_out,util.get_div) # diversidade das publicações citadas (author out)\n",
    "history_in = util.load(history_in_filename)\n",
    "authors_in_div = util.authors_metric(history_in,util.get_div) # diversidade das publicações que citam o autor (author in)\n",
    "# valid_authors_by_area = util.get_area(data,pac_nets,util.get_pacs_paper_published,4)\n",
    "authors_ranking_min25_by_year = util.load('data/authors_ranking_min25_by_year.json')"
   ]
  },
  {
   "cell_type": "code",
   "execution_count": 39,
   "metadata": {},
   "outputs": [],
   "source": [
    "authors_ranking_min25_by_year = {year:set(authors) for year,authors in authors_ranking_min25_by_year.items()}"
   ]
  },
  {
   "cell_type": "code",
   "execution_count": 40,
   "metadata": {},
   "outputs": [],
   "source": [
    "def authors_metric(valid_authors,history,get_div):\n",
    "    # as chaves de valid_authors é str\n",
    "    authors = dict()\n",
    "    L = len(history)\n",
    "    c = 0\n",
    "    for author,a_history in history.items():\n",
    "        a_div = util.author_div(a_history,get_div)\n",
    "        # calcula a diversidade apenas para os anos que o autor tem no min 25 citações e referências\n",
    "        valid_years_div = {year:div for year,div in a_div.items() if author in valid_authors[year]}\n",
    "        authors[author] = valid_years_div\n",
    "        c += 1\n",
    "        if c%10000 == 0:\n",
    "            print(100*c/L)\n",
    "    return authors"
   ]
  },
  {
   "cell_type": "code",
   "execution_count": 41,
   "metadata": {},
   "outputs": [
    {
     "name": "stdout",
     "output_type": "stream",
     "text": [
      "3.0064880011063875\n",
      "6.012976002212775\n",
      "9.019464003319163\n",
      "12.02595200442555\n",
      "15.032440005531939\n",
      "18.038928006638326\n",
      "21.045416007744713\n",
      "24.0519040088511\n",
      "27.058392009957487\n",
      "30.064880011063877\n",
      "33.07136801217026\n",
      "36.07785601327665\n",
      "39.08434401438304\n",
      "42.090832015489426\n",
      "45.097320016595816\n",
      "48.1038080177022\n",
      "51.11029601880859\n",
      "54.116784019914974\n",
      "57.123272021021364\n",
      "60.129760022127755\n",
      "63.13624802323414\n",
      "66.14273602434052\n",
      "69.14922402544691\n",
      "72.1557120265533\n",
      "75.1622000276597\n",
      "78.16868802876608\n",
      "81.17517602987246\n",
      "84.18166403097885\n",
      "87.18815203208524\n",
      "90.19464003319163\n",
      "93.20112803429801\n",
      "96.2076160354044\n",
      "99.21410403651079\n"
     ]
    }
   ],
   "source": [
    "authors_in_symmetry = authors_metric(authors_ranking_min25_by_year,history_in,util.get_asymmetry)"
   ]
  },
  {
   "cell_type": "code",
   "execution_count": 42,
   "metadata": {},
   "outputs": [
    {
     "name": "stdout",
     "output_type": "stream",
     "text": [
      "2.7581109146723226\n",
      "5.516221829344645\n",
      "8.274332744016968\n",
      "11.03244365868929\n",
      "13.790554573361613\n",
      "16.548665488033937\n",
      "19.30677640270626\n",
      "22.06488731737858\n",
      "24.822998232050903\n",
      "27.581109146723225\n",
      "30.339220061395547\n",
      "33.09733097606787\n",
      "35.855441890740195\n",
      "38.61355280541252\n",
      "41.37166372008484\n",
      "44.12977463475716\n",
      "46.887885549429484\n",
      "49.645996464101806\n",
      "52.40410737877413\n",
      "55.16221829344645\n",
      "57.92032920811877\n",
      "60.678440122791095\n",
      "63.436551037463424\n",
      "66.19466195213575\n",
      "68.95277286680806\n",
      "71.71088378148039\n",
      "74.4689946961527\n",
      "77.22710561082503\n",
      "79.98521652549735\n",
      "82.74332744016968\n",
      "85.50143835484201\n",
      "88.25954926951432\n",
      "91.01766018418665\n",
      "93.77577109885897\n",
      "96.5338820135313\n",
      "99.29199292820361\n"
     ]
    }
   ],
   "source": [
    "authors_out_symmetry = authors_metric(authors_ranking_min25_by_year,history_out,util.get_asymmetry)"
   ]
  },
  {
   "cell_type": "code",
   "execution_count": 14,
   "metadata": {},
   "outputs": [
    {
     "data": {
      "image/png": "[encoded data removed]",
      "text/plain": [
       "<Figure size 864x288 with 1 Axes>"
      ]
     },
     "metadata": {
      "needs_background": "light"
     },
     "output_type": "display_data"
    }
   ],
   "source": [
    "means = []\n",
    "stds = []\n",
    "years = []\n",
    "for year in range(1991,2010):\n",
    "    X = []\n",
    "    for a,sim in authors_in_symmetry.items():\n",
    "        try:\n",
    "            x = sim[str(year)]\n",
    "            X.append(x)\n",
    "        except:\n",
    "            pass\n",
    "    X = sorted(X)[:500]\n",
    "    mean = np.mean(X)\n",
    "    means.append(mean)\n",
    "    std = np.std(X)\n",
    "    stds.append(std)\n",
    "    years.append(year)\n",
    "\n",
    "plt.figure(figsize=(12,4))\n",
    "plt.xlabel('year')\n",
    "plt.ylabel('symmetry')\n",
    "plt.errorbar(years,means,yerr=stds)\n",
    "plt.savefig('sym_years.pdf')\n",
    "    "
   ]
  },
  {
   "cell_type": "code",
   "execution_count": 23,
   "metadata": {},
   "outputs": [
    {
     "name": "stdout",
     "output_type": "stream",
     "text": [
      "500\n",
      "1744530486 1990\n",
      "2587651803 1990\n",
      "536628356 1990\n",
      "428805443 1990\n",
      "403683876 1990\n",
      "390792772 1990\n",
      "366014254 1990\n",
      "2757807376 1990\n",
      "2615516698 1990\n",
      "2608780572 1990\n",
      "2606447694 1990\n",
      "2601356627 1990\n",
      "2581216324 1990\n",
      "2512096418 1990\n",
      "2488002498 1990\n",
      "2487337144 1990\n",
      "2464077679 1990\n",
      "2330508840 1990\n",
      "2310923764 1990\n",
      "2310255343 1990\n",
      "2307028986 1990\n",
      "2304125593 1990\n",
      "2288865067 1990\n",
      "2270441671 1990\n",
      "2263792661 1990\n",
      "2246966491 1990\n",
      "2228778750 1990\n",
      "2190366191 1990\n",
      "2163585639 1990\n",
      "2159471069 1990\n",
      "2151348369 1990\n",
      "2140116005 1990\n",
      "2136374928 1990\n",
      "2129421475 1990\n",
      "2120881549 1990\n",
      "2110722397 1990\n",
      "2095887176 1990\n",
      "2080560548 1990\n",
      "2076338926 1990\n",
      "2057132207 1990\n",
      "2052620048 1990\n",
      "2046137232 1990\n",
      "2035906164 1990\n",
      "2029396712 1990\n",
      "2029271787 1990\n",
      "2001749612 1990\n",
      "2000482332 1990\n",
      "1976687569 1990\n",
      "1971720547 1990\n",
      "1965992559 1990\n",
      "1896690256 1990\n",
      "1517305831 1990\n",
      "1363795305 1990\n",
      "2280890523 1990\n",
      "1994662623 1990\n",
      "2555497642 1990\n",
      "2464612650 1990\n",
      "2111161316 1990\n",
      "2108998894 1990\n",
      "1906291325 1990\n",
      "2222572647 1990\n",
      "2432524694 1990\n",
      "2016157943 1990\n",
      "2477672762 1990\n",
      "2107023030 1990\n",
      "1991015782 1990\n",
      "1975333885 1990\n",
      "2415948206 1990\n",
      "1538012921 1990\n",
      "2762652002 1990\n",
      "1255617545 1990\n",
      "2114871710 1990\n",
      "1492124805 1990\n",
      "2642420647 1990\n",
      "2583061038 1990\n",
      "2104468158 1990\n",
      "2324457061 1990\n",
      "2064578189 1990\n",
      "1942053544 1990\n",
      "2609057346 1990\n",
      "2310279560 1990\n",
      "2218529320 1990\n",
      "2661531228 1990\n",
      "2246495121 1990\n",
      "1987544749 1990\n",
      "2659580813 1990\n",
      "2311366414 1990\n",
      "2147729806 1990\n",
      "2611049358 1990\n",
      "2469707793 1990\n",
      "2099932242 1990\n",
      "2290048475 1990\n",
      "1996177697 1990\n",
      "2079887088 1990\n",
      "1943965823 1990\n",
      "1297988725 1990\n",
      "2624294445 1990\n",
      "2050804614 1990\n",
      "2022485991 1990\n",
      "2777616669 1990\n",
      "2771214772 1990\n",
      "2766490127 1990\n",
      "2735079771 1990\n",
      "2617316877 1990\n",
      "2616854754 1990\n",
      "2597200062 1990\n",
      "2581350873 1990\n",
      "2440890356 1990\n",
      "2114483205 1990\n",
      "2152340363 1990\n",
      "2114721166 1990\n",
      "2051288457 1990\n",
      "777073850 1990\n",
      "2785255058 1990\n",
      "2709302512 1990\n",
      "2661603222 1990\n",
      "2654901073 1990\n",
      "2615578732 1990\n",
      "2604687022 1990\n",
      "2575057968 1990\n",
      "2539812142 1990\n",
      "2496265619 1990\n",
      "2471977497 1990\n",
      "2177966235 1990\n",
      "2163151864 1990\n",
      "2117764926 1990\n",
      "2089233995 1990\n",
      "2036490683 1990\n",
      "2034757599 1990\n",
      "2025571882 1990\n",
      "2014236743 1990\n",
      "2008880233 1990\n",
      "2736816481 1990\n",
      "2612516892 1990\n",
      "2419683459 1990\n",
      "2164613659 1990\n",
      "2153367487 1990\n",
      "409063338 1990\n",
      "311505791 1990\n",
      "2735077237 1990\n",
      "2616936504 1990\n",
      "2616364620 1990\n",
      "2614728113 1990\n",
      "2604681016 1990\n",
      "2509335482 1990\n",
      "2488154231 1990\n",
      "2483752285 1990\n",
      "2478144263 1990\n",
      "2442397307 1990\n",
      "2398305771 1990\n",
      "2342418562 1990\n",
      "2303022502 1990\n",
      "2230253976 1990\n",
      "2177531669 1990\n",
      "2156955332 1990\n",
      "2148773079 1990\n",
      "2113776860 1990\n",
      "2109797638 1990\n",
      "2098489534 1990\n",
      "2095025643 1990\n",
      "2094520724 1990\n",
      "2031035235 1990\n",
      "1959773983 1990\n",
      "1920976338 1990\n",
      "1631195651 1990\n",
      "2317431347 1990\n",
      "2252603170 1990\n",
      "2156766579 1990\n",
      "2131845627 1990\n",
      "2126374134 1990\n",
      "1836749560 1990\n",
      "2467824134 1990\n",
      "2159832528 1990\n",
      "1937240872 1990\n",
      "1925128120 1990\n",
      "2604506954 1990\n",
      "2339747761 1990\n",
      "2023719256 1990\n",
      "2776492453 1990\n",
      "2771933866 1990\n",
      "2752463451 1990\n",
      "2739748425 1990\n",
      "2734692207 1990\n",
      "2617064272 1990\n",
      "2612428172 1990\n",
      "2129288748 1990\n",
      "2053099642 1990\n",
      "2487579523 1990\n",
      "2480804908 1990\n",
      "2309257709 1990\n",
      "2132456304 1990\n",
      "2047097202 1990\n",
      "400452962 1990\n",
      "392715799 1990\n",
      "2509417517 1990\n",
      "2315388596 1990\n",
      "2155898869 1990\n",
      "2140794966 1990\n",
      "2132553492 1990\n",
      "2067457560 1990\n",
      "1531415814 1990\n",
      "2769688992 1990\n",
      "2736000639 1990\n",
      "2626413179 1990\n",
      "2617747509 1990\n",
      "2607081290 1990\n",
      "2343261092 1990\n",
      "2128933813 1990\n",
      "2117057263 1990\n",
      "2603212849 1990\n",
      "2575137752 1990\n",
      "2433593072 1990\n",
      "2320167017 1990\n",
      "2315204697 1990\n",
      "2166740269 1990\n",
      "2103470317 1990\n",
      "2084078927 1990\n",
      "2718141894 1990\n",
      "2707580819 1990\n",
      "2701399605 1990\n",
      "2695883870 1990\n",
      "2576613585 1990\n",
      "2484749383 1990\n",
      "2327022495 1990\n",
      "2139250770 1990\n",
      "306121920 1990\n",
      "2776348552 1990\n",
      "2736315328 1990\n",
      "2726520621 1990\n",
      "2617072361 1990\n",
      "2612635172 1990\n",
      "2605633603 1990\n",
      "2560225689 1990\n",
      "2270879600 1990\n",
      "2252396676 1990\n",
      "2069290503 1990\n",
      "1967568749 1990\n",
      "2699588890 1990\n",
      "2688911151 1990\n",
      "2625297633 1990\n",
      "2605904579 1990\n",
      "2591820349 1990\n",
      "2580905391 1990\n",
      "2439010125 1990\n",
      "2317745079 1990\n",
      "2227421226 1990\n",
      "2163976353 1990\n",
      "2154156185 1990\n",
      "2058234366 1990\n",
      "1697164342 1990\n",
      "721294310 1990\n",
      "2663470346 1990\n",
      "2639113219 1990\n",
      "2555562829 1990\n",
      "2443290473 1990\n",
      "2311017316 1990\n",
      "2286160687 1990\n",
      "2253377035 1990\n",
      "2171761424 1990\n",
      "2169984310 1990\n",
      "2149517525 1990\n",
      "2128398166 1990\n",
      "2121813814 1990\n",
      "2011515727 1990\n",
      "1871543513 1990\n",
      "1035278250 1990\n",
      "420905356 1990\n",
      "2779424877 1990\n",
      "2691383235 1990\n",
      "2617702921 1990\n",
      "2617595728 1990\n",
      "2563417988 1990\n",
      "2302448841 1990\n",
      "2293813915 1990\n",
      "2288962283 1990\n",
      "2170940055 1990\n",
      "2113203231 1990\n",
      "2112269784 1990\n",
      "2112079931 1990\n",
      "2105897073 1990\n",
      "2011960330 1990\n",
      "1982164219 1990\n",
      "1436697526 1990\n",
      "572072363 1990\n",
      "2608459315 1990\n",
      "2560569257 1990\n",
      "2559170745 1990\n",
      "2488061324 1990\n",
      "2431159828 1990\n",
      "2320253622 1990\n",
      "2152124338 1990\n",
      "2133483020 1990\n",
      "2126012174 1990\n",
      "2122327274 1990\n",
      "2072154667 1990\n",
      "2003101721 1990\n",
      "2770486418 1990\n",
      "2691294335 1990\n",
      "2278733449 1990\n",
      "158984640 1990\n",
      "423656226 1990\n",
      "2761581511 1990\n",
      "2586027348 1990\n",
      "2290278968 1990\n",
      "2169347063 1990\n",
      "2142044151 1990\n",
      "2600692536 1990\n",
      "2474409332 1990\n",
      "2463292975 1990\n",
      "2266187348 1990\n",
      "2037357844 1990\n",
      "1978601106 1990\n",
      "1066561476 1990\n",
      "2781432018 1990\n",
      "2779192782 1990\n",
      "2758867008 1990\n",
      "2722267533 1990\n",
      "2660570774 1990\n",
      "2653187750 1990\n",
      "2632302646 1990\n",
      "2626537287 1990\n",
      "2619692587 1990\n",
      "2614928535 1990\n",
      "2610721762 1990\n",
      "2604973333 1990\n",
      "2583427864 1990\n",
      "2521452383 1990\n",
      "2344582951 1990\n",
      "2342949338 1990\n",
      "2274545621 1990\n",
      "2245979470 1990\n",
      "2161845671 1990\n",
      "2158028175 1990\n",
      "500\n",
      "2661531228 1991\n",
      "2152340363 1991\n",
      "2469707793 1991\n",
      "2583061038 1991\n",
      "2022485991 1991\n",
      "158984640 1991\n",
      "2218529320 1991\n",
      "2467824134 1991\n",
      "2440890356 1991\n",
      "2661603222 1991\n",
      "2777616669 1991\n",
      "2735079771 1991\n",
      "2611049358 1991\n",
      "2047097202 1991\n",
      "2433593072 1991\n",
      "2103470317 1991\n",
      "2164613659 1991\n",
      "2612516892 1991\n",
      "1297988725 1991\n",
      "2604687022 1991\n",
      "2008880233 1991\n",
      "2785255058 1991\n",
      "2725394261 1991\n",
      "2709302512 1991\n",
      "2166740269 1991\n",
      "2739748425 1991\n",
      "2612428172 1991\n",
      "2286160687 1991\n",
      "2113203231 1991\n",
      "2480804908 1991\n",
      "1073532946 1991\n",
      "2601958765 1991\n",
      "2463292975 1991\n",
      "2752463451 1991\n",
      "2734692207 1991\n",
      "2617064272 1991\n",
      "2113883955 1991\n",
      "2309257709 1991\n",
      "2295877526 1991\n",
      "2152124338 1991\n",
      "2691383235 1991\n",
      "2661276841 1991\n",
      "2170940055 1991\n",
      "2132553492 1991\n",
      "2626865604 1991\n",
      "2626413179 1991\n",
      "434994533 1991\n",
      "2786608892 1991\n",
      "2736315328 1991\n",
      "2736000639 1991\n",
      "2469389641 1991\n",
      "2116050957 1991\n",
      "2639113219 1991\n",
      "2271430418 1991\n",
      "2157603787 1991\n",
      "2776492453 1991\n",
      "2713245518 1991\n",
      "2103030332 1991\n",
      "2111727266 1991\n",
      "2575137752 1991\n",
      "2560225689 1991\n",
      "2488061324 1991\n",
      "2087989636 1991\n",
      "2776348552 1991\n",
      "2726520621 1991\n",
      "2612635172 1991\n",
      "2269274645 1991\n",
      "2182252443 1991\n",
      "2320167017 1991\n",
      "2130374241 1991\n",
      "2343261092 1991\n",
      "2292422891 1991\n",
      "2145290133 1991\n",
      "2145126563 1991\n",
      "2235812994 1991\n",
      "2011960330 1991\n",
      "572072363 1991\n",
      "306121920 1991\n",
      "2270879600 1991\n",
      "2252396676 1991\n",
      "2146498044 1991\n",
      "2069290503 1991\n",
      "2067457560 1991\n",
      "1967568749 1991\n",
      "2761581511 1991\n",
      "2617595728 1991\n",
      "2603212849 1991\n",
      "2315204697 1991\n",
      "2170697882 1991\n",
      "2118483840 1991\n",
      "500\n",
      "2725394261 1992\n",
      "2218529320 1992\n",
      "2433593072 1992\n",
      "2103470317 1992\n",
      "2047097202 1992\n",
      "2478751073 1992\n",
      "2440890356 1992\n",
      "2166740269 1992\n",
      "434994533 1992\n",
      "2786608892 1992\n",
      "2480804908 1992\n",
      "2182252443 1992\n",
      "2152124338 1992\n",
      "2469389641 1992\n",
      "1073532946 1992\n",
      "2601958765 1992\n",
      "2130374241 1992\n",
      "2113203231 1992\n",
      "2111727266 1992\n",
      "2691383235 1992\n",
      "2661603222 1992\n",
      "2170940055 1992\n",
      "2626865604 1992\n",
      "2661276841 1992\n",
      "2639113219 1992\n",
      "2087989636 1992\n",
      "2463292975 1992\n",
      "500\n",
      "2478751073 1993\n",
      "2725394261 1993\n",
      "2218529320 1993\n",
      "2480804908 1993\n",
      "2433593072 1993\n",
      "2103470317 1993\n",
      "434994533 1993\n",
      "2166740269 1993\n",
      "2130374241 1993\n",
      "2182252443 1993\n",
      "2639113219 1993\n",
      "2087989636 1993\n",
      "2440890356 1993\n",
      "500\n",
      "2478751073 1994\n",
      "364657829 1994\n",
      "2161866215 1994\n",
      "2539812142 1994\n",
      "2482948828 1994\n",
      "2581216324 1994\n",
      "2304125593 1994\n",
      "2130374241 1994\n",
      "2250428510 1994\n",
      "2586901755 1994\n",
      "399490430 1994\n",
      "2303743849 1994\n",
      "2144267689 1994\n",
      "2033234320 1994\n",
      "500\n",
      "2478751073 1995\n",
      "2117387728 1995\n",
      "574415937 1995\n",
      "2128156417 1995\n",
      "2036490683 1995\n",
      "2478606935 1995\n",
      "2181978551 1995\n",
      "2033234320 1995\n",
      "1956083663 1995\n",
      "2444039211 1995\n",
      "500\n",
      "2117387728 1996\n",
      "2128156417 1996\n",
      "2099672519 1996\n",
      "2769468098 1996\n",
      "2632485577 1996\n",
      "2421034954 1996\n",
      "2784047313 1996\n",
      "2579046448 1996\n",
      "2575048564 1996\n",
      "2572890293 1996\n",
      "2572057121 1996\n",
      "2074333619 1996\n",
      "500\n",
      "2128156417 1997\n",
      "2117387728 1997\n",
      "2784047313 1997\n",
      "2769468098 1997\n",
      "2632485577 1997\n",
      "2579046448 1997\n",
      "2575048564 1997\n",
      "2572890293 1997\n",
      "2572057121 1997\n",
      "2421034954 1997\n",
      "2099672519 1997\n",
      "2171983786 1997\n",
      "2604781498 1997\n",
      "2074333619 1997\n",
      "2478606935 1997\n",
      "500\n",
      "2117387728 1998\n",
      "2128156417 1998\n",
      "2784047313 1998\n",
      "2769468098 1998\n",
      "2632485577 1998\n",
      "2579046448 1998\n",
      "2575048564 1998\n",
      "2572890293 1998\n",
      "2572057121 1998\n",
      "2421034954 1998\n",
      "2099672519 1998\n",
      "500\n",
      "2303503220 1999\n",
      "2303139949 1999\n",
      "500\n",
      "2181978551 2000\n",
      "2344413483 2000\n",
      "2224241853 2000\n",
      "2642003318 2000\n",
      "2004198242 2000\n",
      "2781576893 2000\n",
      "2769268995 2000\n",
      "2764126765 2000\n",
      "2757279795 2000\n",
      "2711180707 2000\n",
      "2651552971 2000\n",
      "2647861655 2000\n",
      "2634457917 2000\n",
      "2619236363 2000\n",
      "2612167665 2000\n",
      "2583999391 2000\n",
      "2511092178 2000\n",
      "2510082738 2000\n",
      "2471722173 2000\n",
      "2461405325 2000\n",
      "2421214574 2000\n",
      "2344769990 2000\n",
      "2334181125 2000\n",
      "2305593513 2000\n",
      "2263789585 2000\n",
      "2227105951 2000\n",
      "2121510906 2000\n",
      "1990162624 2000\n",
      "1962735799 2000\n",
      "2630921314 2000\n",
      "2786608892 2000\n",
      "2097216580 2000\n",
      "2725501034 2000\n",
      "2596941624 2000\n",
      "2298771324 2000\n",
      "2595593858 2000\n",
      "2778313110 2000\n",
      "2498156692 2000\n",
      "2333340960 2000\n",
      "2614472343 2000\n",
      "725076002 2000\n",
      "2746473324 2000\n",
      "2515460066 2000\n",
      "2443633508 2000\n",
      "2323048371 2000\n",
      "2321862580 2000\n",
      "2203378979 2000\n",
      "2164688203 2000\n",
      "2144791112 2000\n",
      "2626662615 2000\n",
      "2037968759 2000\n",
      "2572532498 2000\n",
      "2424802644 2000\n",
      "2158210860 2000\n",
      "2655434197 2000\n",
      "2306308353 2000\n",
      "2786173245 2000\n",
      "2778867712 2000\n",
      "2441655372 2000\n",
      "2077140590 2000\n",
      "2780849187 2000\n",
      "2779638495 2000\n",
      "2769888116 2000\n",
      "2761223964 2000\n",
      "2628265087 2000\n",
      "2558624666 2000\n",
      "2338497626 2000\n",
      "2191682497 2000\n",
      "2171698704 2000\n",
      "2097644890 2000\n",
      "500\n",
      "2625979535 2001\n",
      "2604951617 2001\n",
      "2235359028 2001\n",
      "2167623839 2001\n",
      "2130020427 2001\n",
      "2113165551 2001\n",
      "2065014861 2001\n",
      "2192091181 2001\n",
      "357620200 2001\n",
      "2313789321 2001\n",
      "2105173740 2001\n",
      "2058867569 2001\n",
      "2488747366 2001\n",
      "2138614808 2001\n",
      "2520948170 2001\n",
      "2098718523 2001\n",
      "619959502 2001\n",
      "2606458262 2001\n",
      "2596752812 2001\n",
      "2526060166 2001\n",
      "2434828386 2001\n",
      "2419788466 2001\n",
      "2331037567 2001\n",
      "2322293617 2001\n",
      "2303736959 2001\n",
      "2237509195 2001\n",
      "2151999323 2001\n",
      "2143959525 2001\n",
      "1991959564 2001\n",
      "2120225112 2001\n",
      "721965525 2001\n",
      "2619583730 2001\n",
      "2614624194 2001\n",
      "2461942766 2001\n",
      "2303315657 2001\n",
      "2291141797 2001\n",
      "2131557930 2001\n",
      "2104961525 2001\n",
      "2012941820 2001\n",
      "2464698729 2001\n",
      "2153540285 2001\n",
      "2623923142 2001\n",
      "2342934900 2001\n",
      "2142989119 2001\n",
      "2505306827 2001\n",
      "2159283478 2001\n",
      "2168066943 2001\n",
      "2152154699 2001\n",
      "2607298983 2001\n",
      "2119990639 2001\n",
      "1962735799 2001\n",
      "2144791112 2001\n",
      "2630921314 2001\n",
      "2778313110 2001\n",
      "2498156692 2001\n",
      "2333340960 2001\n",
      "2595593858 2001\n",
      "725076002 2001\n",
      "2746473324 2001\n",
      "2621727630 2001\n",
      "2515460066 2001\n",
      "2501908091 2001\n",
      "2443633508 2001\n",
      "2323048371 2001\n",
      "2321862580 2001\n",
      "2203378979 2001\n",
      "2164688203 2001\n",
      "2501849122 2001\n",
      "2614472343 2001\n",
      "2626662615 2001\n",
      "2572532498 2001\n",
      "2437985053 2001\n",
      "2786608892 2001\n",
      "2424802644 2001\n",
      "2097216580 2001\n",
      "2158210860 2001\n",
      "2298771324 2001\n",
      "2769888116 2001\n",
      "2655434197 2001\n",
      "2348589921 2001\n",
      "2786173245 2001\n",
      "2778867712 2001\n",
      "2725501034 2001\n",
      "2604159680 2001\n",
      "2596941624 2001\n",
      "2524250782 2001\n",
      "2011519057 2001\n",
      "2441655372 2001\n",
      "2077140590 2001\n",
      "2164222448 2001\n",
      "2780849187 2001\n",
      "2558624666 2001\n",
      "2625126146 2001\n",
      "2779638495 2001\n",
      "2761223964 2001\n",
      "2628265087 2001\n",
      "2338497626 2001\n",
      "2191682497 2001\n",
      "2698749015 2001\n",
      "2607591177 2001\n",
      "1489035624 2001\n",
      "2764028333 2001\n",
      "2163151864 2001\n",
      "2095801749 2001\n",
      "2779170724 2001\n",
      "2777961813 2001\n",
      "2076770456 2001\n",
      "1522682278 2001\n",
      "2616559830 2001\n",
      "2306565354 2001\n",
      "2303946876 2001\n",
      "2294590779 2001\n",
      "2235561511 2001\n",
      "2147285855 2001\n",
      "2119718377 2001\n",
      "1964155556 2001\n",
      "1872662435 2001\n",
      "1853950816 2001\n",
      "2690694281 2001\n",
      "500\n",
      "2171847776 2002\n",
      "2600223658 2002\n",
      "2604951617 2002\n",
      "2625979535 2002\n",
      "2235359028 2002\n",
      "2192091181 2002\n",
      "2167623839 2002\n",
      "2130020427 2002\n",
      "2113165551 2002\n",
      "2065014861 2002\n",
      "2090010523 2002\n",
      "2247136042 2002\n",
      "357620200 2002\n",
      "2488747366 2002\n",
      "2313789321 2002\n",
      "2105173740 2002\n",
      "2058867569 2002\n",
      "2117387728 2002\n",
      "2464077679 2002\n",
      "2109077129 2002\n",
      "2108580131 2002\n",
      "2520948170 2002\n",
      "2098718523 2002\n",
      "2167389579 2002\n",
      "2597092696 2002\n",
      "2591699559 2002\n",
      "619959502 2002\n",
      "2606458262 2002\n",
      "2596752812 2002\n",
      "2526060166 2002\n",
      "2434828386 2002\n",
      "2419788466 2002\n",
      "2331037567 2002\n",
      "2322293617 2002\n",
      "2303736959 2002\n",
      "2237509195 2002\n",
      "2143959525 2002\n",
      "1991959564 2002\n",
      "2312543400 2002\n",
      "2151999323 2002\n",
      "2120225112 2002\n",
      "721965525 2002\n",
      "2619583730 2002\n",
      "2614624194 2002\n",
      "2461942766 2002\n",
      "2303315657 2002\n",
      "2291141797 2002\n",
      "2131557930 2002\n",
      "2104961525 2002\n",
      "2012941820 2002\n",
      "2464698729 2002\n",
      "2138614808 2002\n",
      "2749112502 2002\n",
      "2607209988 2002\n",
      "2153540285 2002\n",
      "2501849122 2002\n",
      "2623923142 2002\n",
      "2342934900 2002\n",
      "2142989119 2002\n",
      "2572532498 2002\n",
      "2437985053 2002\n",
      "2144791112 2002\n",
      "2505306827 2002\n",
      "2168066943 2002\n",
      "2159283478 2002\n",
      "2152154699 2002\n",
      "2607298983 2002\n",
      "2119990639 2002\n",
      "1962735799 2002\n",
      "2769888116 2002\n",
      "2778313110 2002\n",
      "2498156692 2002\n",
      "2333340960 2002\n",
      "2630921314 2002\n",
      "2595593858 2002\n",
      "725076002 2002\n",
      "2746473324 2002\n",
      "2621727630 2002\n",
      "2515460066 2002\n",
      "2501908091 2002\n",
      "2443633508 2002\n",
      "2323048371 2002\n",
      "2321862580 2002\n",
      "2203378979 2002\n",
      "2164688203 2002\n",
      "2348589921 2002\n",
      "2614472343 2002\n",
      "2604159680 2002\n",
      "2524250782 2002\n",
      "2011519057 2002\n",
      "2626662615 2002\n",
      "2786608892 2002\n",
      "2097216580 2002\n",
      "2298771324 2002\n",
      "2778867712 2002\n",
      "2441655372 2002\n",
      "2786173245 2002\n",
      "2077140590 2002\n",
      "2164222448 2002\n",
      "2780849187 2002\n",
      "2558624666 2002\n",
      "2625126146 2002\n",
      "2424802644 2002\n",
      "2158210860 2002\n",
      "2655434197 2002\n",
      "2725501034 2002\n",
      "2596941624 2002\n",
      "2779638495 2002\n",
      "2761223964 2002\n",
      "2628265087 2002\n",
      "2338497626 2002\n",
      "2191682497 2002\n",
      "2495099059 2002\n",
      "1489035624 2002\n",
      "2607591177 2002\n",
      "2698749015 2002\n",
      "2764028333 2002\n",
      "2248657691 2002\n",
      "2311520949 2002\n",
      "2316488069 2002\n",
      "2165271001 2002\n",
      "2214753676 2002\n",
      "1975842110 2002\n",
      "2621264431 2002\n",
      "1563083121 2002\n",
      "500\n",
      "2307402991 2003\n",
      "2348589921 2003\n",
      "2120225112 2003\n",
      "2098718523 2003\n",
      "619959502 2003\n",
      "357620200 2003\n",
      "2625979535 2003\n",
      "2619583730 2003\n",
      "2614624194 2003\n",
      "2606458262 2003\n",
      "2597092696 2003\n",
      "2596752812 2003\n",
      "2524250782 2003\n",
      "2437985053 2003\n",
      "2434828386 2003\n",
      "2419788466 2003\n",
      "2331037567 2003\n",
      "2322293617 2003\n",
      "2303736959 2003\n",
      "2104961525 2003\n",
      "2065014861 2003\n",
      "2012941820 2003\n",
      "2011519057 2003\n",
      "2600223658 2003\n",
      "2167389579 2003\n",
      "2113165551 2003\n",
      "2058867569 2003\n",
      "2501849122 2003\n",
      "2464698729 2003\n",
      "2247136042 2003\n",
      "2108580131 2003\n",
      "2171847776 2003\n",
      "721965525 2003\n",
      "2526060166 2003\n",
      "2461942766 2003\n",
      "2313789321 2003\n",
      "2303315657 2003\n",
      "2291141797 2003\n",
      "2167623839 2003\n",
      "2143959525 2003\n",
      "2105173740 2003\n",
      "1991959564 2003\n",
      "1489035624 2003\n",
      "2604159680 2003\n",
      "2591699559 2003\n",
      "2237509195 2003\n",
      "2131557930 2003\n",
      "2312543400 2003\n",
      "2235359028 2003\n",
      "2572532498 2003\n",
      "2153540285 2003\n",
      "2138614808 2003\n",
      "2625126146 2003\n",
      "2342934900 2003\n",
      "2142989119 2003\n",
      "2623923142 2003\n",
      "2144791112 2003\n",
      "2298771324 2003\n",
      "2607298983 2003\n",
      "2746473324 2003\n",
      "2501908091 2003\n",
      "2119990639 2003\n",
      "2778867712 2003\n",
      "2441655372 2003\n",
      "2482275402 2003\n",
      "2325795467 2003\n",
      "2600208642 2003\n",
      "2786173245 2003\n",
      "2152154699 2003\n",
      "2077140590 2003\n",
      "1945577280 2003\n",
      "2780849187 2003\n",
      "2097216580 2003\n",
      "2751453290 2003\n",
      "2168066943 2003\n",
      "725076002 2003\n",
      "2778313110 2003\n",
      "2621727630 2003\n",
      "2515460066 2003\n",
      "2505306827 2003\n",
      "2498156692 2003\n",
      "2443633508 2003\n",
      "2333340960 2003\n",
      "2323048371 2003\n",
      "2321862580 2003\n",
      "2203378979 2003\n",
      "2164688203 2003\n",
      "2159283478 2003\n",
      "1975842110 2003\n",
      "2786608892 2003\n",
      "2145555013 2003\n",
      "1563083121 2003\n",
      "2304115033 2003\n",
      "2119442704 2003\n",
      "2099741159 2003\n",
      "2595593858 2003\n",
      "2664899157 2003\n",
      "2630921314 2003\n",
      "2626662615 2003\n",
      "2614472343 2003\n",
      "1962735799 2003\n",
      "2558623360 2003\n",
      "2662632622 2003\n",
      "2013840926 2003\n",
      "2582257449 2003\n",
      "2158205095 2003\n",
      "2266217883 2003\n",
      "2768633270 2003\n",
      "2044938633 2003\n",
      "2564202534 2003\n",
      "2599974801 2003\n",
      "2111074604 2003\n",
      "2107046291 2003\n",
      "2311520949 2003\n",
      "2306214903 2003\n",
      "2303574142 2003\n",
      "1570593622 2003\n",
      "432414746 2003\n",
      "2781576893 2003\n",
      "2634443542 2003\n",
      "2321946896 2003\n",
      "2134213532 2003\n",
      "2108094279 2003\n",
      "2437432327 2003\n",
      "2135862995 2003\n",
      "2114769603 2003\n",
      "2083088057 2003\n",
      "2053954708 2003\n",
      "2627983021 2003\n",
      "2135495837 2003\n",
      "1972922227 2003\n",
      "766679081 2003\n",
      "699598876 2003\n",
      "433985706 2003\n",
      "400556453 2003\n",
      "399490430 2003\n",
      "384693615 2003\n",
      "358035072 2003\n",
      "2776788656 2003\n",
      "2768504134 2003\n",
      "2761575454 2003\n",
      "2714090984 2003\n",
      "2713161199 2003\n",
      "2712155851 2003\n",
      "2703209168 2003\n",
      "2701505318 2003\n",
      "2678797599 2003\n",
      "2666231324 2003\n",
      "2658396754 2003\n",
      "500\n",
      "2420897326 2004\n",
      "358035072 2004\n",
      "2666231324 2004\n",
      "1945577280 2004\n",
      "2664899157 2004\n",
      "399490430 2004\n",
      "2781576893 2004\n",
      "2464698729 2004\n",
      "384693615 2004\n",
      "2713161199 2004\n",
      "2712155851 2004\n",
      "2703209168 2004\n",
      "2678797599 2004\n",
      "2652899383 2004\n",
      "2635037221 2004\n",
      "2627208133 2004\n",
      "2623522833 2004\n",
      "2619047700 2004\n",
      "2617258916 2004\n",
      "2616702095 2004\n",
      "2614831491 2004\n",
      "2614311859 2004\n",
      "2603807574 2004\n",
      "2601171524 2004\n",
      "2601033329 2004\n",
      "2589221593 2004\n",
      "2581836653 2004\n",
      "2580075897 2004\n",
      "2579419750 2004\n",
      "2577045492 2004\n",
      "2571780458 2004\n",
      "2569743571 2004\n",
      "2564448766 2004\n",
      "2517777983 2004\n",
      "2502092688 2004\n",
      "2495644715 2004\n",
      "2474784409 2004\n",
      "2471289312 2004\n",
      "2424817991 2004\n",
      "2422473824 2004\n",
      "2421155799 2004\n",
      "2401313408 2004\n",
      "2347141533 2004\n",
      "2336316038 2004\n",
      "2317281703 2004\n",
      "2310371685 2004\n",
      "2309840620 2004\n",
      "2250733088 2004\n",
      "2170305079 2004\n",
      "2150835790 2004\n",
      "2145157272 2004\n"
     ]
    },
    {
     "name": "stdout",
     "output_type": "stream",
     "text": [
      "500\n",
      "2360957305 2005\n",
      "500\n",
      "2420897326 2006\n",
      "2325795467 2006\n",
      "2622764937 2006\n",
      "2607347507 2006\n",
      "2599511694 2006\n",
      "2312406110 2006\n",
      "2114527585 2006\n",
      "2083088057 2006\n",
      "500\n",
      "500\n",
      "500\n",
      "500\n"
     ]
    },
    {
     "data": {
      "image/png": "[encoded data removed]",
      "text/plain": [
       "<Figure size 864x288 with 1 Axes>"
      ]
     },
     "metadata": {
      "needs_background": "light"
     },
     "output_type": "display_data"
    }
   ],
   "source": [
    "top_500 = util.load('data/authors_in_ranking500_by_year.json')\n",
    "means = []\n",
    "stds = []\n",
    "years = []\n",
    "for year,authors in top_500.items():\n",
    "    years.append(year)\n",
    "    print(len(authors))\n",
    "    sims = []\n",
    "    for author in authors:\n",
    "        try:\n",
    "            s = authors_in_symmetry[author][str(year)]\n",
    "            sims.append(s)\n",
    "        except:\n",
    "            print(author,year)\n",
    "    means.append(mean(sims))\n",
    "    stds.append(np.std(sims))\n",
    "\n",
    "plt.figure(figsize=(12,4))\n",
    "plt.xlabel('year')\n",
    "plt.ylabel('symmetry')\n",
    "plt.errorbar(years,means,yerr=stds)\n",
    "plt.savefig('sym_top_500.pdf')"
   ]
  },
  {
   "cell_type": "code",
   "execution_count": 65,
   "metadata": {},
   "outputs": [],
   "source": [
    "def authors_symmetry_diff(authors_in_symmetry,delta):\n",
    "    authors_in_symmetry_diff = defaultdict(lambda:defaultdict(lambda:0))\n",
    "    for author,syms in authors_in_symmetry.items():\n",
    "        for year1,sym in syms.items():\n",
    "            year0 = str(int(year1)-delta)\n",
    "            if int(year0) > 1990:\n",
    "                try:\n",
    "                    diff = sym - syms[year0]\n",
    "                    if syms[year0] == 0:\n",
    "                        diff = 1\n",
    "                    else:\n",
    "                        diff = diff/syms[year0]\n",
    "                    authors_in_symmetry_diff[author][year1] = diff\n",
    "                    \n",
    "#                     if diff == 0:\n",
    "#                         print('diff == 0',author,year1,syms)\n",
    "                except:\n",
    "                    # quando o autor nao está como valido no ano calculado\n",
    "                    pass\n",
    "                    \n",
    "    return authors_in_symmetry_diff"
   ]
  },
  {
   "cell_type": "code",
   "execution_count": 66,
   "metadata": {},
   "outputs": [],
   "source": [
    "# authors_in_sym5 = authors_symmetry_diff(authors_in_symmetry,5)\n",
    "# authors_in_sym3 = authors_symmetry_diff(authors_in_symmetry,3)\n",
    "authors_in_div1 = authors_symmetry_diff(authors_in_div,1)"
   ]
  },
  {
   "cell_type": "code",
   "execution_count": 67,
   "metadata": {},
   "outputs": [
    {
     "data": {
      "text/plain": [
       "defaultdict(<function __main__.authors_symmetry_diff.<locals>.<lambda>.<locals>.<lambda>()>,\n",
       "            {'1992': -0.08220635043163518,\n",
       "             '1993': -0.009207844344407386,\n",
       "             '1994': 0.020880025239562366,\n",
       "             '1995': -0.34179278965498927,\n",
       "             '1996': 0.0,\n",
       "             '1997': 0.0,\n",
       "             '1998': 0.0,\n",
       "             '1999': 0.027361607285355527,\n",
       "             '2000': 0.061284679358557435,\n",
       "             '2001': 0.09332080120025069,\n",
       "             '2002': 0.5126824941806798,\n",
       "             '2003': -0.3703856516131397,\n",
       "             '2004': 0.1286927677746492,\n",
       "             '2005': -0.002711814172543415,\n",
       "             '2006': -0.12432410011815283,\n",
       "             '2007': -0.04495261302741375,\n",
       "             '2008': 0.17108360264905237,\n",
       "             '2009': -0.20104534782769504,\n",
       "             '2010': 0.0})"
      ]
     },
     "execution_count": 67,
     "metadata": {},
     "output_type": "execute_result"
    }
   ],
   "source": [
    "authors_in_div1['2103334765']"
   ]
  },
  {
   "cell_type": "code",
   "execution_count": 47,
   "metadata": {},
   "outputs": [],
   "source": [
    "def get_citations(data,year_begin,year_end,delta,delta_key):\n",
    "    history = defaultdict(lambda:defaultdict(lambda:0))\n",
    "\n",
    "    for i,year in enumerate(range(year_begin,year_end+1)):\n",
    "#         print(\"current year %d\" % year)\n",
    "        subset = data.vs.select(year_ge=year,year_le=year+delta)\n",
    "        \n",
    "        for paper in subset:\n",
    "            neighbors = data.neighbors(paper,mode=OUT)\n",
    "            for vtx_idx in neighbors:\n",
    "                vtx = data.vs[vtx_idx]\n",
    "                authors_idxs = vtx['authors_idxs'].split(',')\n",
    "                for a in authors_idxs:\n",
    "                    history[year+delta_key][a] += 1\n",
    "    \n",
    "    return history\n",
    "\n",
    "def get_references(data,year_begin,year_end,delta,delta_key):\n",
    "    history = defaultdict(lambda:defaultdict(lambda:0))\n",
    "\n",
    "    for i,year in enumerate(range(year_begin,year_end+1)):\n",
    "#         print(\"current year %d\" % year)\n",
    "        subset = data.vs.select(year_ge=year,year_le=year+delta)\n",
    "        \n",
    "        for paper in subset:\n",
    "            neighbors = data.neighbors(paper,mode=IN)\n",
    "            for vtx_idx in neighbors:\n",
    "                vtx = data.vs[vtx_idx]\n",
    "                authors_idxs = vtx['authors_idxs'].split(',')\n",
    "                for a in authors_idxs:\n",
    "                    history[year+delta_key][a] += 1\n",
    "    \n",
    "    return history"
   ]
  },
  {
   "cell_type": "code",
   "execution_count": 48,
   "metadata": {},
   "outputs": [],
   "source": [
    "future_citations = get_citations(data,1990,2006,1,0)\n",
    "past_citations = get_citations(data,1988,2004,1,2)"
   ]
  },
  {
   "cell_type": "code",
   "execution_count": 49,
   "metadata": {},
   "outputs": [],
   "source": [
    "top_min25 = util.load('data/authors_ranking_min25_by_year.json')"
   ]
  },
  {
   "cell_type": "code",
   "execution_count": 50,
   "metadata": {
    "scrolled": true
   },
   "outputs": [],
   "source": [
    "# plot 3x3\n",
    "def plot_future_past_div(past_citations,future_citations,authors_in_div,top_min25,cmap,delta,title):\n",
    "    for year,past in past_citations.items():\n",
    "        future = future_citations[year]\n",
    "        print(year)\n",
    "        \n",
    "        plt.figure(figsize=(4,3))\n",
    "        freq = list(past.values())\n",
    "        bin_edges = np.logspace(0, np.log10(max(freq)),4)\n",
    "        hist0,bins0,_ = plt.hist(freq,bins=bin_edges)\n",
    "        plt.title(year)\n",
    "        plt.xlabel('$\\Delta K_{P}$ - citações do passado (2 anos)')\n",
    "        plt.ylabel('número de autores')\n",
    "        plt.xscale(\"log\")\n",
    "        plt.yscale(\"log\")\n",
    "        plt.tight_layout()\n",
    "        plt.savefig(\"hist_delta_K_P_%s.pdf\" % year)\n",
    "        plt.close()\n",
    "\n",
    "        authors_by_bin = defaultdict(lambda:[])\n",
    "        for a,c in past.items():\n",
    "            idx = np.searchsorted(bin_edges,c)\n",
    "            if idx == 0:\n",
    "                idx = 1\n",
    "            elif idx == len(bin_edges):\n",
    "                idx -= 1\n",
    "            authors_by_bin[idx].append(a)\n",
    "\n",
    "        N = len(bins0)\n",
    "#         f, axs = plt.subplots(N//3, 3, sharex=False, sharey=False, figsize=((N//3)*3,9))\n",
    "        f, axs = plt.subplots(3, 1, sharex=False, sharey=False, figsize=(6,12))\n",
    "        f.suptitle(\"%d  (%s)\" % (year,title))\n",
    "        i = 0\n",
    "        to_plot = True\n",
    "        IDXS = sorted(list(authors_by_bin.keys()))\n",
    "        for idx in IDXS:\n",
    "            group = authors_by_bin[idx]\n",
    "            X = []\n",
    "            Y = []\n",
    "            for a in group:\n",
    "#                 if a not in top_min25[str(year)]:\n",
    "#                     continue\n",
    "                try:\n",
    "                    x = authors_in_div[a][str(year-1)]\n",
    "                    y = future[a]\n",
    "                    X.append(x)\n",
    "                    Y.append(y)\n",
    "                except:\n",
    "                    pass\n",
    "            if len(X) <= 1:\n",
    "                to_plot = False\n",
    "                plt.clf()\n",
    "                continue\n",
    "            #print(X[:10],Y[:10])\n",
    "            p = pearsonr(X,Y)[0]\n",
    "            s = spearmanr(X,Y)[0]\n",
    "#             axs[i%3].text(min(X)+0.03,max(Y)*0.9,'p=%.2f\\ns=%.2f' % (p,s))\n",
    "            axs[i%3].scatter(X,Y,alpha=0.6,c=[cmap(idx/N)]*len(X),rasterized=True)\n",
    "            \n",
    "            axs[i%3].set_title('%.2f $<\\Delta K_{P}\\leq$ %.2f pearson = %.2f; spearman =%.2f' % (bins0[idx-1],bins0[idx],p,s))\n",
    "            axs[i%3].xaxis.set_tick_params(labelsize=8)\n",
    "            i+=1\n",
    "        if to_plot:\n",
    "#             plt.tight_layout()\n",
    "            f.text(0.5, 0.04, '$\\Delta d$ - simetria (3 anos do passado)', ha='center')\n",
    "            f.text(0.04, 0.5, '$\\Delta K_{F}$ - citações do futuro (2 anos)', va='center', rotation='vertical')\n",
    "#             plt.tight_layout()\n",
    "            plt.savefig(\"scatter_delta_d_delta_K_F_%s_%d_333.pdf\"%(year,delta))\n",
    "            plt.clf()"
   ]
  },
  {
   "cell_type": "code",
   "execution_count": 60,
   "metadata": {},
   "outputs": [],
   "source": [
    "# plot 1x1\n",
    "def plot_future_past_div_all(past_citations,future_citations,authors_in_div,cmap,delta):\n",
    "    for year,past in past_citations.items():\n",
    "        future = future_citations[year]\n",
    "        print(year)\n",
    "        \n",
    "        plt.figure(figsize=(4,3))\n",
    "        freq = list(past.values())\n",
    "        bin_edges = np.logspace(0, np.log10(max(freq)),10)\n",
    "        hist0,bins0,_ = plt.hist(freq,bins=bin_edges)\n",
    "        plt.title(year)\n",
    "        plt.xlabel('$\\Delta K_{P}$ - citações do passado (2 anos)')\n",
    "        plt.ylabel('número de autores')\n",
    "        plt.xscale(\"log\")\n",
    "        plt.yscale(\"log\")\n",
    "        plt.tight_layout()\n",
    "        plt.savefig(\"hist_delta_K_P_%s.pdf\" % year)\n",
    "        plt.close()\n",
    "        \n",
    "        authors_by_bin = defaultdict(lambda:[])\n",
    "        for a,c in past.items():\n",
    "            idx = np.searchsorted(bin_edges,c)\n",
    "            if idx == 0:\n",
    "                idx = 1\n",
    "            elif idx == len(bin_edges):\n",
    "                idx -= 1\n",
    "            authors_by_bin[idx].append(a)\n",
    "        \n",
    "        plt.figure(figsize=(8,6))\n",
    "        X_all = []\n",
    "        Y_all = []\n",
    "        for b,authors in authors_by_bin.items():\n",
    "            X = []\n",
    "            Y = []\n",
    "            for a in authors:\n",
    "                x = authors_in_div[a][str(year-1)]\n",
    "                y = future[a]\n",
    "                X.append(x)\n",
    "                Y.append(y)\n",
    "            plt.scatter(X,Y,alpha=0.6,label='%.2f $<\\Delta K_{P}\\leq$ %.2f' % (bins0[b-1],bins0[b]),rasterized=True)\n",
    "        \n",
    "        X_all += X\n",
    "        Y_all += Y\n",
    "        \n",
    "        X_all = np.asarray(X_all)\n",
    "        Y_all = np.asarray(Y_all)\n",
    "        \n",
    "        X_all = X_all[~np.isnan(X_all)]\n",
    "        Y_all = Y_all[~np.isnan(Y_all)]\n",
    "        \n",
    "        if len(X_all) < 3:\n",
    "            plt.close()\n",
    "            continue\n",
    "        print(X_all,Y_all)\n",
    "        p = pearsonr(X_all,Y_all)[0]\n",
    "        s = spearmanr(X_all,Y_all)[0]\n",
    "        plt.xlabel('$\\Delta d$ - diversidade (%d anos do passado) p=%.2f\\ns=%.2f'% (delta,p,s))\n",
    "        plt.ylabel('$\\Delta K_{F}$ - citações do futuro (2 anos)')\n",
    "        plt.legend(bbox_to_anchor=(0.9, 0.5, 0.5, 0.5))\n",
    "        plt.tight_layout()\n",
    "        plt.savefig(\"scatter_delta_d_delta_K_F_%s_%d_all.pdf\"%(year,delta))\n",
    "        plt.close()"
   ]
  },
  {
   "cell_type": "code",
   "execution_count": 52,
   "metadata": {},
   "outputs": [],
   "source": [
    "cmaps = OrderedDict()\n",
    "cmaps['Cyclic'] = ['twilight', 'twilight_shifted', 'hsv']\n",
    "cmap = plt.get_cmap(cmaps['Cyclic'][-1])"
   ]
  },
  {
   "cell_type": "code",
   "execution_count": 68,
   "metadata": {},
   "outputs": [
    {
     "name": "stdout",
     "output_type": "stream",
     "text": [
      "1990\n",
      "1991\n",
      "[0 0 0 0 0 0 0 0 0 0 0 0 0 0 0 0 0 0 0 0 0 0 0 0 0 0 0 0 0 0 0 0 0 0 0 0 0\n",
      " 0 0 0 0 0 0 0 0 0 0 0 0 0 0 0 0 0 0 0 0 0 0 0 0 0 0 0 0 0 0 0 0 0 0 0 0 0\n",
      " 0 0 0 0 0 0 0 0 0 0 0 0 0 0 0 0 0 0 0 0 0 0 0 0 0 0 0 0 0 0 0 0 0 0 0 0 0\n",
      " 0 0 0 0 0 0 0 0 0 0 0 0 0 0 0 0 0 0 0 0 0 0] [478 188 187 171 202 283 228 128 366 195 354 308 207 183 386 296 241 309\n",
      " 284 171 186 182 168 168 170 202 168 202 168 163 202 168 168 202 202 148\n",
      " 149 146 168 174 177 163 168 181 176 202 168 205 202 173 127 168 182 202\n",
      " 152 171 177 186 168 168 168 168 178 168 202 168 202 127 168 147 168 170\n",
      " 168 202 168 202 182 182 168 168 181 164 202 188 168 202 168 199 166 176\n",
      " 168 168 176 173 168 193 182 186 152 202 168 168 202 168 202 168 202 176\n",
      " 168 168 182 152 168 173 174 202 202 133 168 161 168 168 202 168 168 152\n",
      " 168 168 168 176 168 176 168]\n"
     ]
    },
    {
     "name": "stderr",
     "output_type": "stream",
     "text": [
      "/home/carol/.local/lib/python3.6/site-packages/scipy/stats/stats.py:3508: PearsonRConstantInputWarning: An input array is constant; the correlation coefficent is not defined.\n",
      "  warnings.warn(PearsonRConstantInputWarning())\n",
      "/home/carol/.local/lib/python3.6/site-packages/numpy/lib/function_base.py:2534: RuntimeWarning: invalid value encountered in true_divide\n",
      "  c /= stddev[:, None]\n",
      "/home/carol/.local/lib/python3.6/site-packages/numpy/lib/function_base.py:2535: RuntimeWarning: invalid value encountered in true_divide\n",
      "  c /= stddev[None, :]\n",
      "/home/carol/.local/lib/python3.6/site-packages/scipy/stats/_distn_infrastructure.py:903: RuntimeWarning: invalid value encountered in greater\n",
      "  return (a < x) & (x < b)\n",
      "/home/carol/.local/lib/python3.6/site-packages/scipy/stats/_distn_infrastructure.py:903: RuntimeWarning: invalid value encountered in less\n",
      "  return (a < x) & (x < b)\n",
      "/home/carol/.local/lib/python3.6/site-packages/scipy/stats/_distn_infrastructure.py:1912: RuntimeWarning: invalid value encountered in less_equal\n",
      "  cond2 = cond0 & (x <= _a)\n"
     ]
    },
    {
     "name": "stdout",
     "output_type": "stream",
     "text": [
      "1992\n",
      "[0 0 0 0 0 0 0 0 0 0 0 0 0 0 0 0 0 0 0 0 0 0 0 0 0 0 0 0 0 0 0 0 0 0 0 0 0\n",
      " 0 0 0 0 0 0 0 0 0 0 0 0 0 0 0 0 0 0 0 0 0 0 0 0 0 0 0 0 0 0 0 0 0 0 0 0 0\n",
      " 0 0 0 0 0 0 0 0 0 0 0 0 0 0 0 0 0 0 0 0 0 0 0 0 0 0 0 0 0 0 0 0 0 0 0 0 0\n",
      " 0 0 0 0 0 0 0 0 0 0 0 0 0 0 0 0 0 0 0 0 0 0 0 0 0 0 0 0 0 0 0 0 0 0 0 0 0\n",
      " 0 0 0 0 0 0 0 0 0 0 0 0 0 0 0 0 0 0 0 0 0 0 0 0 0 0 0 0 0 0 0 0 0 0 0 0 0\n",
      " 0 0 0 0 0 0 0 0 0 0 0 0 0 0 0 0 0 0 0 0 0 0 0 0 0 0 0 0 0 0 0 0 0 0 0 0 0\n",
      " 0 0 0 0 0 0 0 0 0 0 0 0 0 0 0 0 0 0 0 0 0] [223 163 140 341 134 162 114 222 222 328 183 214 113 190 198 211 159 102\n",
      " 135 179 118 255 248 249 202 230 154 130 114 371 192 218 137 119 110 153\n",
      " 112 192 154 189 167 204 239  85 149 104 255 300 172 233 114 234 288 153\n",
      "  89  89 125 195 108 198  60 180 298 228 258 122 362 115 237 245 231 200\n",
      " 219 251 215 230 281 231 264 220 220 220 252 194 209 281 220 220 194 213\n",
      " 248 281 209 220 225 100 216 194 248 281 286 223 193 226 221 109 220 220\n",
      " 220 209 193 252 273 220 194 202 263 248 219 220 205 261 242 205 281 220\n",
      " 223 180 194 100 194 220 109 219 239 219 281 220 248 194 279 231 220 220\n",
      " 258 220 281 199 194 243 194 248 220 219 194 237 281 246 231 223 100 220\n",
      " 220 272 194 220 281 194 220 227 220 220 223 220 281 237 264 180 198 152\n",
      " 223 180 230 220 220 220 263 248 230 108 281 281 150 234 231 194 194 208\n",
      " 220 205 215 205 226 187 195 220 220 194 141 193 194 281 220 220 220 220\n",
      " 219 220 231 194 193 165 226 194 281 270 194 237 220 231 199 194 192 185\n",
      " 183 214 218 251 124 125 115  88 204]\n"
     ]
    },
    {
     "name": "stderr",
     "output_type": "stream",
     "text": [
      "/home/carol/.local/lib/python3.6/site-packages/scipy/stats/stats.py:3508: PearsonRConstantInputWarning: An input array is constant; the correlation coefficent is not defined.\n",
      "  warnings.warn(PearsonRConstantInputWarning())\n",
      "/home/carol/.local/lib/python3.6/site-packages/numpy/lib/function_base.py:2534: RuntimeWarning: invalid value encountered in true_divide\n",
      "  c /= stddev[:, None]\n",
      "/home/carol/.local/lib/python3.6/site-packages/numpy/lib/function_base.py:2535: RuntimeWarning: invalid value encountered in true_divide\n",
      "  c /= stddev[None, :]\n",
      "/home/carol/.local/lib/python3.6/site-packages/scipy/stats/_distn_infrastructure.py:903: RuntimeWarning: invalid value encountered in greater\n",
      "  return (a < x) & (x < b)\n",
      "/home/carol/.local/lib/python3.6/site-packages/scipy/stats/_distn_infrastructure.py:903: RuntimeWarning: invalid value encountered in less\n",
      "  return (a < x) & (x < b)\n",
      "/home/carol/.local/lib/python3.6/site-packages/scipy/stats/_distn_infrastructure.py:1912: RuntimeWarning: invalid value encountered in less_equal\n",
      "  cond2 = cond0 & (x <= _a)\n"
     ]
    },
    {
     "name": "stdout",
     "output_type": "stream",
     "text": [
      "1993\n",
      "[ 0.12104459  0.02087805  0.28165557 -0.03135274  0.06070837  0.12776628\n",
      "  0.05976637 -0.0100516   0.06196344 -0.06718281  0.04685793  0.1310652\n",
      "  0.14218411 -0.14979472 -0.00343574  0.14976386  0.00843082  0.16431116\n",
      "  0.01500034  0.0121929   0.08380708 -0.01261202 -0.02805401  0.12764298\n",
      "  0.04359868  0.149064    0.02763783  0.08040288  0.04090709  0.0030255\n",
      "  0.01007104  0.05640025 -0.05456537  0.09314565 -0.0190366  -0.01608662\n",
      " -0.01456759  0.01258826  0.02343712  0.02145153 -0.01087051  0.03312723\n",
      "  0.06845232  0.01517407 -0.01589843 -0.06370102 -0.04336347 -0.04580211\n",
      " -0.03044565 -0.03218682 -0.00975298 -0.00103178 -0.00544644 -0.02336219\n",
      "  0.06657924  0.03500339 -0.01095307  0.04269682  0.0919691  -0.04106311\n",
      "  0.00400911 -0.03512878  0.07132741  0.07674173  0.06186869  0.33053571\n",
      " -0.03540137 -0.04131521 -0.08710324 -0.07978771 -0.00637172  0.10149869\n",
      "  0.09551431  0.01864488  0.28598701  0.27194385  0.24062717 -0.07945076\n",
      "  0.0939885   0.06989713  0.10901211  0.19799831 -0.03801997 -0.04283434\n",
      " -0.01939353 -0.00275505 -0.00695864  0.00108378  0.05315381 -0.02921609\n",
      "  0.04446505  0.04541918  0.07767291 -0.01452645 -0.03017054 -0.01452645\n",
      "  0.05246376 -0.02921609 -0.02921609 -0.02921609 -0.01630152  0.0148412\n",
      "  0.05352281 -0.03147292 -0.01452645 -0.02921609 -0.02921609  0.05427754\n",
      " -0.06754355 -0.03064507 -0.01452645 -0.03147292 -0.02921609 -0.03045529\n",
      "  0.05138761  0.05427754 -0.03064507 -0.01452645 -0.01670238 -0.01296076\n",
      "  0.05427754 -0.03045529 -0.02921609 -0.01588648 -0.02921609 -0.02921609\n",
      " -0.02921609 -0.06856311  0.05427754 -0.01630152 -0.01452645 -0.02921609\n",
      "  0.05427754  0.05038688 -0.01452645  0.07767291 -0.02921609 -0.02921609\n",
      " -0.04983333 -0.01452645 -0.03094867  0.0520788  -0.01452645 -0.02921609\n",
      " -0.03056174 -0.03435644  0.05427754  0.05427754 -0.02921609 -0.01588648\n",
      " -0.03222656  0.03505464  0.05842253 -0.02921609 -0.01452645 -0.02921609\n",
      " -0.03064507  0.05427754 -0.01452645 -0.03017054 -0.02921609 -0.02921609\n",
      " -0.01509951 -0.02921609 -0.01452645  0.04911568 -0.08940872  0.05427754\n",
      "  0.04272487  0.05427754 -0.03064507 -0.02921609 -0.02921609  0.05427754\n",
      " -0.0330923  -0.01452645  0.07767291 -0.03017054 -0.02921609 -0.02921609\n",
      " -0.02921609 -0.01764352  0.05427754 -0.02921609 -0.01452645  0.05427754\n",
      " -0.02921609 -0.04487787 -0.02921609 -0.02921609 -0.01397506 -0.02921609\n",
      " -0.01452645  0.07767291 -0.03374215 -0.0270534   0.05071579 -0.04444545\n",
      " -0.03056174 -0.0270534   0.06916883 -0.02921609 -0.02921609 -0.02921609\n",
      " -0.01452645 -0.03064507  0.07767291  0.05668543 -0.01452645 -0.01452645\n",
      " -0.01170909 -0.03017054  0.05427754  0.05427754 -0.03147292 -0.02921609\n",
      "  0.0520788   0.04541918  0.0482064  -0.04487787  0.05466354  0.05279022\n",
      " -0.02921609 -0.07813087 -0.02921609  0.05427754 -0.04306893  0.05427754\n",
      "  0.05427754 -0.01452645 -0.02921609 -0.02921609  0.01473651 -0.02921609\n",
      " -0.02921609 -0.0082907   0.05710925 -0.02921609 -0.02921609 -0.03017054\n",
      "  0.05427754  0.05427754  0.05389734  0.04704859  0.05427754 -0.01452645\n",
      " -0.01452645  0.05427754  0.08417749 -0.02921609 -0.03017054 -0.00236413\n",
      " -0.02435948 -0.02386032 -0.02284286 -0.02580619 -0.05021316 -0.02600687\n",
      " -0.01099612  0.00287269  0.08828564] [257 159 395 189 263 309 304 422 221 161 102 113 262 209 218 189 285 192\n",
      " 248 175 220 271 193 191 199 251 212 161 156 109 146 215 205 146 313 161\n",
      " 201 209 234 259 124 171 112 171 149 208 249 120 307  80 127 238 206 436\n",
      " 146 166 316 291 185 196 211 136 204 293 263 113 216  86 370 343 256 110\n",
      " 208  92 146 255 137 261 306 355 240 249 245 275 221 104 121 101 208 215\n",
      " 291 210 230 315 237 262 233 226 226 212 253 156 205 221 318 226 212 204\n",
      " 218 277 291 221 214 205 215 204 276 293 323 231 194 216 227  78 212 226\n",
      " 212 222 193 253 291 212 204 208 258 290 215 226 220 233 251 215 293 226\n",
      " 198 211 204 190 212  78 226 244 203 215 318 226 277 204 291 223 212 226\n",
      " 229 212 315 192 196 204 275 190 272 226 216 204 272 293 263 237 222 226\n",
      " 226 306 204 212 318 190 226 222 226 226 217 212 296 257 284 138 205 154\n",
      " 211 138 206 212 226 212 260 277 221 227 293 318 249 223 204 204 209 226\n",
      " 201 224 202 229 180 190 226 204 226 190 143 179 204 293 226 226 181 212\n",
      " 212 178 204 215 226 237 204 193 127 210 204 316 265 204 282 226 222 212\n",
      " 202 204 197 202 246 220 279  83 235]\n",
      "1994\n",
      "[ 0.03985954 -0.04650973  0.02894311  0.01046215  0.01771955  0.00771565\n",
      " -0.04206291  0.03304038 -0.04289885 -0.0756016  -0.06355115 -0.03780912\n",
      " -0.05255898 -0.0242864   0.03148106 -0.07942578 -0.02435248  0.02008151\n",
      "  0.01540084 -0.05759916  0.06107696  0.07919152  0.03084173 -0.02150423\n",
      " -0.03294184  0.02223958  0.0384123   0.08829095 -0.00560088  0.01309814\n",
      "  0.00779546 -0.10766299 -0.00522058  0.01778011  0.03393281  0.06087451\n",
      "  0.04813753 -0.08701821 -0.07618785  0.0454936  -0.03069492  0.04933541\n",
      "  0.02079947  0.02574396  0.06037218  0.0625435   0.09616838  0.01872728\n",
      "  0.17961791  0.00027681  0.15774304 -0.04544486 -0.01979385  0.06178276\n",
      "  0.12894148  0.06420554  0.09992305  0.00475804  0.00824163  0.00307174\n",
      " -0.00636995 -0.03549493  0.01395309  0.02607513 -0.02241788 -0.01449698\n",
      " -0.04147289  0.10881049 -0.00683843 -0.00979402  0.02220257  0.0175259\n",
      "  0.04642753 -0.02069788  0.00565882 -0.01225425  0.02655586 -0.03023748\n",
      "  0.06315877  0.07489123 -0.05129352  0.00480547 -0.01751078  0.06432552\n",
      "  0.03208398  0.09624995  0.03337162 -0.04448513  0.00570235 -0.0214708\n",
      " -0.01087829 -0.03171231 -0.03655527 -0.090126   -0.07086127  0.10470087\n",
      " -0.03813611  0.02869923  0.06821363  0.03690025  0.00801454  0.06114058\n",
      "  0.0132114   0.07488264  0.07711788 -0.004225    0.07146123  0.05797733\n",
      "  0.06235035  0.02853119  0.12720428  0.104688    0.06067413  0.06067413\n",
      "  0.06067413  0.06393549  0.1115607   0.12409896  0.00857748  0.0620965\n",
      "  0.07146123  0.06067413  0.06067413  0.00832474  0.077467    0.08116406\n",
      "  0.07146123  0.0620965   0.06067413  0.05974276  0.0289521   0.00612183\n",
      "  0.00832474  0.12883091  0.08116406  0.07146123  0.05783895  0.00856237\n",
      "  0.05929477  0.06649178  0.06067413  0.08556814  0.06067413  0.10622851\n",
      "  0.06067413  0.104688    0.07874701  0.00856237  0.06393549  0.05863145\n",
      "  0.06067413  0.00832474  0.07893035  0.06277594  0.01228326  0.06114058\n",
      "  0.10674931  0.06067413  0.05944824  0.06363481  0.05426983  0.00772392\n",
      "  0.07146123  0.06067413  0.0518139   0.13452547 -0.02604399  0.03399016\n",
      "  0.00832474  0.00832474  0.1817042   0.06067413  0.06068057  0.104688\n",
      "  0.00683707  0.06114058  0.07146123  0.06067413  0.08116406  0.08854571\n",
      "  0.00832474  0.0723192   0.05797733  0.06067413  0.06067413  0.06450863\n",
      "  0.06067413  0.07146123  0.04879145  0.09812557  0.11330448  0.00832474\n",
      "  0.09920586  0.00832474  0.08116406  0.06067413  0.06114058  0.06443031\n",
      "  0.00832474  0.08319949  0.07146123  0.01281343  0.05797733  0.05929416\n",
      "  0.06067413  0.06067413  0.06013306  0.10814134  0.00832474  0.06067413\n",
      "  0.07146123  0.00832474  0.06067413  0.06495715  0.06067413  0.104688\n",
      "  0.06067413  0.05780332  0.06067413  0.07146123 -0.00577912  0.05427977\n",
      "  0.06249657  0.0094648   0.00716295  0.0518139   0.06249657  0.08122374\n",
      "  0.06067413  0.06067413  0.06067413  0.06277594  0.08116406  0.00738041\n",
      " -0.004225    0.00420015  0.07146123  0.07146123  0.06182089  0.08162088\n",
      "  0.05797733  0.00832474  0.00832474  0.06261709  0.06067413  0.00772392\n",
      "  0.07488264  0.05950659  0.05957594  0.00966199  0.00881718  0.06067413\n",
      "  0.09819937  0.06067413  0.00832474  0.02034768  0.00878302  0.00856237\n",
      "  0.00832474  0.07146123  0.06067413  0.06067413  0.12777107  0.06067413\n",
      "  0.06067413  0.09767234  0.03892106  0.00658391  0.06114058  0.06067413\n",
      "  0.05797733  0.00832474  0.02112946  0.00856237 -0.00694795  0.00832474\n",
      "  0.104688    0.07146123  0.05984927  0.00832474  0.01063558  0.06067413\n",
      "  0.05797733  0.06050669  0.12947568  0.13918439  0.12675731  0.06694463\n",
      "  0.06752594  0.07049727  0.13918439  0.12867819  0.06879604  0.1000586\n",
      "  0.05879818  0.17779186  0.12947568  0.12867819  0.12639586  0.08771769\n",
      "  0.05556986  0.06729853 -0.00350788] [226 253 162 146 166 262 204 181 319 191 256 161 300 119 240 218 133 226\n",
      " 175 215 306 146  96 116 148 195 346 470 267 179 137 166 239 172 339 283\n",
      " 305 415 385 154 306 333 147 138 182 135  88 160 212 172 229 323 266 319\n",
      " 177 223 247 103 290 282 314 259 214 210 290 122 161 276 336 371 129 188\n",
      " 230 238 213 188 129 156 304 127 107 112 259 225 197 193 285 124 139 138\n",
      " 101 179 168 141 130 327 263 176 181 241 265 281 488 176 431 321 501 325\n",
      " 346 157 345 177 304 304 214 337 174 200 290 301 507 304 178 261 290 433\n",
      " 271 301 181 161 282 188 261 177 368 275 311 263 182 304 178 225 304 175\n",
      " 178 143 300 232 337 396 178 289 240 340 492 247 208 304 296 189 329 304\n",
      " 275 303 168 197 226 309 289 163 202 178 295 177 262 247 507 304 437 243\n",
      " 289 274 193 178 276 186 178 411 244 235 172 289 430 163 410 304 278 326\n",
      " 288 429 275 256 319 191 304 275 500 149 289 178 510 191 304 193 304 176\n",
      " 304 185 178 333 365 271 106 294 267 259 106 163 178 304 178 344 432 229\n",
      " 267 317 275 510 185 310 193 261 289 243 276 178 304 267 308 156 165 304\n",
      " 173 304 163 259 246 140 289 275 304 304 185 178 178 186 188 255 247 276\n",
      " 319 261 204 232 106 289 143 502 236 261 386 304 200 318 192 332 256 247\n",
      " 288 283 423 159 288 360 234 290 223 165 166 284 356 412 297]\n"
     ]
    },
    {
     "name": "stdout",
     "output_type": "stream",
     "text": [
      "1995\n",
      "[ 0.          0.         -0.05505921 ... -1.         -1.\n",
      " -1.        ] [4 4 1 ... 0 1 1]\n",
      "1996\n",
      "[-0.47086632  0.         -1.         ...  0.          0.\n",
      "  0.        ] [ 1 10  1 ...  3  7  3]\n",
      "1997\n",
      "[ 0.07414546  0.10467995  0.02159137 -0.17079516  0.00434623 -0.01076719\n",
      "  0.00434623 -0.00960317  0.01160185  0.00434623 -0.16656193 -0.01633447\n",
      "  0.00103129  0.00608969  0.00434623  0.00831377 -0.00960317  0.01120463\n",
      "  0.00434623  0.00434623  0.0084784   0.00434623  0.00434623 -0.00633076\n",
      "  0.00434623 -0.02037249  0.01885096 -0.00960317 -0.00633076  0.00103129\n",
      " -0.00960317 -0.00960317 -0.00424903  0.00434623 -0.00633076 -0.03038419\n",
      "  0.03774514  0.01783407 -0.17106552  0.01679267  0.13123958  0.11623827\n",
      " -0.00326303 -0.0444917  -0.05200591  0.08844608  0.03534924  0.07841817\n",
      "  0.04731972 -0.04357186 -0.03487382 -0.01321871 -0.06645727  0.03520615\n",
      "  0.04832652  0.0211137  -0.16536441  0.04027561  0.08468975  0.11487713\n",
      "  0.00198312  0.00800776  0.04474382  0.03220789 -0.13724285  0.02643738\n",
      "  0.00242574 -0.04357088 -0.0097247   0.02478078  0.0233617   0.00927602\n",
      "  0.02502325  0.0300129  -0.00564005  0.02241306  0.02502728 -0.02853329\n",
      "  0.00620467 -0.01220146  0.02526664  0.00657393  0.02057744  0.0252918\n",
      "  0.00912391 -0.00674339  0.01994215  0.02502325 -0.0103538   0.02502325\n",
      "  0.02502325  0.01484353  0.00627331  0.02502325 -0.01027298 -0.04260852\n",
      "  0.02699639  0.03799448 -0.00678308 -0.02936205  0.02551095  0.02502325\n",
      "  0.02502325 -0.03093614  0.01911164  0.02744804  0.02502325  0.03160028\n",
      "  0.02502325  0.02502325  0.02908261  0.00118801  0.02502325 -0.00456897\n",
      "  0.00785299  0.00792315  0.0126349   0.00785299  0.00998915 -0.01926976\n",
      " -0.03989504 -0.03636513  0.02502325  0.02502325 -0.00482833  0.00590366\n",
      "  0.02502325  0.02908261 -0.03328449  0.02624955  0.00785299  0.00868542\n",
      " -0.03989504  0.02502325  0.00197512 -0.00899413  0.02908261  0.00684319\n",
      "  0.00620034  0.02502325 -0.00583823  0.02613029  0.02184338  0.01079927\n",
      "  0.02502325  0.02502325 -0.0140656   0.00636266  0.02502325  0.02057744\n",
      " -0.01398655  0.02502325  0.02057744  0.01109228 -0.00055243  0.00620034\n",
      "  0.02502325  0.02297701 -0.00901021 -0.02831623 -0.04380733  0.01997355\n",
      "  0.02908261  0.01630941  0.02502325  0.00761153 -0.02936205 -0.00904057\n",
      "  0.00197512  0.02482451  0.02502325  0.00636266  0.02502325  0.02502325\n",
      "  0.01227272  0.02807217  0.00951927 -0.03034072  0.01554969  0.02159995\n",
      " -0.03309714  0.02045531  0.02910007  0.01451387  0.02502325  0.00620034\n",
      " -0.03734635  0.02699639  0.00380753  0.00785299 -0.00547889 -0.04668045\n",
      " -0.06671915  0.00607699  0.01537882  0.00676074  0.00279243 -0.00298662\n",
      "  0.02661299  0.02632333  0.03014277  0.00479588 -0.03100649  0.01584421\n",
      "  0.02661299  0.02205447  0.01537882  0.01537882  0.0183952   0.0056595\n",
      " -0.00793168  0.01476242  0.01537882 -0.02956748  0.01537882 -0.01321773] [376 419 378 162 766 161 766 148 775 767 266 875 766 767 766 770 148 790\n",
      " 766 766 781 766 766 148 802 250 809 148 148 766 148 148 859 766 148 313\n",
      " 340 413 448 381 579 551 683 475 321 458 427 724 498 503 319 362 377 400\n",
      " 453 294 297 340 562 548 574 455 409 277 197 461 459 292 606 463 330 564\n",
      " 433 390 648 369 428 398 634 389 389 636 479 469 380 483 490 424 597 420\n",
      " 414 420 671 432 392 550 287 427 377 459 428 435 432 385 450 330 416 438\n",
      " 424 432 427 382 432 512 414 590 380 406 425 594 549 546 432 422 407 421\n",
      " 410 441 558 419 399 357 553 337 407 349 435 444 638 432 438 466 428 456\n",
      " 424 432 608 514 432 483 514 432 487 565 535 617 432 393 610 390 473 443\n",
      " 427 466 425 451 455 456 407 460 432 626 425 416 558 455 405 299 376 479\n",
      " 497 409 404 566 432 642 477 295 380 372 343 368 371 564 363 623 506 357\n",
      " 258 300 268 397 302 261 270 301 354 360 345 325 287 289 363 305 361 327]\n",
      "1998\n",
      "[0. 0. 0. ... 0. 0. 0.] [7 3 1 ... 3 2 2]\n",
      "1999\n",
      "[-0.02559892  0.0101332  -0.02735708 -0.0263354  -0.0251     -0.02535197\n",
      "  0.57545484  0.02803728  0.02803728  0.02803728  0.02775122  0.03779796\n",
      "  0.02803728  0.02803728  0.02803728  0.0303813   0.02503709  0.02803728\n",
      "  0.02803728  0.0270485   0.02803728  0.02803728  0.02057308  0.06925196\n",
      "  0.02803728  0.03211637  0.02803728 -0.02374378  0.03309413  0.03309413\n",
      "  0.03309413  0.03309413  0.03309413  0.03309413  0.03309413  0.03888666\n",
      "  0.03309413  0.03309413  0.11638926  0.079761    0.02875048  0.07687206\n",
      "  0.03309413  0.03309413  0.03309413  0.34803483  0.17356966  0.16846731\n",
      "  0.2762007   0.30959259  0.39931574  0.59203365  0.29616351  0.12029251\n",
      "  0.40707224  0.13815232  0.0102772   0.54753567  0.20801531 -0.00186755\n",
      "  0.00843996 -0.0195983  -0.01843462 -0.01617588 -0.01496639 -0.02100217\n",
      " -0.01941924 -0.01702365 -0.01087286 -0.01724636 -0.01951851 -0.01820522\n",
      " -0.01481404 -0.02111772 -0.01462176 -0.019306   -0.01902712 -0.01857643\n",
      " -0.01738923 -0.01866961 -0.00952894 -0.00888818 -0.00923973 -0.01762327\n",
      " -0.01443732 -0.01792916 -0.00958975 -0.01919439 -0.01587358 -0.01909157\n",
      " -0.01857643 -0.02662441 -0.01759667 -0.00896167 -0.01018744 -0.01847136\n",
      " -0.00895458 -0.01523199 -0.01592542 -0.01496639 -0.01496639 -0.01217735\n",
      " -0.01496639 -0.01376132 -0.01496639 -0.01496639 -0.02144518 -0.0214832\n",
      " -0.00118571 -0.01367554 -0.01496639 -0.01496639 -0.01365564 -0.01420596\n",
      " -0.01355318 -0.01496639 -0.01423151 -0.01496639 -0.01496639 -0.01376132\n",
      " -0.01496639 -0.01512552 -0.01682414 -0.01512552 -0.01240013 -0.01638526\n",
      " -0.01512552 -0.01367554 -0.01536257 -0.01796013 -0.01355318 -0.01095045\n",
      " -0.01496639 -0.01464666 -0.0161582  -0.01496639 -0.01496639 -0.0119735\n",
      " -0.02214682 -0.01652346 -0.01496639 -0.01103774 -0.0222144  -0.01576245\n",
      " -0.01496639 -0.01383865] [408 695 551 431 466 445 682 200 211 206 202 298 200 200 200 202 227 200\n",
      " 200 271 200 200 235 247 200 308 200 325 179 179 179 179 179 179 179 256\n",
      " 179 179 384 214 192 394 179 179 179 672 639 675 807 926 522 633 669 466\n",
      " 407 463 758 623 449 459 387 390 527 393 379 588 393 427 446 499 511 494\n",
      " 473 515 414 311 287 496 427 498 472 427 375 393 461 483 369 460 410 469\n",
      " 509 331 507 432 399 514 473 366 369 371 367 405 371 398 361 373 333 378\n",
      " 306 301 367 371 405 370 418 371 526 371 361 411 369 375 381 365 396 400\n",
      " 375 296 366 456 418 406 371 360 400 380 379 403 353 392 371 391 380 388\n",
      " 371 296]\n",
      "2000\n",
      "[ 0.          0.          0.         ... -1.         -0.10575361\n",
      "  0.        ] [ 4  0 12 ...  1  6  3]\n",
      "2001\n",
      "[ 0.  0.  0. ...  0. -1.  0.] [10  9  1 ...  0  0  2]\n",
      "2002\n",
      "[ 2.30322758e-01  4.36626212e-01  6.08454069e-02 -3.31488382e-03\n",
      "  2.27881263e-01 -1.23318382e-01 -9.35817293e-02 -5.01521430e-02\n",
      " -3.35310277e-02 -3.14663247e-02 -4.97459203e-02  1.02418241e-01\n",
      "  2.30463679e-01 -2.33982892e-02  3.33224090e-02  5.77532350e-02\n",
      "  2.79338378e-02  4.63463613e-02  2.66272706e-02  1.03597062e-01\n",
      "  7.23507858e-02  2.45368849e-01  3.72966383e-02 -9.71428868e-02\n",
      " -2.26373954e-02  3.37894280e-03  2.50384398e-02  7.47340418e-02\n",
      "  7.32802758e-02 -3.71825637e-02  6.31019580e-02  1.80553467e-01\n",
      " -5.95213026e-03  3.28911054e-02  9.47555138e-03  1.37807562e-01\n",
      "  1.48443376e-02 -9.58157920e-02 -1.98507470e-02 -5.25786073e-02\n",
      " -1.71260593e-02 -1.04986193e-02  4.52008312e-02 -5.62278810e-02\n",
      " -8.13167412e-03 -1.88042758e-02 -2.22658443e-02 -2.42463224e-02\n",
      " -2.65838659e-02 -1.73861491e-02 -2.10670304e-02 -1.84765222e-02\n",
      " -2.09611633e-02 -1.84765222e-02 -1.96769235e-02 -2.09611633e-02\n",
      " -2.13475297e-02 -2.37443020e-02  2.99608469e-02 -2.13236029e-02\n",
      " -2.09611633e-02 -1.52394191e-02 -1.51396827e-02 -2.16918393e-02\n",
      " -2.02797905e-02 -2.09611633e-02 -2.26373954e-02 -1.64436979e-02\n",
      " -2.03507336e-02 -2.49030515e-02 -2.09611633e-02 -1.84765222e-02\n",
      " -1.80672065e-02 -2.03507336e-02 -2.19526460e-02 -2.30994088e-02\n",
      " -1.97364783e-02 -1.97364783e-02 -1.84765222e-02 -2.30994088e-02\n",
      " -2.32709365e-02 -2.02797905e-02 -1.74462573e-02  2.58167221e-02\n",
      " -2.31719031e-02 -2.02797905e-02 -1.84765222e-02 -2.02797905e-02\n",
      " -1.83981879e-02 -2.64186098e-02 -1.84765222e-02 -2.02797905e-02\n",
      " -2.09611633e-02 -2.30994088e-02 -2.65712245e-02 -1.84765222e-02\n",
      " -2.30994088e-02 -2.09611633e-02 -2.13418738e-02 -2.02797905e-02\n",
      " -1.69122111e-02 -2.32709365e-02 -3.09751583e-02 -2.02797905e-02\n",
      " -1.72084146e-02 -2.09050531e-02 -2.53505775e-02 -1.60064333e-02\n",
      " -1.74767747e-02 -1.84889751e-02 -2.13475297e-02 -1.96769235e-02\n",
      " -2.09611633e-02 -1.98540042e-02 -2.27973748e-02 -2.09611633e-02\n",
      " -2.30994088e-02 -2.26373954e-02 -2.30994088e-02 -1.97694691e-02\n",
      " -1.97694691e-02 -2.36663036e-02 -2.55904732e-02 -2.13475297e-02\n",
      " -2.55904732e-02 -1.78061630e-02 -2.02797905e-02 -2.49030515e-02\n",
      " -2.09611633e-02 -1.84765222e-02 -2.13428803e-02 -1.96769235e-02\n",
      " -3.30652307e-02 -2.30994088e-02 -2.11312033e-02 -2.13388730e-02\n",
      " -1.84765222e-02 -2.02797905e-02 -2.09611633e-02  2.71932297e-02\n",
      " -5.89513088e-03 -2.73898485e-03 -1.37852761e-03 -7.73211774e-03\n",
      " -4.32498264e-03  8.41764196e-04 -1.14048655e-02  1.41714602e-03\n",
      "  2.05817551e-04 -3.80884017e-03  3.53310661e-02 -2.73898485e-03\n",
      " -1.01221967e-03 -2.51646197e-03  5.54412451e-04 -1.44429334e-04\n",
      " -2.73898485e-03 -1.02082574e-02 -2.73898485e-03 -1.83667670e-03\n",
      "  5.34190563e-03] [ 679  732  927 1196  867  891  411  331  399  661  728  821  425  642\n",
      "  882  796  888  792  511  512  446  357  452  760  306  791  622  379\n",
      "  509  579  476  560  510  516  532  700  547  472  601  429  481  464\n",
      "  379  381  382  323  494  523  482  662  554  455  482  457  532  482\n",
      "  501  330  500  426  482  451  456  312  298  461  303  452  371  345\n",
      "  462  477  347  371  546  570  482  460  477  526  409  298  465  527\n",
      "  553  298  458  298  382  578  457  298  482  501  502  477  504  462\n",
      "  287  364  361  406  284  298  443  498  334  455  507  627  525  466\n",
      "  462  485  381  482  522  303  531  291  289  292  512  499  578  471\n",
      "  298  345  482  457  586  486  366  524  526  322  477  298  482  287\n",
      "  386  318  356  343  457  377  359  322  372  329  415  369  350  342\n",
      "  296  299  369  402  365  561  587]\n"
     ]
    },
    {
     "name": "stdout",
     "output_type": "stream",
     "text": [
      "2003\n",
      "[ 0.  0. -1. ...  0.  0.  0.] [6 4 6 ... 0 0 1]\n",
      "2004\n",
      "[ 0.          0.         -0.31392626 ...  1.          0.\n",
      "  0.        ] [10 11 17 ...  0  0  0]\n",
      "2005\n",
      "[0. 0. 0. ... 0. 0. 0.] [8 2 3 ... 1 0 0]\n",
      "2006\n",
      "[-1.          0.17914669  1.         ...  1.          1.\n",
      "  1.        ] [3 5 0 ... 3 2 2]\n"
     ]
    }
   ],
   "source": [
    "plot_future_past_div_all(past_citations,future_citations,authors_in_div1,cmap,1)\n",
    "# plot_future_past_div_all(past_citations,future_citations,authors_in_sym3,cmap,3)"
   ]
  },
  {
   "cell_type": "code",
   "execution_count": 29,
   "metadata": {
    "scrolled": true
   },
   "outputs": [
    {
     "name": "stdout",
     "output_type": "stream",
     "text": [
      "1990\n"
     ]
    },
    {
     "name": "stderr",
     "output_type": "stream",
     "text": [
      "/home/carol/.local/lib/python3.6/site-packages/scipy/stats/stats.py:3508: PearsonRConstantInputWarning: An input array is constant; the correlation coefficent is not defined.\n",
      "  warnings.warn(PearsonRConstantInputWarning())\n",
      "/home/carol/.local/lib/python3.6/site-packages/numpy/lib/function_base.py:2534: RuntimeWarning: invalid value encountered in true_divide\n",
      "  c /= stddev[:, None]\n",
      "/home/carol/.local/lib/python3.6/site-packages/numpy/lib/function_base.py:2535: RuntimeWarning: invalid value encountered in true_divide\n",
      "  c /= stddev[None, :]\n",
      "/home/carol/.local/lib/python3.6/site-packages/scipy/stats/_distn_infrastructure.py:903: RuntimeWarning: invalid value encountered in greater\n",
      "  return (a < x) & (x < b)\n",
      "/home/carol/.local/lib/python3.6/site-packages/scipy/stats/_distn_infrastructure.py:903: RuntimeWarning: invalid value encountered in less\n",
      "  return (a < x) & (x < b)\n",
      "/home/carol/.local/lib/python3.6/site-packages/scipy/stats/_distn_infrastructure.py:1912: RuntimeWarning: invalid value encountered in less_equal\n",
      "  cond2 = cond0 & (x <= _a)\n"
     ]
    },
    {
     "name": "stdout",
     "output_type": "stream",
     "text": [
      "1991\n"
     ]
    },
    {
     "name": "stderr",
     "output_type": "stream",
     "text": [
      "/home/carol/.local/lib/python3.6/site-packages/scipy/stats/stats.py:3508: PearsonRConstantInputWarning: An input array is constant; the correlation coefficent is not defined.\n",
      "  warnings.warn(PearsonRConstantInputWarning())\n",
      "/home/carol/.local/lib/python3.6/site-packages/numpy/lib/function_base.py:2534: RuntimeWarning: invalid value encountered in true_divide\n",
      "  c /= stddev[:, None]\n",
      "/home/carol/.local/lib/python3.6/site-packages/numpy/lib/function_base.py:2535: RuntimeWarning: invalid value encountered in true_divide\n",
      "  c /= stddev[None, :]\n",
      "/home/carol/.local/lib/python3.6/site-packages/scipy/stats/_distn_infrastructure.py:903: RuntimeWarning: invalid value encountered in greater\n",
      "  return (a < x) & (x < b)\n",
      "/home/carol/.local/lib/python3.6/site-packages/scipy/stats/_distn_infrastructure.py:903: RuntimeWarning: invalid value encountered in less\n",
      "  return (a < x) & (x < b)\n",
      "/home/carol/.local/lib/python3.6/site-packages/scipy/stats/_distn_infrastructure.py:1912: RuntimeWarning: invalid value encountered in less_equal\n",
      "  cond2 = cond0 & (x <= _a)\n"
     ]
    },
    {
     "name": "stdout",
     "output_type": "stream",
     "text": [
      "1992\n"
     ]
    },
    {
     "name": "stderr",
     "output_type": "stream",
     "text": [
      "/home/carol/.local/lib/python3.6/site-packages/scipy/stats/stats.py:3508: PearsonRConstantInputWarning: An input array is constant; the correlation coefficent is not defined.\n",
      "  warnings.warn(PearsonRConstantInputWarning())\n",
      "/home/carol/.local/lib/python3.6/site-packages/numpy/lib/function_base.py:2534: RuntimeWarning: invalid value encountered in true_divide\n",
      "  c /= stddev[:, None]\n",
      "/home/carol/.local/lib/python3.6/site-packages/numpy/lib/function_base.py:2535: RuntimeWarning: invalid value encountered in true_divide\n",
      "  c /= stddev[None, :]\n",
      "/home/carol/.local/lib/python3.6/site-packages/scipy/stats/_distn_infrastructure.py:903: RuntimeWarning: invalid value encountered in greater\n",
      "  return (a < x) & (x < b)\n",
      "/home/carol/.local/lib/python3.6/site-packages/scipy/stats/_distn_infrastructure.py:903: RuntimeWarning: invalid value encountered in less\n",
      "  return (a < x) & (x < b)\n",
      "/home/carol/.local/lib/python3.6/site-packages/scipy/stats/_distn_infrastructure.py:1912: RuntimeWarning: invalid value encountered in less_equal\n",
      "  cond2 = cond0 & (x <= _a)\n"
     ]
    },
    {
     "name": "stdout",
     "output_type": "stream",
     "text": [
      "1993\n"
     ]
    },
    {
     "name": "stderr",
     "output_type": "stream",
     "text": [
      "/home/carol/.local/lib/python3.6/site-packages/scipy/stats/stats.py:3508: PearsonRConstantInputWarning: An input array is constant; the correlation coefficent is not defined.\n",
      "  warnings.warn(PearsonRConstantInputWarning())\n",
      "/home/carol/.local/lib/python3.6/site-packages/numpy/lib/function_base.py:2534: RuntimeWarning: invalid value encountered in true_divide\n",
      "  c /= stddev[:, None]\n",
      "/home/carol/.local/lib/python3.6/site-packages/numpy/lib/function_base.py:2535: RuntimeWarning: invalid value encountered in true_divide\n",
      "  c /= stddev[None, :]\n",
      "/home/carol/.local/lib/python3.6/site-packages/scipy/stats/_distn_infrastructure.py:903: RuntimeWarning: invalid value encountered in greater\n",
      "  return (a < x) & (x < b)\n",
      "/home/carol/.local/lib/python3.6/site-packages/scipy/stats/_distn_infrastructure.py:903: RuntimeWarning: invalid value encountered in less\n",
      "  return (a < x) & (x < b)\n",
      "/home/carol/.local/lib/python3.6/site-packages/scipy/stats/_distn_infrastructure.py:1912: RuntimeWarning: invalid value encountered in less_equal\n",
      "  cond2 = cond0 & (x <= _a)\n"
     ]
    },
    {
     "name": "stdout",
     "output_type": "stream",
     "text": [
      "1994\n"
     ]
    },
    {
     "name": "stderr",
     "output_type": "stream",
     "text": [
      "/home/carol/.local/lib/python3.6/site-packages/scipy/stats/stats.py:3508: PearsonRConstantInputWarning: An input array is constant; the correlation coefficent is not defined.\n",
      "  warnings.warn(PearsonRConstantInputWarning())\n",
      "/home/carol/.local/lib/python3.6/site-packages/numpy/lib/function_base.py:2534: RuntimeWarning: invalid value encountered in true_divide\n",
      "  c /= stddev[:, None]\n",
      "/home/carol/.local/lib/python3.6/site-packages/numpy/lib/function_base.py:2535: RuntimeWarning: invalid value encountered in true_divide\n",
      "  c /= stddev[None, :]\n",
      "/home/carol/.local/lib/python3.6/site-packages/scipy/stats/_distn_infrastructure.py:903: RuntimeWarning: invalid value encountered in greater\n",
      "  return (a < x) & (x < b)\n",
      "/home/carol/.local/lib/python3.6/site-packages/scipy/stats/_distn_infrastructure.py:903: RuntimeWarning: invalid value encountered in less\n",
      "  return (a < x) & (x < b)\n",
      "/home/carol/.local/lib/python3.6/site-packages/scipy/stats/_distn_infrastructure.py:1912: RuntimeWarning: invalid value encountered in less_equal\n",
      "  cond2 = cond0 & (x <= _a)\n"
     ]
    },
    {
     "name": "stdout",
     "output_type": "stream",
     "text": [
      "1995\n"
     ]
    },
    {
     "name": "stderr",
     "output_type": "stream",
     "text": [
      "/home/carol/.local/lib/python3.6/site-packages/scipy/stats/stats.py:3508: PearsonRConstantInputWarning: An input array is constant; the correlation coefficent is not defined.\n",
      "  warnings.warn(PearsonRConstantInputWarning())\n",
      "/home/carol/.local/lib/python3.6/site-packages/numpy/lib/function_base.py:2534: RuntimeWarning: invalid value encountered in true_divide\n",
      "  c /= stddev[:, None]\n",
      "/home/carol/.local/lib/python3.6/site-packages/numpy/lib/function_base.py:2535: RuntimeWarning: invalid value encountered in true_divide\n",
      "  c /= stddev[None, :]\n",
      "/home/carol/.local/lib/python3.6/site-packages/scipy/stats/_distn_infrastructure.py:903: RuntimeWarning: invalid value encountered in greater\n",
      "  return (a < x) & (x < b)\n",
      "/home/carol/.local/lib/python3.6/site-packages/scipy/stats/_distn_infrastructure.py:903: RuntimeWarning: invalid value encountered in less\n",
      "  return (a < x) & (x < b)\n",
      "/home/carol/.local/lib/python3.6/site-packages/scipy/stats/_distn_infrastructure.py:1912: RuntimeWarning: invalid value encountered in less_equal\n",
      "  cond2 = cond0 & (x <= _a)\n"
     ]
    },
    {
     "name": "stdout",
     "output_type": "stream",
     "text": [
      "1996\n"
     ]
    },
    {
     "name": "stderr",
     "output_type": "stream",
     "text": [
      "/home/carol/.local/lib/python3.6/site-packages/scipy/stats/stats.py:3508: PearsonRConstantInputWarning: An input array is constant; the correlation coefficent is not defined.\n",
      "  warnings.warn(PearsonRConstantInputWarning())\n",
      "/home/carol/.local/lib/python3.6/site-packages/numpy/lib/function_base.py:2534: RuntimeWarning: invalid value encountered in true_divide\n",
      "  c /= stddev[:, None]\n",
      "/home/carol/.local/lib/python3.6/site-packages/numpy/lib/function_base.py:2535: RuntimeWarning: invalid value encountered in true_divide\n",
      "  c /= stddev[None, :]\n",
      "/home/carol/.local/lib/python3.6/site-packages/scipy/stats/_distn_infrastructure.py:903: RuntimeWarning: invalid value encountered in greater\n",
      "  return (a < x) & (x < b)\n",
      "/home/carol/.local/lib/python3.6/site-packages/scipy/stats/_distn_infrastructure.py:903: RuntimeWarning: invalid value encountered in less\n",
      "  return (a < x) & (x < b)\n",
      "/home/carol/.local/lib/python3.6/site-packages/scipy/stats/_distn_infrastructure.py:1912: RuntimeWarning: invalid value encountered in less_equal\n",
      "  cond2 = cond0 & (x <= _a)\n"
     ]
    },
    {
     "name": "stdout",
     "output_type": "stream",
     "text": [
      "1997\n"
     ]
    },
    {
     "name": "stderr",
     "output_type": "stream",
     "text": [
      "/home/carol/.local/lib/python3.6/site-packages/scipy/stats/stats.py:3508: PearsonRConstantInputWarning: An input array is constant; the correlation coefficent is not defined.\n",
      "  warnings.warn(PearsonRConstantInputWarning())\n",
      "/home/carol/.local/lib/python3.6/site-packages/numpy/lib/function_base.py:2534: RuntimeWarning: invalid value encountered in true_divide\n",
      "  c /= stddev[:, None]\n",
      "/home/carol/.local/lib/python3.6/site-packages/numpy/lib/function_base.py:2535: RuntimeWarning: invalid value encountered in true_divide\n",
      "  c /= stddev[None, :]\n",
      "/home/carol/.local/lib/python3.6/site-packages/scipy/stats/_distn_infrastructure.py:903: RuntimeWarning: invalid value encountered in greater\n",
      "  return (a < x) & (x < b)\n",
      "/home/carol/.local/lib/python3.6/site-packages/scipy/stats/_distn_infrastructure.py:903: RuntimeWarning: invalid value encountered in less\n",
      "  return (a < x) & (x < b)\n",
      "/home/carol/.local/lib/python3.6/site-packages/scipy/stats/_distn_infrastructure.py:1912: RuntimeWarning: invalid value encountered in less_equal\n",
      "  cond2 = cond0 & (x <= _a)\n"
     ]
    },
    {
     "name": "stdout",
     "output_type": "stream",
     "text": [
      "1998\n"
     ]
    },
    {
     "name": "stderr",
     "output_type": "stream",
     "text": [
      "/home/carol/.local/lib/python3.6/site-packages/scipy/stats/stats.py:3508: PearsonRConstantInputWarning: An input array is constant; the correlation coefficent is not defined.\n",
      "  warnings.warn(PearsonRConstantInputWarning())\n",
      "/home/carol/.local/lib/python3.6/site-packages/numpy/lib/function_base.py:2534: RuntimeWarning: invalid value encountered in true_divide\n",
      "  c /= stddev[:, None]\n",
      "/home/carol/.local/lib/python3.6/site-packages/numpy/lib/function_base.py:2535: RuntimeWarning: invalid value encountered in true_divide\n",
      "  c /= stddev[None, :]\n",
      "/home/carol/.local/lib/python3.6/site-packages/scipy/stats/_distn_infrastructure.py:903: RuntimeWarning: invalid value encountered in greater\n",
      "  return (a < x) & (x < b)\n",
      "/home/carol/.local/lib/python3.6/site-packages/scipy/stats/_distn_infrastructure.py:903: RuntimeWarning: invalid value encountered in less\n",
      "  return (a < x) & (x < b)\n",
      "/home/carol/.local/lib/python3.6/site-packages/scipy/stats/_distn_infrastructure.py:1912: RuntimeWarning: invalid value encountered in less_equal\n",
      "  cond2 = cond0 & (x <= _a)\n"
     ]
    },
    {
     "name": "stdout",
     "output_type": "stream",
     "text": [
      "1999\n"
     ]
    },
    {
     "name": "stderr",
     "output_type": "stream",
     "text": [
      "/home/carol/.local/lib/python3.6/site-packages/scipy/stats/stats.py:3508: PearsonRConstantInputWarning: An input array is constant; the correlation coefficent is not defined.\n",
      "  warnings.warn(PearsonRConstantInputWarning())\n",
      "/home/carol/.local/lib/python3.6/site-packages/numpy/lib/function_base.py:2534: RuntimeWarning: invalid value encountered in true_divide\n",
      "  c /= stddev[:, None]\n",
      "/home/carol/.local/lib/python3.6/site-packages/numpy/lib/function_base.py:2535: RuntimeWarning: invalid value encountered in true_divide\n",
      "  c /= stddev[None, :]\n",
      "/home/carol/.local/lib/python3.6/site-packages/scipy/stats/_distn_infrastructure.py:903: RuntimeWarning: invalid value encountered in greater\n",
      "  return (a < x) & (x < b)\n",
      "/home/carol/.local/lib/python3.6/site-packages/scipy/stats/_distn_infrastructure.py:903: RuntimeWarning: invalid value encountered in less\n",
      "  return (a < x) & (x < b)\n",
      "/home/carol/.local/lib/python3.6/site-packages/scipy/stats/_distn_infrastructure.py:1912: RuntimeWarning: invalid value encountered in less_equal\n",
      "  cond2 = cond0 & (x <= _a)\n"
     ]
    },
    {
     "name": "stdout",
     "output_type": "stream",
     "text": [
      "2000\n"
     ]
    },
    {
     "name": "stderr",
     "output_type": "stream",
     "text": [
      "/home/carol/.local/lib/python3.6/site-packages/scipy/stats/stats.py:3508: PearsonRConstantInputWarning: An input array is constant; the correlation coefficent is not defined.\n",
      "  warnings.warn(PearsonRConstantInputWarning())\n",
      "/home/carol/.local/lib/python3.6/site-packages/numpy/lib/function_base.py:2534: RuntimeWarning: invalid value encountered in true_divide\n",
      "  c /= stddev[:, None]\n",
      "/home/carol/.local/lib/python3.6/site-packages/numpy/lib/function_base.py:2535: RuntimeWarning: invalid value encountered in true_divide\n",
      "  c /= stddev[None, :]\n",
      "/home/carol/.local/lib/python3.6/site-packages/scipy/stats/_distn_infrastructure.py:903: RuntimeWarning: invalid value encountered in greater\n",
      "  return (a < x) & (x < b)\n",
      "/home/carol/.local/lib/python3.6/site-packages/scipy/stats/_distn_infrastructure.py:903: RuntimeWarning: invalid value encountered in less\n",
      "  return (a < x) & (x < b)\n",
      "/home/carol/.local/lib/python3.6/site-packages/scipy/stats/_distn_infrastructure.py:1912: RuntimeWarning: invalid value encountered in less_equal\n",
      "  cond2 = cond0 & (x <= _a)\n"
     ]
    },
    {
     "name": "stdout",
     "output_type": "stream",
     "text": [
      "2001\n"
     ]
    },
    {
     "name": "stderr",
     "output_type": "stream",
     "text": [
      "/home/carol/.local/lib/python3.6/site-packages/scipy/stats/stats.py:3508: PearsonRConstantInputWarning: An input array is constant; the correlation coefficent is not defined.\n",
      "  warnings.warn(PearsonRConstantInputWarning())\n",
      "/home/carol/.local/lib/python3.6/site-packages/numpy/lib/function_base.py:2534: RuntimeWarning: invalid value encountered in true_divide\n",
      "  c /= stddev[:, None]\n",
      "/home/carol/.local/lib/python3.6/site-packages/numpy/lib/function_base.py:2535: RuntimeWarning: invalid value encountered in true_divide\n",
      "  c /= stddev[None, :]\n",
      "/home/carol/.local/lib/python3.6/site-packages/scipy/stats/_distn_infrastructure.py:903: RuntimeWarning: invalid value encountered in greater\n",
      "  return (a < x) & (x < b)\n",
      "/home/carol/.local/lib/python3.6/site-packages/scipy/stats/_distn_infrastructure.py:903: RuntimeWarning: invalid value encountered in less\n",
      "  return (a < x) & (x < b)\n",
      "/home/carol/.local/lib/python3.6/site-packages/scipy/stats/_distn_infrastructure.py:1912: RuntimeWarning: invalid value encountered in less_equal\n",
      "  cond2 = cond0 & (x <= _a)\n"
     ]
    },
    {
     "name": "stdout",
     "output_type": "stream",
     "text": [
      "2002\n"
     ]
    },
    {
     "name": "stderr",
     "output_type": "stream",
     "text": [
      "/home/carol/.local/lib/python3.6/site-packages/scipy/stats/stats.py:3508: PearsonRConstantInputWarning: An input array is constant; the correlation coefficent is not defined.\n",
      "  warnings.warn(PearsonRConstantInputWarning())\n",
      "/home/carol/.local/lib/python3.6/site-packages/numpy/lib/function_base.py:2534: RuntimeWarning: invalid value encountered in true_divide\n",
      "  c /= stddev[:, None]\n",
      "/home/carol/.local/lib/python3.6/site-packages/numpy/lib/function_base.py:2535: RuntimeWarning: invalid value encountered in true_divide\n",
      "  c /= stddev[None, :]\n",
      "/home/carol/.local/lib/python3.6/site-packages/scipy/stats/_distn_infrastructure.py:903: RuntimeWarning: invalid value encountered in greater\n",
      "  return (a < x) & (x < b)\n",
      "/home/carol/.local/lib/python3.6/site-packages/scipy/stats/_distn_infrastructure.py:903: RuntimeWarning: invalid value encountered in less\n",
      "  return (a < x) & (x < b)\n",
      "/home/carol/.local/lib/python3.6/site-packages/scipy/stats/_distn_infrastructure.py:1912: RuntimeWarning: invalid value encountered in less_equal\n",
      "  cond2 = cond0 & (x <= _a)\n"
     ]
    },
    {
     "name": "stdout",
     "output_type": "stream",
     "text": [
      "2003\n"
     ]
    },
    {
     "name": "stderr",
     "output_type": "stream",
     "text": [
      "/home/carol/.local/lib/python3.6/site-packages/scipy/stats/stats.py:3508: PearsonRConstantInputWarning: An input array is constant; the correlation coefficent is not defined.\n",
      "  warnings.warn(PearsonRConstantInputWarning())\n",
      "/home/carol/.local/lib/python3.6/site-packages/numpy/lib/function_base.py:2534: RuntimeWarning: invalid value encountered in true_divide\n",
      "  c /= stddev[:, None]\n",
      "/home/carol/.local/lib/python3.6/site-packages/numpy/lib/function_base.py:2535: RuntimeWarning: invalid value encountered in true_divide\n",
      "  c /= stddev[None, :]\n",
      "/home/carol/.local/lib/python3.6/site-packages/scipy/stats/_distn_infrastructure.py:903: RuntimeWarning: invalid value encountered in greater\n",
      "  return (a < x) & (x < b)\n",
      "/home/carol/.local/lib/python3.6/site-packages/scipy/stats/_distn_infrastructure.py:903: RuntimeWarning: invalid value encountered in less\n",
      "  return (a < x) & (x < b)\n",
      "/home/carol/.local/lib/python3.6/site-packages/scipy/stats/_distn_infrastructure.py:1912: RuntimeWarning: invalid value encountered in less_equal\n",
      "  cond2 = cond0 & (x <= _a)\n"
     ]
    },
    {
     "name": "stdout",
     "output_type": "stream",
     "text": [
      "2004\n"
     ]
    },
    {
     "name": "stderr",
     "output_type": "stream",
     "text": [
      "/home/carol/.local/lib/python3.6/site-packages/scipy/stats/stats.py:3508: PearsonRConstantInputWarning: An input array is constant; the correlation coefficent is not defined.\n",
      "  warnings.warn(PearsonRConstantInputWarning())\n",
      "/home/carol/.local/lib/python3.6/site-packages/numpy/lib/function_base.py:2534: RuntimeWarning: invalid value encountered in true_divide\n",
      "  c /= stddev[:, None]\n",
      "/home/carol/.local/lib/python3.6/site-packages/numpy/lib/function_base.py:2535: RuntimeWarning: invalid value encountered in true_divide\n",
      "  c /= stddev[None, :]\n",
      "/home/carol/.local/lib/python3.6/site-packages/scipy/stats/_distn_infrastructure.py:903: RuntimeWarning: invalid value encountered in greater\n",
      "  return (a < x) & (x < b)\n",
      "/home/carol/.local/lib/python3.6/site-packages/scipy/stats/_distn_infrastructure.py:903: RuntimeWarning: invalid value encountered in less\n",
      "  return (a < x) & (x < b)\n",
      "/home/carol/.local/lib/python3.6/site-packages/scipy/stats/_distn_infrastructure.py:1912: RuntimeWarning: invalid value encountered in less_equal\n",
      "  cond2 = cond0 & (x <= _a)\n"
     ]
    },
    {
     "name": "stdout",
     "output_type": "stream",
     "text": [
      "2005\n"
     ]
    },
    {
     "name": "stderr",
     "output_type": "stream",
     "text": [
      "/home/carol/.local/lib/python3.6/site-packages/scipy/stats/stats.py:3508: PearsonRConstantInputWarning: An input array is constant; the correlation coefficent is not defined.\n",
      "  warnings.warn(PearsonRConstantInputWarning())\n",
      "/home/carol/.local/lib/python3.6/site-packages/numpy/lib/function_base.py:2534: RuntimeWarning: invalid value encountered in true_divide\n",
      "  c /= stddev[:, None]\n",
      "/home/carol/.local/lib/python3.6/site-packages/numpy/lib/function_base.py:2535: RuntimeWarning: invalid value encountered in true_divide\n",
      "  c /= stddev[None, :]\n",
      "/home/carol/.local/lib/python3.6/site-packages/scipy/stats/_distn_infrastructure.py:903: RuntimeWarning: invalid value encountered in greater\n",
      "  return (a < x) & (x < b)\n",
      "/home/carol/.local/lib/python3.6/site-packages/scipy/stats/_distn_infrastructure.py:903: RuntimeWarning: invalid value encountered in less\n",
      "  return (a < x) & (x < b)\n",
      "/home/carol/.local/lib/python3.6/site-packages/scipy/stats/_distn_infrastructure.py:1912: RuntimeWarning: invalid value encountered in less_equal\n",
      "  cond2 = cond0 & (x <= _a)\n"
     ]
    },
    {
     "name": "stdout",
     "output_type": "stream",
     "text": [
      "2006\n"
     ]
    },
    {
     "name": "stderr",
     "output_type": "stream",
     "text": [
      "/home/carol/.local/lib/python3.6/site-packages/scipy/stats/stats.py:3508: PearsonRConstantInputWarning: An input array is constant; the correlation coefficent is not defined.\n",
      "  warnings.warn(PearsonRConstantInputWarning())\n",
      "/home/carol/.local/lib/python3.6/site-packages/numpy/lib/function_base.py:2534: RuntimeWarning: invalid value encountered in true_divide\n",
      "  c /= stddev[:, None]\n",
      "/home/carol/.local/lib/python3.6/site-packages/numpy/lib/function_base.py:2535: RuntimeWarning: invalid value encountered in true_divide\n",
      "  c /= stddev[None, :]\n",
      "/home/carol/.local/lib/python3.6/site-packages/scipy/stats/_distn_infrastructure.py:903: RuntimeWarning: invalid value encountered in greater\n",
      "  return (a < x) & (x < b)\n",
      "/home/carol/.local/lib/python3.6/site-packages/scipy/stats/_distn_infrastructure.py:903: RuntimeWarning: invalid value encountered in less\n",
      "  return (a < x) & (x < b)\n",
      "/home/carol/.local/lib/python3.6/site-packages/scipy/stats/_distn_infrastructure.py:1912: RuntimeWarning: invalid value encountered in less_equal\n",
      "  cond2 = cond0 & (x <= _a)\n"
     ]
    },
    {
     "name": "stdout",
     "output_type": "stream",
     "text": [
      "1990\n"
     ]
    },
    {
     "name": "stderr",
     "output_type": "stream",
     "text": [
      "/home/carol/.local/lib/python3.6/site-packages/scipy/stats/stats.py:3508: PearsonRConstantInputWarning: An input array is constant; the correlation coefficent is not defined.\n",
      "  warnings.warn(PearsonRConstantInputWarning())\n",
      "/home/carol/.local/lib/python3.6/site-packages/numpy/lib/function_base.py:2534: RuntimeWarning: invalid value encountered in true_divide\n",
      "  c /= stddev[:, None]\n",
      "/home/carol/.local/lib/python3.6/site-packages/numpy/lib/function_base.py:2535: RuntimeWarning: invalid value encountered in true_divide\n",
      "  c /= stddev[None, :]\n",
      "/home/carol/.local/lib/python3.6/site-packages/scipy/stats/_distn_infrastructure.py:903: RuntimeWarning: invalid value encountered in greater\n",
      "  return (a < x) & (x < b)\n",
      "/home/carol/.local/lib/python3.6/site-packages/scipy/stats/_distn_infrastructure.py:903: RuntimeWarning: invalid value encountered in less\n",
      "  return (a < x) & (x < b)\n",
      "/home/carol/.local/lib/python3.6/site-packages/scipy/stats/_distn_infrastructure.py:1912: RuntimeWarning: invalid value encountered in less_equal\n",
      "  cond2 = cond0 & (x <= _a)\n"
     ]
    },
    {
     "name": "stdout",
     "output_type": "stream",
     "text": [
      "1991\n"
     ]
    },
    {
     "name": "stderr",
     "output_type": "stream",
     "text": [
      "/home/carol/.local/lib/python3.6/site-packages/scipy/stats/stats.py:3508: PearsonRConstantInputWarning: An input array is constant; the correlation coefficent is not defined.\n",
      "  warnings.warn(PearsonRConstantInputWarning())\n",
      "/home/carol/.local/lib/python3.6/site-packages/numpy/lib/function_base.py:2534: RuntimeWarning: invalid value encountered in true_divide\n",
      "  c /= stddev[:, None]\n",
      "/home/carol/.local/lib/python3.6/site-packages/numpy/lib/function_base.py:2535: RuntimeWarning: invalid value encountered in true_divide\n",
      "  c /= stddev[None, :]\n",
      "/home/carol/.local/lib/python3.6/site-packages/scipy/stats/_distn_infrastructure.py:903: RuntimeWarning: invalid value encountered in greater\n",
      "  return (a < x) & (x < b)\n",
      "/home/carol/.local/lib/python3.6/site-packages/scipy/stats/_distn_infrastructure.py:903: RuntimeWarning: invalid value encountered in less\n",
      "  return (a < x) & (x < b)\n",
      "/home/carol/.local/lib/python3.6/site-packages/scipy/stats/_distn_infrastructure.py:1912: RuntimeWarning: invalid value encountered in less_equal\n",
      "  cond2 = cond0 & (x <= _a)\n"
     ]
    },
    {
     "name": "stdout",
     "output_type": "stream",
     "text": [
      "1992\n"
     ]
    },
    {
     "name": "stderr",
     "output_type": "stream",
     "text": [
      "/home/carol/.local/lib/python3.6/site-packages/scipy/stats/stats.py:3508: PearsonRConstantInputWarning: An input array is constant; the correlation coefficent is not defined.\n",
      "  warnings.warn(PearsonRConstantInputWarning())\n",
      "/home/carol/.local/lib/python3.6/site-packages/numpy/lib/function_base.py:2534: RuntimeWarning: invalid value encountered in true_divide\n",
      "  c /= stddev[:, None]\n",
      "/home/carol/.local/lib/python3.6/site-packages/numpy/lib/function_base.py:2535: RuntimeWarning: invalid value encountered in true_divide\n",
      "  c /= stddev[None, :]\n",
      "/home/carol/.local/lib/python3.6/site-packages/scipy/stats/_distn_infrastructure.py:903: RuntimeWarning: invalid value encountered in greater\n",
      "  return (a < x) & (x < b)\n",
      "/home/carol/.local/lib/python3.6/site-packages/scipy/stats/_distn_infrastructure.py:903: RuntimeWarning: invalid value encountered in less\n",
      "  return (a < x) & (x < b)\n",
      "/home/carol/.local/lib/python3.6/site-packages/scipy/stats/_distn_infrastructure.py:1912: RuntimeWarning: invalid value encountered in less_equal\n",
      "  cond2 = cond0 & (x <= _a)\n"
     ]
    },
    {
     "name": "stdout",
     "output_type": "stream",
     "text": [
      "1993\n"
     ]
    },
    {
     "name": "stderr",
     "output_type": "stream",
     "text": [
      "/home/carol/.local/lib/python3.6/site-packages/ipykernel_launcher.py:7: RuntimeWarning: More than 20 figures have been opened. Figures created through the pyplot interface (`matplotlib.pyplot.figure`) are retained until explicitly closed and may consume too much memory. (To control this warning, see the rcParam `figure.max_open_warning`).\n",
      "  import sys\n",
      "/home/carol/.local/lib/python3.6/site-packages/ipykernel_launcher.py:31: RuntimeWarning: More than 20 figures have been opened. Figures created through the pyplot interface (`matplotlib.pyplot.figure`) are retained until explicitly closed and may consume too much memory. (To control this warning, see the rcParam `figure.max_open_warning`).\n",
      "/home/carol/.local/lib/python3.6/site-packages/scipy/stats/stats.py:3508: PearsonRConstantInputWarning: An input array is constant; the correlation coefficent is not defined.\n",
      "  warnings.warn(PearsonRConstantInputWarning())\n",
      "/home/carol/.local/lib/python3.6/site-packages/numpy/lib/function_base.py:2534: RuntimeWarning: invalid value encountered in true_divide\n",
      "  c /= stddev[:, None]\n",
      "/home/carol/.local/lib/python3.6/site-packages/numpy/lib/function_base.py:2535: RuntimeWarning: invalid value encountered in true_divide\n",
      "  c /= stddev[None, :]\n",
      "/home/carol/.local/lib/python3.6/site-packages/scipy/stats/_distn_infrastructure.py:903: RuntimeWarning: invalid value encountered in greater\n",
      "  return (a < x) & (x < b)\n",
      "/home/carol/.local/lib/python3.6/site-packages/scipy/stats/_distn_infrastructure.py:903: RuntimeWarning: invalid value encountered in less\n",
      "  return (a < x) & (x < b)\n",
      "/home/carol/.local/lib/python3.6/site-packages/scipy/stats/_distn_infrastructure.py:1912: RuntimeWarning: invalid value encountered in less_equal\n",
      "  cond2 = cond0 & (x <= _a)\n"
     ]
    },
    {
     "name": "stdout",
     "output_type": "stream",
     "text": [
      "1994\n"
     ]
    },
    {
     "name": "stderr",
     "output_type": "stream",
     "text": [
      "/home/carol/.local/lib/python3.6/site-packages/ipykernel_launcher.py:7: RuntimeWarning: More than 20 figures have been opened. Figures created through the pyplot interface (`matplotlib.pyplot.figure`) are retained until explicitly closed and may consume too much memory. (To control this warning, see the rcParam `figure.max_open_warning`).\n",
      "  import sys\n",
      "/home/carol/.local/lib/python3.6/site-packages/ipykernel_launcher.py:31: RuntimeWarning: More than 20 figures have been opened. Figures created through the pyplot interface (`matplotlib.pyplot.figure`) are retained until explicitly closed and may consume too much memory. (To control this warning, see the rcParam `figure.max_open_warning`).\n",
      "/home/carol/.local/lib/python3.6/site-packages/scipy/stats/stats.py:3508: PearsonRConstantInputWarning: An input array is constant; the correlation coefficent is not defined.\n",
      "  warnings.warn(PearsonRConstantInputWarning())\n",
      "/home/carol/.local/lib/python3.6/site-packages/numpy/lib/function_base.py:2534: RuntimeWarning: invalid value encountered in true_divide\n",
      "  c /= stddev[:, None]\n",
      "/home/carol/.local/lib/python3.6/site-packages/numpy/lib/function_base.py:2535: RuntimeWarning: invalid value encountered in true_divide\n",
      "  c /= stddev[None, :]\n",
      "/home/carol/.local/lib/python3.6/site-packages/scipy/stats/_distn_infrastructure.py:903: RuntimeWarning: invalid value encountered in greater\n",
      "  return (a < x) & (x < b)\n",
      "/home/carol/.local/lib/python3.6/site-packages/scipy/stats/_distn_infrastructure.py:903: RuntimeWarning: invalid value encountered in less\n",
      "  return (a < x) & (x < b)\n",
      "/home/carol/.local/lib/python3.6/site-packages/scipy/stats/_distn_infrastructure.py:1912: RuntimeWarning: invalid value encountered in less_equal\n",
      "  cond2 = cond0 & (x <= _a)\n"
     ]
    },
    {
     "name": "stdout",
     "output_type": "stream",
     "text": [
      "1995\n"
     ]
    },
    {
     "name": "stderr",
     "output_type": "stream",
     "text": [
      "/home/carol/.local/lib/python3.6/site-packages/ipykernel_launcher.py:7: RuntimeWarning: More than 20 figures have been opened. Figures created through the pyplot interface (`matplotlib.pyplot.figure`) are retained until explicitly closed and may consume too much memory. (To control this warning, see the rcParam `figure.max_open_warning`).\n",
      "  import sys\n",
      "/home/carol/.local/lib/python3.6/site-packages/ipykernel_launcher.py:31: RuntimeWarning: More than 20 figures have been opened. Figures created through the pyplot interface (`matplotlib.pyplot.figure`) are retained until explicitly closed and may consume too much memory. (To control this warning, see the rcParam `figure.max_open_warning`).\n",
      "/home/carol/.local/lib/python3.6/site-packages/scipy/stats/stats.py:3508: PearsonRConstantInputWarning: An input array is constant; the correlation coefficent is not defined.\n",
      "  warnings.warn(PearsonRConstantInputWarning())\n",
      "/home/carol/.local/lib/python3.6/site-packages/numpy/lib/function_base.py:2534: RuntimeWarning: invalid value encountered in true_divide\n",
      "  c /= stddev[:, None]\n",
      "/home/carol/.local/lib/python3.6/site-packages/numpy/lib/function_base.py:2535: RuntimeWarning: invalid value encountered in true_divide\n",
      "  c /= stddev[None, :]\n",
      "/home/carol/.local/lib/python3.6/site-packages/scipy/stats/_distn_infrastructure.py:903: RuntimeWarning: invalid value encountered in greater\n",
      "  return (a < x) & (x < b)\n",
      "/home/carol/.local/lib/python3.6/site-packages/scipy/stats/_distn_infrastructure.py:903: RuntimeWarning: invalid value encountered in less\n",
      "  return (a < x) & (x < b)\n",
      "/home/carol/.local/lib/python3.6/site-packages/scipy/stats/_distn_infrastructure.py:1912: RuntimeWarning: invalid value encountered in less_equal\n",
      "  cond2 = cond0 & (x <= _a)\n"
     ]
    },
    {
     "name": "stdout",
     "output_type": "stream",
     "text": [
      "1996\n"
     ]
    },
    {
     "name": "stderr",
     "output_type": "stream",
     "text": [
      "/home/carol/.local/lib/python3.6/site-packages/ipykernel_launcher.py:7: RuntimeWarning: More than 20 figures have been opened. Figures created through the pyplot interface (`matplotlib.pyplot.figure`) are retained until explicitly closed and may consume too much memory. (To control this warning, see the rcParam `figure.max_open_warning`).\n",
      "  import sys\n",
      "/home/carol/.local/lib/python3.6/site-packages/ipykernel_launcher.py:31: RuntimeWarning: More than 20 figures have been opened. Figures created through the pyplot interface (`matplotlib.pyplot.figure`) are retained until explicitly closed and may consume too much memory. (To control this warning, see the rcParam `figure.max_open_warning`).\n",
      "/home/carol/.local/lib/python3.6/site-packages/scipy/stats/stats.py:3508: PearsonRConstantInputWarning: An input array is constant; the correlation coefficent is not defined.\n",
      "  warnings.warn(PearsonRConstantInputWarning())\n",
      "/home/carol/.local/lib/python3.6/site-packages/numpy/lib/function_base.py:2534: RuntimeWarning: invalid value encountered in true_divide\n",
      "  c /= stddev[:, None]\n",
      "/home/carol/.local/lib/python3.6/site-packages/numpy/lib/function_base.py:2535: RuntimeWarning: invalid value encountered in true_divide\n",
      "  c /= stddev[None, :]\n",
      "/home/carol/.local/lib/python3.6/site-packages/scipy/stats/_distn_infrastructure.py:903: RuntimeWarning: invalid value encountered in greater\n",
      "  return (a < x) & (x < b)\n",
      "/home/carol/.local/lib/python3.6/site-packages/scipy/stats/_distn_infrastructure.py:903: RuntimeWarning: invalid value encountered in less\n",
      "  return (a < x) & (x < b)\n",
      "/home/carol/.local/lib/python3.6/site-packages/scipy/stats/_distn_infrastructure.py:1912: RuntimeWarning: invalid value encountered in less_equal\n",
      "  cond2 = cond0 & (x <= _a)\n"
     ]
    },
    {
     "name": "stdout",
     "output_type": "stream",
     "text": [
      "1997\n"
     ]
    },
    {
     "name": "stderr",
     "output_type": "stream",
     "text": [
      "/home/carol/.local/lib/python3.6/site-packages/ipykernel_launcher.py:7: RuntimeWarning: More than 20 figures have been opened. Figures created through the pyplot interface (`matplotlib.pyplot.figure`) are retained until explicitly closed and may consume too much memory. (To control this warning, see the rcParam `figure.max_open_warning`).\n",
      "  import sys\n",
      "/home/carol/.local/lib/python3.6/site-packages/ipykernel_launcher.py:31: RuntimeWarning: More than 20 figures have been opened. Figures created through the pyplot interface (`matplotlib.pyplot.figure`) are retained until explicitly closed and may consume too much memory. (To control this warning, see the rcParam `figure.max_open_warning`).\n",
      "/home/carol/.local/lib/python3.6/site-packages/scipy/stats/stats.py:3508: PearsonRConstantInputWarning: An input array is constant; the correlation coefficent is not defined.\n",
      "  warnings.warn(PearsonRConstantInputWarning())\n",
      "/home/carol/.local/lib/python3.6/site-packages/numpy/lib/function_base.py:2534: RuntimeWarning: invalid value encountered in true_divide\n",
      "  c /= stddev[:, None]\n",
      "/home/carol/.local/lib/python3.6/site-packages/numpy/lib/function_base.py:2535: RuntimeWarning: invalid value encountered in true_divide\n",
      "  c /= stddev[None, :]\n",
      "/home/carol/.local/lib/python3.6/site-packages/scipy/stats/_distn_infrastructure.py:903: RuntimeWarning: invalid value encountered in greater\n",
      "  return (a < x) & (x < b)\n",
      "/home/carol/.local/lib/python3.6/site-packages/scipy/stats/_distn_infrastructure.py:903: RuntimeWarning: invalid value encountered in less\n",
      "  return (a < x) & (x < b)\n",
      "/home/carol/.local/lib/python3.6/site-packages/scipy/stats/_distn_infrastructure.py:1912: RuntimeWarning: invalid value encountered in less_equal\n",
      "  cond2 = cond0 & (x <= _a)\n"
     ]
    },
    {
     "name": "stdout",
     "output_type": "stream",
     "text": [
      "1998\n"
     ]
    },
    {
     "name": "stderr",
     "output_type": "stream",
     "text": [
      "/home/carol/.local/lib/python3.6/site-packages/ipykernel_launcher.py:7: RuntimeWarning: More than 20 figures have been opened. Figures created through the pyplot interface (`matplotlib.pyplot.figure`) are retained until explicitly closed and may consume too much memory. (To control this warning, see the rcParam `figure.max_open_warning`).\n",
      "  import sys\n",
      "/home/carol/.local/lib/python3.6/site-packages/ipykernel_launcher.py:31: RuntimeWarning: More than 20 figures have been opened. Figures created through the pyplot interface (`matplotlib.pyplot.figure`) are retained until explicitly closed and may consume too much memory. (To control this warning, see the rcParam `figure.max_open_warning`).\n"
     ]
    },
    {
     "name": "stdout",
     "output_type": "stream",
     "text": [
      "1999\n"
     ]
    },
    {
     "name": "stderr",
     "output_type": "stream",
     "text": [
      "/home/carol/.local/lib/python3.6/site-packages/ipykernel_launcher.py:7: RuntimeWarning: More than 20 figures have been opened. Figures created through the pyplot interface (`matplotlib.pyplot.figure`) are retained until explicitly closed and may consume too much memory. (To control this warning, see the rcParam `figure.max_open_warning`).\n",
      "  import sys\n",
      "/home/carol/.local/lib/python3.6/site-packages/ipykernel_launcher.py:31: RuntimeWarning: More than 20 figures have been opened. Figures created through the pyplot interface (`matplotlib.pyplot.figure`) are retained until explicitly closed and may consume too much memory. (To control this warning, see the rcParam `figure.max_open_warning`).\n",
      "/home/carol/.local/lib/python3.6/site-packages/scipy/stats/stats.py:3508: PearsonRConstantInputWarning: An input array is constant; the correlation coefficent is not defined.\n",
      "  warnings.warn(PearsonRConstantInputWarning())\n",
      "/home/carol/.local/lib/python3.6/site-packages/numpy/lib/function_base.py:2534: RuntimeWarning: invalid value encountered in true_divide\n",
      "  c /= stddev[:, None]\n",
      "/home/carol/.local/lib/python3.6/site-packages/numpy/lib/function_base.py:2535: RuntimeWarning: invalid value encountered in true_divide\n",
      "  c /= stddev[None, :]\n",
      "/home/carol/.local/lib/python3.6/site-packages/scipy/stats/_distn_infrastructure.py:903: RuntimeWarning: invalid value encountered in greater\n",
      "  return (a < x) & (x < b)\n",
      "/home/carol/.local/lib/python3.6/site-packages/scipy/stats/_distn_infrastructure.py:903: RuntimeWarning: invalid value encountered in less\n",
      "  return (a < x) & (x < b)\n",
      "/home/carol/.local/lib/python3.6/site-packages/scipy/stats/_distn_infrastructure.py:1912: RuntimeWarning: invalid value encountered in less_equal\n",
      "  cond2 = cond0 & (x <= _a)\n"
     ]
    },
    {
     "name": "stdout",
     "output_type": "stream",
     "text": [
      "2000\n"
     ]
    },
    {
     "name": "stderr",
     "output_type": "stream",
     "text": [
      "/home/carol/.local/lib/python3.6/site-packages/ipykernel_launcher.py:7: RuntimeWarning: More than 20 figures have been opened. Figures created through the pyplot interface (`matplotlib.pyplot.figure`) are retained until explicitly closed and may consume too much memory. (To control this warning, see the rcParam `figure.max_open_warning`).\n",
      "  import sys\n",
      "/home/carol/.local/lib/python3.6/site-packages/ipykernel_launcher.py:31: RuntimeWarning: More than 20 figures have been opened. Figures created through the pyplot interface (`matplotlib.pyplot.figure`) are retained until explicitly closed and may consume too much memory. (To control this warning, see the rcParam `figure.max_open_warning`).\n",
      "/home/carol/.local/lib/python3.6/site-packages/scipy/stats/stats.py:3508: PearsonRConstantInputWarning: An input array is constant; the correlation coefficent is not defined.\n",
      "  warnings.warn(PearsonRConstantInputWarning())\n",
      "/home/carol/.local/lib/python3.6/site-packages/numpy/lib/function_base.py:2534: RuntimeWarning: invalid value encountered in true_divide\n",
      "  c /= stddev[:, None]\n",
      "/home/carol/.local/lib/python3.6/site-packages/numpy/lib/function_base.py:2535: RuntimeWarning: invalid value encountered in true_divide\n",
      "  c /= stddev[None, :]\n",
      "/home/carol/.local/lib/python3.6/site-packages/scipy/stats/_distn_infrastructure.py:903: RuntimeWarning: invalid value encountered in greater\n",
      "  return (a < x) & (x < b)\n",
      "/home/carol/.local/lib/python3.6/site-packages/scipy/stats/_distn_infrastructure.py:903: RuntimeWarning: invalid value encountered in less\n",
      "  return (a < x) & (x < b)\n",
      "/home/carol/.local/lib/python3.6/site-packages/scipy/stats/_distn_infrastructure.py:1912: RuntimeWarning: invalid value encountered in less_equal\n",
      "  cond2 = cond0 & (x <= _a)\n"
     ]
    },
    {
     "name": "stdout",
     "output_type": "stream",
     "text": [
      "2001\n"
     ]
    },
    {
     "name": "stderr",
     "output_type": "stream",
     "text": [
      "/home/carol/.local/lib/python3.6/site-packages/ipykernel_launcher.py:7: RuntimeWarning: More than 20 figures have been opened. Figures created through the pyplot interface (`matplotlib.pyplot.figure`) are retained until explicitly closed and may consume too much memory. (To control this warning, see the rcParam `figure.max_open_warning`).\n",
      "  import sys\n",
      "/home/carol/.local/lib/python3.6/site-packages/ipykernel_launcher.py:31: RuntimeWarning: More than 20 figures have been opened. Figures created through the pyplot interface (`matplotlib.pyplot.figure`) are retained until explicitly closed and may consume too much memory. (To control this warning, see the rcParam `figure.max_open_warning`).\n",
      "/home/carol/.local/lib/python3.6/site-packages/scipy/stats/stats.py:3508: PearsonRConstantInputWarning: An input array is constant; the correlation coefficent is not defined.\n",
      "  warnings.warn(PearsonRConstantInputWarning())\n",
      "/home/carol/.local/lib/python3.6/site-packages/numpy/lib/function_base.py:2534: RuntimeWarning: invalid value encountered in true_divide\n",
      "  c /= stddev[:, None]\n",
      "/home/carol/.local/lib/python3.6/site-packages/numpy/lib/function_base.py:2535: RuntimeWarning: invalid value encountered in true_divide\n",
      "  c /= stddev[None, :]\n",
      "/home/carol/.local/lib/python3.6/site-packages/scipy/stats/_distn_infrastructure.py:903: RuntimeWarning: invalid value encountered in greater\n",
      "  return (a < x) & (x < b)\n",
      "/home/carol/.local/lib/python3.6/site-packages/scipy/stats/_distn_infrastructure.py:903: RuntimeWarning: invalid value encountered in less\n",
      "  return (a < x) & (x < b)\n",
      "/home/carol/.local/lib/python3.6/site-packages/scipy/stats/_distn_infrastructure.py:1912: RuntimeWarning: invalid value encountered in less_equal\n",
      "  cond2 = cond0 & (x <= _a)\n"
     ]
    },
    {
     "name": "stdout",
     "output_type": "stream",
     "text": [
      "2002\n"
     ]
    },
    {
     "name": "stderr",
     "output_type": "stream",
     "text": [
      "/home/carol/.local/lib/python3.6/site-packages/ipykernel_launcher.py:7: RuntimeWarning: More than 20 figures have been opened. Figures created through the pyplot interface (`matplotlib.pyplot.figure`) are retained until explicitly closed and may consume too much memory. (To control this warning, see the rcParam `figure.max_open_warning`).\n",
      "  import sys\n",
      "/home/carol/.local/lib/python3.6/site-packages/ipykernel_launcher.py:31: RuntimeWarning: More than 20 figures have been opened. Figures created through the pyplot interface (`matplotlib.pyplot.figure`) are retained until explicitly closed and may consume too much memory. (To control this warning, see the rcParam `figure.max_open_warning`).\n"
     ]
    },
    {
     "name": "stdout",
     "output_type": "stream",
     "text": [
      "2003\n"
     ]
    },
    {
     "name": "stderr",
     "output_type": "stream",
     "text": [
      "/home/carol/.local/lib/python3.6/site-packages/ipykernel_launcher.py:7: RuntimeWarning: More than 20 figures have been opened. Figures created through the pyplot interface (`matplotlib.pyplot.figure`) are retained until explicitly closed and may consume too much memory. (To control this warning, see the rcParam `figure.max_open_warning`).\n",
      "  import sys\n",
      "/home/carol/.local/lib/python3.6/site-packages/ipykernel_launcher.py:31: RuntimeWarning: More than 20 figures have been opened. Figures created through the pyplot interface (`matplotlib.pyplot.figure`) are retained until explicitly closed and may consume too much memory. (To control this warning, see the rcParam `figure.max_open_warning`).\n"
     ]
    },
    {
     "name": "stdout",
     "output_type": "stream",
     "text": [
      "2004\n"
     ]
    },
    {
     "name": "stderr",
     "output_type": "stream",
     "text": [
      "/home/carol/.local/lib/python3.6/site-packages/ipykernel_launcher.py:7: RuntimeWarning: More than 20 figures have been opened. Figures created through the pyplot interface (`matplotlib.pyplot.figure`) are retained until explicitly closed and may consume too much memory. (To control this warning, see the rcParam `figure.max_open_warning`).\n",
      "  import sys\n",
      "/home/carol/.local/lib/python3.6/site-packages/ipykernel_launcher.py:31: RuntimeWarning: More than 20 figures have been opened. Figures created through the pyplot interface (`matplotlib.pyplot.figure`) are retained until explicitly closed and may consume too much memory. (To control this warning, see the rcParam `figure.max_open_warning`).\n",
      "/home/carol/.local/lib/python3.6/site-packages/scipy/stats/stats.py:3508: PearsonRConstantInputWarning: An input array is constant; the correlation coefficent is not defined.\n",
      "  warnings.warn(PearsonRConstantInputWarning())\n",
      "/home/carol/.local/lib/python3.6/site-packages/numpy/lib/function_base.py:2534: RuntimeWarning: invalid value encountered in true_divide\n",
      "  c /= stddev[:, None]\n",
      "/home/carol/.local/lib/python3.6/site-packages/numpy/lib/function_base.py:2535: RuntimeWarning: invalid value encountered in true_divide\n",
      "  c /= stddev[None, :]\n",
      "/home/carol/.local/lib/python3.6/site-packages/scipy/stats/_distn_infrastructure.py:903: RuntimeWarning: invalid value encountered in greater\n",
      "  return (a < x) & (x < b)\n",
      "/home/carol/.local/lib/python3.6/site-packages/scipy/stats/_distn_infrastructure.py:903: RuntimeWarning: invalid value encountered in less\n",
      "  return (a < x) & (x < b)\n",
      "/home/carol/.local/lib/python3.6/site-packages/scipy/stats/_distn_infrastructure.py:1912: RuntimeWarning: invalid value encountered in less_equal\n",
      "  cond2 = cond0 & (x <= _a)\n"
     ]
    },
    {
     "name": "stdout",
     "output_type": "stream",
     "text": [
      "2005\n"
     ]
    },
    {
     "name": "stderr",
     "output_type": "stream",
     "text": [
      "/home/carol/.local/lib/python3.6/site-packages/ipykernel_launcher.py:7: RuntimeWarning: More than 20 figures have been opened. Figures created through the pyplot interface (`matplotlib.pyplot.figure`) are retained until explicitly closed and may consume too much memory. (To control this warning, see the rcParam `figure.max_open_warning`).\n",
      "  import sys\n",
      "/home/carol/.local/lib/python3.6/site-packages/ipykernel_launcher.py:31: RuntimeWarning: More than 20 figures have been opened. Figures created through the pyplot interface (`matplotlib.pyplot.figure`) are retained until explicitly closed and may consume too much memory. (To control this warning, see the rcParam `figure.max_open_warning`).\n"
     ]
    },
    {
     "name": "stdout",
     "output_type": "stream",
     "text": [
      "2006\n"
     ]
    },
    {
     "name": "stderr",
     "output_type": "stream",
     "text": [
      "/home/carol/.local/lib/python3.6/site-packages/ipykernel_launcher.py:7: RuntimeWarning: More than 20 figures have been opened. Figures created through the pyplot interface (`matplotlib.pyplot.figure`) are retained until explicitly closed and may consume too much memory. (To control this warning, see the rcParam `figure.max_open_warning`).\n",
      "  import sys\n",
      "/home/carol/.local/lib/python3.6/site-packages/ipykernel_launcher.py:31: RuntimeWarning: More than 20 figures have been opened. Figures created through the pyplot interface (`matplotlib.pyplot.figure`) are retained until explicitly closed and may consume too much memory. (To control this warning, see the rcParam `figure.max_open_warning`).\n"
     ]
    },
    {
     "data": {
      "text/plain": [
       "<Figure size 432x864 with 0 Axes>"
      ]
     },
     "metadata": {},
     "output_type": "display_data"
    },
    {
     "data": {
      "text/plain": [
       "<Figure size 432x864 with 0 Axes>"
      ]
     },
     "metadata": {},
     "output_type": "display_data"
    },
    {
     "data": {
      "text/plain": [
       "<Figure size 432x864 with 0 Axes>"
      ]
     },
     "metadata": {},
     "output_type": "display_data"
    },
    {
     "data": {
      "text/plain": [
       "<Figure size 432x864 with 0 Axes>"
      ]
     },
     "metadata": {},
     "output_type": "display_data"
    },
    {
     "data": {
      "text/plain": [
       "<Figure size 432x864 with 0 Axes>"
      ]
     },
     "metadata": {},
     "output_type": "display_data"
    },
    {
     "data": {
      "text/plain": [
       "<Figure size 432x864 with 0 Axes>"
      ]
     },
     "metadata": {},
     "output_type": "display_data"
    },
    {
     "data": {
      "text/plain": [
       "<Figure size 432x864 with 0 Axes>"
      ]
     },
     "metadata": {},
     "output_type": "display_data"
    },
    {
     "data": {
      "text/plain": [
       "<Figure size 432x864 with 0 Axes>"
      ]
     },
     "metadata": {},
     "output_type": "display_data"
    },
    {
     "data": {
      "text/plain": [
       "<Figure size 432x864 with 0 Axes>"
      ]
     },
     "metadata": {},
     "output_type": "display_data"
    },
    {
     "data": {
      "text/plain": [
       "<Figure size 432x864 with 0 Axes>"
      ]
     },
     "metadata": {},
     "output_type": "display_data"
    },
    {
     "data": {
      "text/plain": [
       "<Figure size 432x864 with 0 Axes>"
      ]
     },
     "metadata": {},
     "output_type": "display_data"
    },
    {
     "data": {
      "text/plain": [
       "<Figure size 432x864 with 0 Axes>"
      ]
     },
     "metadata": {},
     "output_type": "display_data"
    },
    {
     "data": {
      "text/plain": [
       "<Figure size 432x864 with 0 Axes>"
      ]
     },
     "metadata": {},
     "output_type": "display_data"
    },
    {
     "data": {
      "text/plain": [
       "<Figure size 432x864 with 0 Axes>"
      ]
     },
     "metadata": {},
     "output_type": "display_data"
    },
    {
     "data": {
      "text/plain": [
       "<Figure size 432x864 with 0 Axes>"
      ]
     },
     "metadata": {},
     "output_type": "display_data"
    },
    {
     "data": {
      "text/plain": [
       "<Figure size 432x864 with 0 Axes>"
      ]
     },
     "metadata": {},
     "output_type": "display_data"
    },
    {
     "data": {
      "text/plain": [
       "<Figure size 432x864 with 0 Axes>"
      ]
     },
     "metadata": {},
     "output_type": "display_data"
    },
    {
     "data": {
      "text/plain": [
       "<Figure size 432x864 with 0 Axes>"
      ]
     },
     "metadata": {},
     "output_type": "display_data"
    },
    {
     "data": {
      "text/plain": [
       "<Figure size 432x864 with 0 Axes>"
      ]
     },
     "metadata": {},
     "output_type": "display_data"
    },
    {
     "data": {
      "text/plain": [
       "<Figure size 432x864 with 0 Axes>"
      ]
     },
     "metadata": {},
     "output_type": "display_data"
    },
    {
     "data": {
      "text/plain": [
       "<Figure size 432x864 with 0 Axes>"
      ]
     },
     "metadata": {},
     "output_type": "display_data"
    },
    {
     "data": {
      "text/plain": [
       "<Figure size 432x864 with 0 Axes>"
      ]
     },
     "metadata": {},
     "output_type": "display_data"
    },
    {
     "data": {
      "text/plain": [
       "<Figure size 432x864 with 0 Axes>"
      ]
     },
     "metadata": {},
     "output_type": "display_data"
    },
    {
     "data": {
      "text/plain": [
       "<Figure size 432x864 with 0 Axes>"
      ]
     },
     "metadata": {},
     "output_type": "display_data"
    },
    {
     "data": {
      "text/plain": [
       "<Figure size 432x864 with 0 Axes>"
      ]
     },
     "metadata": {},
     "output_type": "display_data"
    },
    {
     "data": {
      "text/plain": [
       "<Figure size 432x864 with 0 Axes>"
      ]
     },
     "metadata": {},
     "output_type": "display_data"
    },
    {
     "data": {
      "text/plain": [
       "<Figure size 432x864 with 0 Axes>"
      ]
     },
     "metadata": {},
     "output_type": "display_data"
    },
    {
     "data": {
      "text/plain": [
       "<Figure size 432x864 with 0 Axes>"
      ]
     },
     "metadata": {},
     "output_type": "display_data"
    },
    {
     "data": {
      "text/plain": [
       "<Figure size 432x864 with 0 Axes>"
      ]
     },
     "metadata": {},
     "output_type": "display_data"
    },
    {
     "data": {
      "text/plain": [
       "<Figure size 432x864 with 0 Axes>"
      ]
     },
     "metadata": {},
     "output_type": "display_data"
    },
    {
     "data": {
      "text/plain": [
       "<Figure size 432x864 with 0 Axes>"
      ]
     },
     "metadata": {},
     "output_type": "display_data"
    },
    {
     "data": {
      "text/plain": [
       "<Figure size 432x864 with 0 Axes>"
      ]
     },
     "metadata": {},
     "output_type": "display_data"
    },
    {
     "data": {
      "text/plain": [
       "<Figure size 432x864 with 0 Axes>"
      ]
     },
     "metadata": {},
     "output_type": "display_data"
    },
    {
     "data": {
      "text/plain": [
       "<Figure size 432x864 with 0 Axes>"
      ]
     },
     "metadata": {},
     "output_type": "display_data"
    }
   ],
   "source": [
    "plot_future_past_div(past_citations,future_citations,authors_in_sym5,top_min25,cmap,5,'sem overlap')\n",
    "plot_future_past_div(past_citations,future_citations,authors_in_sym3,top_min25,cmap,3,'com overlap')"
   ]
  },
  {
   "cell_type": "code",
   "execution_count": 229,
   "metadata": {},
   "outputs": [],
   "source": [
    "# plot 1x1\n",
    "def plt_simetria_years(past_citations,sim,cmap):\n",
    "    authors_by_bin = defaultdict(lambda:defaultdict(lambda:[]))\n",
    "    for year,past in past_citations.items():\n",
    "        freq = list(past.values())\n",
    "        freq = sorted(freq)\n",
    "        \n",
    "        x25 = np.percentile(freq,25)\n",
    "        x50 = np.percentile(freq,50)\n",
    "        x75 = np.percentile(freq,75)\n",
    "        perce = [x25,x50,x75,max(freq)]\n",
    "        \n",
    "        for a,c in past.items():\n",
    "            for idx,p in enumerate(perce):\n",
    "                if c <= p:\n",
    "                    authors_by_bin[idx][year].append(a)\n",
    "                    break\n",
    "    perce_x = ['$\\Delta K_p \\leq p_{25}$',\n",
    "               '$ p_{25} < \\Delta K_p \\leq p_{50}$',\n",
    "               '$ p_{50} < \\Delta K_p \\leq p_{75}$',\n",
    "               '$\\delta K_p \\geq p_{75}$']\n",
    "    for b,idx_authors in authors_by_bin.items():\n",
    "        plt.figure(figsize=(12,4))\n",
    "        \n",
    "        X_years = []\n",
    "        for year,authors in idx_authors.items():\n",
    "            X = []\n",
    "            for a in authors:\n",
    "                try:\n",
    "#                     print(sim[a])\n",
    "                    x = sim[a][str(year)]\n",
    "                    X.append(x)\n",
    "                except:\n",
    "                    pass\n",
    "            X_years.append(X)\n",
    "        print(len(X_years))\n",
    "        plt.boxplot(X_years,labels=list(idx_authors.keys()))\n",
    "        plt.xlabel('ano')\n",
    "        plt.ylabel('simetria')\n",
    "        plt.title(perce_x[b])\n",
    "        plt.tight_layout()\n",
    "        plt.savefig(\"simetria_in_anos_%s_all.pdf\"%(b))\n",
    "        plt.close()"
   ]
  },
  {
   "cell_type": "code",
   "execution_count": 230,
   "metadata": {},
   "outputs": [
    {
     "name": "stdout",
     "output_type": "stream",
     "text": [
      "17\n",
      "17\n",
      "17\n",
      "16\n"
     ]
    }
   ],
   "source": [
    "plt_simetria_years(past_citations,authors_in_symmetry,cmap)"
   ]
  },
  {
   "cell_type": "code",
   "execution_count": null,
   "metadata": {},
   "outputs": [],
   "source": []
  },
  {
   "cell_type": "code",
   "execution_count": 17,
   "metadata": {},
   "outputs": [],
   "source": [
    "from sklearn import metrics"
   ]
  },
  {
   "cell_type": "code",
   "execution_count": 18,
   "metadata": {},
   "outputs": [
    {
     "data": {
      "image/png": "[encoded data removed]",
      "text/plain": [
       "<Figure size 864x216 with 1 Axes>"
      ]
     },
     "metadata": {
      "needs_background": "light"
     },
     "output_type": "display_data"
    }
   ],
   "source": [
    "year = 1990\n",
    "years = []\n",
    "nmis = []\n",
    "for net in pac_nets:\n",
    "    codes = [c[0] for c in net.vs['name']]\n",
    "    comms = net.vs['community']\n",
    "    nmi = metrics.normalized_mutual_info_score(codes,comms,average_method='min')\n",
    "    \n",
    "    years.append(year)\n",
    "    nmis.append(nmi)\n",
    "    \n",
    "    year += 1\n",
    "\n",
    "plt.figure(figsize=(12,3))\n",
    "plt.plot(years,nmis,'o',ls='-')\n",
    "plt.xlabel('year')\n",
    "plt.ylabel('NMI (community and pac 1st level)')\n",
    "plt.ylim(0.5, 0.8)\n",
    "plt.tight_layout()\n",
    "plt.grid()\n",
    "plt.title('NMI (communities and pac 1st level)')\n",
    "plt.savefig('nmi_comms_pac.pdf')"
   ]
  },
  {
   "cell_type": "code",
   "execution_count": 12,
   "metadata": {},
   "outputs": [],
   "source": [
    "# citações por diversidade em um dado ano\n",
    "year1_citations = get_citations(data,1990,2006,0,0)"
   ]
  },
  {
   "cell_type": "code",
   "execution_count": 39,
   "metadata": {},
   "outputs": [],
   "source": [
    "year1_references = get_references(data,1990,2006,0,0)"
   ]
  },
  {
   "cell_type": "code",
   "execution_count": 41,
   "metadata": {},
   "outputs": [],
   "source": [
    "def div_in_cits(year1_citations,authors_in_div,title):\n",
    "    corrs = []\n",
    "\n",
    "    years = list(range(1995,2007))\n",
    "\n",
    "    print(years)\n",
    "    for year in years:\n",
    "        citations_in_year = year1_citations[year]\n",
    "        x = []\n",
    "        y = []\n",
    "        for author_id,cits in citations_in_year.items():\n",
    "            try:\n",
    "                y.append(authors_in_div[author_id][str(year)])\n",
    "                x.append(cits)\n",
    "            except:\n",
    "                pass\n",
    "        s = spearmanr(x,y)[0]\n",
    "        corrs.append(s)\n",
    "#         plt.scatter(x,y,alpha=0.4,rasterized = True)\n",
    "#         plt.xlabel('citations (%d)'%year,fontsize=14)\n",
    "#         plt.ylabel('diversity (last 5 years)',fontsize=14)\n",
    "#         plt.savefig('cits_divs_%d.pdf' % year)\n",
    "#         plt.title(year)\n",
    "#         plt.clf()\n",
    "    plt.figure(figsize=(12,4))\n",
    "    plt.plot(years,corrs)\n",
    "    plt.title(title)\n",
    "    plt.savefig(title+'.png')\n",
    "    "
   ]
  },
  {
   "cell_type": "code",
   "execution_count": null,
   "metadata": {},
   "outputs": [],
   "source": [
    "div_in_cits(year1_citations,authors_in_symmetry,'sym in spearman citations')\n",
    "div_in_cits(year1_citations,authors_out_symmetry,'sym out spearman citations')"
   ]
  },
  {
   "cell_type": "code",
   "execution_count": 36,
   "metadata": {},
   "outputs": [
    {
     "name": "stdout",
     "output_type": "stream",
     "text": [
      "[1995, 1996, 1997, 1998, 1999, 2000, 2001, 2002, 2003, 2004, 2005, 2006]\n",
      "[1995, 1996, 1997, 1998, 1999, 2000, 2001, 2002, 2003, 2004, 2005, 2006]\n",
      "[1995, 1996, 1997, 1998, 1999, 2000, 2001, 2002, 2003, 2004, 2005, 2006]\n"
     ]
    },
    {
     "data": {
      "image/png": "[encoded data removed]",
      "text/plain": [
       "<Figure size 864x288 with 1 Axes>"
      ]
     },
     "metadata": {
      "needs_background": "light"
     },
     "output_type": "display_data"
    },
    {
     "data": {
      "image/png": "[encoded data removed]",
      "text/plain": [
       "<Figure size 864x288 with 1 Axes>"
      ]
     },
     "metadata": {
      "needs_background": "light"
     },
     "output_type": "display_data"
    },
    {
     "data": {
      "image/png": "[encoded data removed]",
      "text/plain": [
       "<Figure size 864x288 with 1 Axes>"
      ]
     },
     "metadata": {
      "needs_background": "light"
     },
     "output_type": "display_data"
    }
   ],
   "source": [
    "div_in_cits(year1_citations,authors_in_div,'div in spearman citations')\n",
    "div_in_cits(year1_citations,authors_out_div,'div out spearman citations')"
   ]
  },
  {
   "cell_type": "code",
   "execution_count": 45,
   "metadata": {},
   "outputs": [
    {
     "name": "stdout",
     "output_type": "stream",
     "text": [
      "[1995, 1996, 1997, 1998, 1999, 2000, 2001, 2002, 2003, 2004, 2005, 2006]\n"
     ]
    },
    {
     "data": {
      "image/png": "[encoded data removed]",
      "text/plain": [
       "<Figure size 864x288 with 1 Axes>"
      ]
     },
     "metadata": {
      "needs_background": "light"
     },
     "output_type": "display_data"
    }
   ],
   "source": [
    "corrs = []\n",
    "\n",
    "years = list(range(1995,2007))\n",
    "\n",
    "print(years)\n",
    "for year in years:\n",
    "    citations_in_year = year1_citations[year]\n",
    "    references_in_year = year1_references[year]\n",
    "    x = []\n",
    "    y = []\n",
    "    for author_id,cits in citations_in_year.items():\n",
    "        try:\n",
    "            y.append(references_in_year[author_id])\n",
    "            x.append(cits)\n",
    "        except:\n",
    "            pass\n",
    "    s = spearmanr(x,y)[0]\n",
    "    corrs.append(s)\n",
    "#         plt.scatter(x,y,alpha=0.4,rasterized = True)\n",
    "#         plt.xlabel('citations (%d)'%year,fontsize=14)\n",
    "#         plt.ylabel('diversity (last 5 years)',fontsize=14)\n",
    "#         plt.savefig('cits_divs_%d.pdf' % year)\n",
    "#         plt.title(year)\n",
    "#         plt.clf()\n",
    "plt.figure(figsize=(12,4))\n",
    "plt.plot(years,corrs)\n",
    "title = 'citations spearmanr references'\n",
    "plt.title(title)\n",
    "plt.savefig(title+'.png')\n"
   ]
  },
  {
   "cell_type": "code",
   "execution_count": null,
   "metadata": {},
   "outputs": [],
   "source": []
  }
 ],
 "metadata": {
  "kernelspec": {
   "display_name": "Python 3",
   "language": "python",
   "name": "python3"
  },
  "language_info": {
   "codemirror_mode": {
    "name": "ipython",
    "version": 3
   },
   "file_extension": ".py",
   "mimetype": "text/x-python",
   "name": "python",
   "nbconvert_exporter": "python",
   "pygments_lexer": "ipython3",
   "version": "3.6.9"
  }
 },
 "nbformat": 4,
 "nbformat_minor": 2
}
