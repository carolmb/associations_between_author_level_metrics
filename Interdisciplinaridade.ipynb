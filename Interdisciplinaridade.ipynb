{
 "cells": [
  {
   "cell_type": "code",
   "execution_count": 1,
   "metadata": {},
   "outputs": [],
   "source": [
    "import xnet\n",
    "import json\n",
    "import glob\n",
    "import util\n",
    "\n",
    "import numpy as np\n",
    "import matplotlib.pyplot as plt\n",
    "from collections import OrderedDict\n",
    "\n",
    "from igraph import *"
   ]
  },
  {
   "cell_type": "code",
   "execution_count": 2,
   "metadata": {},
   "outputs": [],
   "source": [
    "history_out_filename = 'data/authors_pac_out_2lvls_2multi.json'\n",
    "history_in_filename = 'data/authors_pac_in_2lvls_2multi.json'\n",
    "history_filename = 'data/authors_pac_2lvls_2multi.json'"
   ]
  },
  {
   "cell_type": "code",
   "execution_count": 3,
   "metadata": {},
   "outputs": [],
   "source": [
    "data = xnet.xnet2igraph('data/citation_network_ge1985_pacs.xnet')"
   ]
  },
  {
   "cell_type": "code",
   "execution_count": 4,
   "metadata": {},
   "outputs": [],
   "source": [
    "filenames = sorted(glob.glob('data/pacs/2lvls/*_delta4_multilevel2.xnet'))\n",
    "pac_nets = []\n",
    "for filename in filenames:\n",
    "    net = xnet.xnet2igraph(filename)\n",
    "    pac_nets.append(net)"
   ]
  },
  {
   "cell_type": "code",
   "execution_count": 14,
   "metadata": {},
   "outputs": [
    {
     "name": "stdout",
     "output_type": "stream",
     "text": [
      "{'6', '5', '2', '7', '3', '1', '4'}\n",
      "{'6', '5', '2', '7', '3', '1', '8', '4'}\n",
      "{'6', '5', '2', '7', '3', '1', '8', '4'}\n",
      "{'6', '5', '2', '7', '3', '1', '8', '4'}\n",
      "{'6', '9', '5', '2', '7', '3', '1', '8', '4'}\n",
      "{'10', '6', '9', '5', '2', '7', '3', '1', '8', '4'}\n",
      "{'10', '6', '9', '5', '2', '7', '3', '1', '8', '4'}\n",
      "{'10', '6', '9', '5', '2', '7', '3', '1', '8', '4'}\n",
      "{'10', '6', '9', '5', '2', '7', '3', '1', '8', '4'}\n",
      "{'10', '6', '9', '5', '2', '7', '3', '1', '8', '4'}\n",
      "{'6', '9', '5', '2', '7', '3', '1', '8', '4'}\n",
      "{'6', '9', '5', '2', '7', '3', '1', '8', '4'}\n",
      "{'10', '6', '9', '5', '2', '7', '3', '1', '8', '4'}\n",
      "{'6', '9', '5', '2', '7', '3', '1', '8', '4'}\n",
      "{'6', '9', '5', '2', '7', '3', '1', '8', '4'}\n",
      "{'6', '9', '5', '2', '7', '3', '1', '8', '4'}\n",
      "{'6', '9', '5', '2', '7', '3', '1', '8', '4'}\n",
      "{'6', '9', '5', '2', '7', '3', '1', '8', '4'}\n",
      "{'10', '6', '9', '5', '2', '7', '3', '1', '8', '4'}\n",
      "{'10', '6', '9', '5', '2', '7', '3', '1', '8', '4'}\n",
      "{'10', '6', '9', '5', '2', '7', '3', '1', '8', '4'}\n"
     ]
    }
   ],
   "source": [
    "for net in pac_nets:\n",
    "    print(set(net.vs[\"community\"]))"
   ]
  },
  {
   "cell_type": "code",
   "execution_count": 5,
   "metadata": {},
   "outputs": [
    {
     "name": "stdout",
     "output_type": "stream",
     "text": [
      "current year 1986\n",
      "current year 1987\n",
      "current year 1988\n",
      "current year 1989\n",
      "current year 1990\n",
      "current year 1991\n",
      "current year 1992\n",
      "current year 1993\n",
      "current year 1994\n",
      "current year 1995\n",
      "current year 1996\n",
      "current year 1997\n",
      "current year 1998\n",
      "current year 1999\n",
      "current year 2000\n",
      "current year 2001\n",
      "current year 2002\n",
      "current year 2003\n",
      "current year 2004\n",
      "current year 2005\n",
      "current year 2006\n"
     ]
    }
   ],
   "source": [
    "history_out = util.load(history_out_filename)\n",
    "authors_out_div = util.authors_div(history_out) # diversidade das publicações citadas (author out)\n",
    "history_in = util.load(history_in_filename)\n",
    "authors_in_div = util.authors_div(history_in) # diversidade das publicações que citam o autor (author in)\n",
    "valid_authors_by_area = util.get_area(data,pac_nets,util.get_pacs_paper_published,4)"
   ]
  },
  {
   "cell_type": "code",
   "execution_count": 6,
   "metadata": {},
   "outputs": [],
   "source": [
    "def get_citations(data,year_begin,year_end,delta,delta_key):\n",
    "    history = defaultdict(lambda:defaultdict(lambda:0))\n",
    "\n",
    "    for i,year in enumerate(range(year_begin,year_end+1)):\n",
    "#         print(\"current year %d\" % year)\n",
    "        subset = data.vs.select(year_ge=year,year_le=year+delta)\n",
    "        \n",
    "        for paper in subset:\n",
    "            neighbors = data.neighbors(paper,mode=OUT)\n",
    "            for vtx_idx in neighbors:\n",
    "                vtx = data.vs[vtx_idx]\n",
    "                authors_idxs = vtx['authors_idxs'].split(',')\n",
    "                for a in authors_idxs:\n",
    "                    history[year+delta_key][a] += 1\n",
    "    \n",
    "    return history"
   ]
  },
  {
   "cell_type": "code",
   "execution_count": 7,
   "metadata": {},
   "outputs": [],
   "source": [
    "future_citations = get_citations(data,1990,2006,1,0)\n",
    "past_citations = get_citations(data,1988,2004,1,2)"
   ]
  },
  {
   "cell_type": "code",
   "execution_count": 8,
   "metadata": {},
   "outputs": [],
   "source": [
    "top_min25 = util.load('authors_ranking_min25_by_year.json')"
   ]
  },
  {
   "cell_type": "code",
   "execution_count": 9,
   "metadata": {
    "scrolled": true
   },
   "outputs": [],
   "source": [
    "def plot_future_past_div(past_citations,future_citations,authors_in_div,top_min25,cmap):\n",
    "    for year,past in past_citations.items():\n",
    "        future = future_citations[year]\n",
    "        print(year)\n",
    "        \n",
    "        plt.figure(figsize=(4,3))\n",
    "        freq = list(past.values())\n",
    "        bin_edges = np.logspace(0, np.log10(max(freq)),10)\n",
    "        hist0,bins0,_ = plt.hist(freq,bins=bin_edges)\n",
    "        plt.title(year)\n",
    "        plt.xlabel('$\\Delta K_{P}$ - citações do passado (2 anos)')\n",
    "        plt.ylabel('número de autores')\n",
    "        plt.xscale(\"log\")\n",
    "        plt.yscale(\"log\")\n",
    "        plt.tight_layout()\n",
    "        plt.savefig(\"hist_delta_K_P_%s.pdf\" % year)\n",
    "        plt.clf()\n",
    "\n",
    "        authors_by_bin = defaultdict(lambda:[])\n",
    "        for a,c in past.items():\n",
    "            idx = np.searchsorted(bin_edges,c)\n",
    "            if idx == 0:\n",
    "                idx = 1\n",
    "            elif idx == len(bin_edges):\n",
    "                idx -= 1\n",
    "            authors_by_bin[idx].append(a)\n",
    "\n",
    "        N = len(bins0)\n",
    "        f, axs = plt.subplots(N//3, 3, sharex=True, sharey=True, figsize=((N//3)*3,9))\n",
    "        f.suptitle(year)\n",
    "        i = 0\n",
    "        to_plot = True\n",
    "        IDXS = sorted(list(authors_by_bin.keys()))\n",
    "        for idx in IDXS:\n",
    "            group = authors_by_bin[idx]\n",
    "            X = []\n",
    "            Y = []\n",
    "            for a in group:\n",
    "                if a not in top_min25[str(year)]:\n",
    "                    continue\n",
    "                try:\n",
    "                    x = authors_in_div[a][str(year-1)]\n",
    "                    y = future[a]\n",
    "                    X.append(x)\n",
    "                    Y.append(y)\n",
    "                except:\n",
    "                    pass\n",
    "            if len(X) == 0:\n",
    "                to_plot = False\n",
    "                plt.clf()\n",
    "                continue\n",
    "            axs[i//3,i%3].scatter(X,Y,alpha=0.6,c=[cmap(idx/N)]*len(X))\n",
    "            axs[i//3,i%3].set_title('%.2f $ < \\Delta K_{P} \\leq $ %.2f' % (bins0[idx-1],bins0[idx]))\n",
    "            i+=1\n",
    "        if to_plot:\n",
    "            f.text(0.5, 0.04, '$\\Delta d$ - diversidade (5 anos do passados)', ha='center')\n",
    "            f.text(0.04, 0.5, '$\\Delta K_{F}$ - citações do futuro (2 anos)', va='center', rotation='vertical')\n",
    "            plt.savefig(\"scatter_delta_d_delta_K_F_%s.pdf\"%year)\n",
    "            plt.clf()"
   ]
  },
  {
   "cell_type": "code",
   "execution_count": 10,
   "metadata": {},
   "outputs": [],
   "source": [
    "cmaps = OrderedDict()\n",
    "cmaps['Cyclic'] = ['twilight', 'twilight_shifted', 'hsv']\n",
    "cmap = plt.get_cmap(cmaps['Cyclic'][-1])"
   ]
  },
  {
   "cell_type": "code",
   "execution_count": 11,
   "metadata": {
    "scrolled": false
   },
   "outputs": [
    {
     "name": "stdout",
     "output_type": "stream",
     "text": [
      "1990\n",
      "1991\n",
      "1992\n",
      "1993\n",
      "1994\n",
      "1995\n",
      "1996\n",
      "1997\n",
      "1998\n",
      "1999\n",
      "2000\n"
     ]
    },
    {
     "name": "stderr",
     "output_type": "stream",
     "text": [
      "/home/carol/.local/lib/python3.6/site-packages/ipykernel_launcher.py:6: RuntimeWarning: More than 20 figures have been opened. Figures created through the pyplot interface (`matplotlib.pyplot.figure`) are retained until explicitly closed and may consume too much memory. (To control this warning, see the rcParam `figure.max_open_warning`).\n",
      "  \n",
      "/home/carol/.local/lib/python3.6/site-packages/ipykernel_launcher.py:29: RuntimeWarning: More than 20 figures have been opened. Figures created through the pyplot interface (`matplotlib.pyplot.figure`) are retained until explicitly closed and may consume too much memory. (To control this warning, see the rcParam `figure.max_open_warning`).\n"
     ]
    },
    {
     "name": "stdout",
     "output_type": "stream",
     "text": [
      "2001\n"
     ]
    },
    {
     "name": "stderr",
     "output_type": "stream",
     "text": [
      "/home/carol/.local/lib/python3.6/site-packages/ipykernel_launcher.py:6: RuntimeWarning: More than 20 figures have been opened. Figures created through the pyplot interface (`matplotlib.pyplot.figure`) are retained until explicitly closed and may consume too much memory. (To control this warning, see the rcParam `figure.max_open_warning`).\n",
      "  \n",
      "/home/carol/.local/lib/python3.6/site-packages/ipykernel_launcher.py:29: RuntimeWarning: More than 20 figures have been opened. Figures created through the pyplot interface (`matplotlib.pyplot.figure`) are retained until explicitly closed and may consume too much memory. (To control this warning, see the rcParam `figure.max_open_warning`).\n"
     ]
    },
    {
     "name": "stdout",
     "output_type": "stream",
     "text": [
      "2002\n"
     ]
    },
    {
     "name": "stderr",
     "output_type": "stream",
     "text": [
      "/home/carol/.local/lib/python3.6/site-packages/ipykernel_launcher.py:6: RuntimeWarning: More than 20 figures have been opened. Figures created through the pyplot interface (`matplotlib.pyplot.figure`) are retained until explicitly closed and may consume too much memory. (To control this warning, see the rcParam `figure.max_open_warning`).\n",
      "  \n",
      "/home/carol/.local/lib/python3.6/site-packages/ipykernel_launcher.py:29: RuntimeWarning: More than 20 figures have been opened. Figures created through the pyplot interface (`matplotlib.pyplot.figure`) are retained until explicitly closed and may consume too much memory. (To control this warning, see the rcParam `figure.max_open_warning`).\n"
     ]
    },
    {
     "name": "stdout",
     "output_type": "stream",
     "text": [
      "2003\n"
     ]
    },
    {
     "name": "stderr",
     "output_type": "stream",
     "text": [
      "/home/carol/.local/lib/python3.6/site-packages/ipykernel_launcher.py:6: RuntimeWarning: More than 20 figures have been opened. Figures created through the pyplot interface (`matplotlib.pyplot.figure`) are retained until explicitly closed and may consume too much memory. (To control this warning, see the rcParam `figure.max_open_warning`).\n",
      "  \n",
      "/home/carol/.local/lib/python3.6/site-packages/ipykernel_launcher.py:29: RuntimeWarning: More than 20 figures have been opened. Figures created through the pyplot interface (`matplotlib.pyplot.figure`) are retained until explicitly closed and may consume too much memory. (To control this warning, see the rcParam `figure.max_open_warning`).\n"
     ]
    },
    {
     "name": "stdout",
     "output_type": "stream",
     "text": [
      "2004\n"
     ]
    },
    {
     "name": "stderr",
     "output_type": "stream",
     "text": [
      "/home/carol/.local/lib/python3.6/site-packages/ipykernel_launcher.py:6: RuntimeWarning: More than 20 figures have been opened. Figures created through the pyplot interface (`matplotlib.pyplot.figure`) are retained until explicitly closed and may consume too much memory. (To control this warning, see the rcParam `figure.max_open_warning`).\n",
      "  \n",
      "/home/carol/.local/lib/python3.6/site-packages/ipykernel_launcher.py:29: RuntimeWarning: More than 20 figures have been opened. Figures created through the pyplot interface (`matplotlib.pyplot.figure`) are retained until explicitly closed and may consume too much memory. (To control this warning, see the rcParam `figure.max_open_warning`).\n"
     ]
    },
    {
     "name": "stdout",
     "output_type": "stream",
     "text": [
      "2005\n"
     ]
    },
    {
     "name": "stderr",
     "output_type": "stream",
     "text": [
      "/home/carol/.local/lib/python3.6/site-packages/ipykernel_launcher.py:6: RuntimeWarning: More than 20 figures have been opened. Figures created through the pyplot interface (`matplotlib.pyplot.figure`) are retained until explicitly closed and may consume too much memory. (To control this warning, see the rcParam `figure.max_open_warning`).\n",
      "  \n",
      "/home/carol/.local/lib/python3.6/site-packages/ipykernel_launcher.py:29: RuntimeWarning: More than 20 figures have been opened. Figures created through the pyplot interface (`matplotlib.pyplot.figure`) are retained until explicitly closed and may consume too much memory. (To control this warning, see the rcParam `figure.max_open_warning`).\n"
     ]
    },
    {
     "name": "stdout",
     "output_type": "stream",
     "text": [
      "2006\n"
     ]
    },
    {
     "name": "stderr",
     "output_type": "stream",
     "text": [
      "/home/carol/.local/lib/python3.6/site-packages/ipykernel_launcher.py:6: RuntimeWarning: More than 20 figures have been opened. Figures created through the pyplot interface (`matplotlib.pyplot.figure`) are retained until explicitly closed and may consume too much memory. (To control this warning, see the rcParam `figure.max_open_warning`).\n",
      "  \n",
      "/home/carol/.local/lib/python3.6/site-packages/ipykernel_launcher.py:29: RuntimeWarning: More than 20 figures have been opened. Figures created through the pyplot interface (`matplotlib.pyplot.figure`) are retained until explicitly closed and may consume too much memory. (To control this warning, see the rcParam `figure.max_open_warning`).\n"
     ]
    },
    {
     "data": {
      "text/plain": [
       "<Figure size 288x216 with 0 Axes>"
      ]
     },
     "metadata": {},
     "output_type": "display_data"
    },
    {
     "data": {
      "text/plain": [
       "<Figure size 648x648 with 0 Axes>"
      ]
     },
     "metadata": {},
     "output_type": "display_data"
    },
    {
     "data": {
      "text/plain": [
       "<Figure size 288x216 with 0 Axes>"
      ]
     },
     "metadata": {},
     "output_type": "display_data"
    },
    {
     "data": {
      "text/plain": [
       "<Figure size 648x648 with 0 Axes>"
      ]
     },
     "metadata": {},
     "output_type": "display_data"
    },
    {
     "data": {
      "text/plain": [
       "<Figure size 288x216 with 0 Axes>"
      ]
     },
     "metadata": {},
     "output_type": "display_data"
    },
    {
     "data": {
      "text/plain": [
       "<Figure size 648x648 with 0 Axes>"
      ]
     },
     "metadata": {},
     "output_type": "display_data"
    },
    {
     "data": {
      "text/plain": [
       "<Figure size 288x216 with 0 Axes>"
      ]
     },
     "metadata": {},
     "output_type": "display_data"
    },
    {
     "data": {
      "text/plain": [
       "<Figure size 648x648 with 0 Axes>"
      ]
     },
     "metadata": {},
     "output_type": "display_data"
    },
    {
     "data": {
      "text/plain": [
       "<Figure size 288x216 with 0 Axes>"
      ]
     },
     "metadata": {},
     "output_type": "display_data"
    },
    {
     "data": {
      "text/plain": [
       "<Figure size 648x648 with 0 Axes>"
      ]
     },
     "metadata": {},
     "output_type": "display_data"
    },
    {
     "data": {
      "text/plain": [
       "<Figure size 288x216 with 0 Axes>"
      ]
     },
     "metadata": {},
     "output_type": "display_data"
    },
    {
     "data": {
      "text/plain": [
       "<Figure size 648x648 with 0 Axes>"
      ]
     },
     "metadata": {},
     "output_type": "display_data"
    },
    {
     "data": {
      "text/plain": [
       "<Figure size 288x216 with 0 Axes>"
      ]
     },
     "metadata": {},
     "output_type": "display_data"
    },
    {
     "data": {
      "text/plain": [
       "<Figure size 648x648 with 0 Axes>"
      ]
     },
     "metadata": {},
     "output_type": "display_data"
    },
    {
     "data": {
      "text/plain": [
       "<Figure size 288x216 with 0 Axes>"
      ]
     },
     "metadata": {},
     "output_type": "display_data"
    },
    {
     "data": {
      "text/plain": [
       "<Figure size 648x648 with 0 Axes>"
      ]
     },
     "metadata": {},
     "output_type": "display_data"
    },
    {
     "data": {
      "text/plain": [
       "<Figure size 288x216 with 0 Axes>"
      ]
     },
     "metadata": {},
     "output_type": "display_data"
    },
    {
     "data": {
      "text/plain": [
       "<Figure size 648x648 with 0 Axes>"
      ]
     },
     "metadata": {},
     "output_type": "display_data"
    },
    {
     "data": {
      "text/plain": [
       "<Figure size 288x216 with 0 Axes>"
      ]
     },
     "metadata": {},
     "output_type": "display_data"
    },
    {
     "data": {
      "text/plain": [
       "<Figure size 648x648 with 0 Axes>"
      ]
     },
     "metadata": {},
     "output_type": "display_data"
    },
    {
     "data": {
      "text/plain": [
       "<Figure size 288x216 with 0 Axes>"
      ]
     },
     "metadata": {},
     "output_type": "display_data"
    },
    {
     "data": {
      "text/plain": [
       "<Figure size 648x648 with 0 Axes>"
      ]
     },
     "metadata": {},
     "output_type": "display_data"
    },
    {
     "data": {
      "text/plain": [
       "<Figure size 288x216 with 0 Axes>"
      ]
     },
     "metadata": {},
     "output_type": "display_data"
    },
    {
     "data": {
      "text/plain": [
       "<Figure size 648x648 with 0 Axes>"
      ]
     },
     "metadata": {},
     "output_type": "display_data"
    },
    {
     "data": {
      "text/plain": [
       "<Figure size 288x216 with 0 Axes>"
      ]
     },
     "metadata": {},
     "output_type": "display_data"
    },
    {
     "data": {
      "text/plain": [
       "<Figure size 648x648 with 0 Axes>"
      ]
     },
     "metadata": {},
     "output_type": "display_data"
    },
    {
     "data": {
      "text/plain": [
       "<Figure size 288x216 with 0 Axes>"
      ]
     },
     "metadata": {},
     "output_type": "display_data"
    },
    {
     "data": {
      "text/plain": [
       "<Figure size 648x648 with 0 Axes>"
      ]
     },
     "metadata": {},
     "output_type": "display_data"
    },
    {
     "data": {
      "text/plain": [
       "<Figure size 288x216 with 0 Axes>"
      ]
     },
     "metadata": {},
     "output_type": "display_data"
    },
    {
     "data": {
      "text/plain": [
       "<Figure size 648x648 with 0 Axes>"
      ]
     },
     "metadata": {},
     "output_type": "display_data"
    },
    {
     "data": {
      "text/plain": [
       "<Figure size 288x216 with 0 Axes>"
      ]
     },
     "metadata": {},
     "output_type": "display_data"
    },
    {
     "data": {
      "text/plain": [
       "<Figure size 648x648 with 0 Axes>"
      ]
     },
     "metadata": {},
     "output_type": "display_data"
    },
    {
     "data": {
      "text/plain": [
       "<Figure size 288x216 with 0 Axes>"
      ]
     },
     "metadata": {},
     "output_type": "display_data"
    },
    {
     "data": {
      "text/plain": [
       "<Figure size 648x648 with 0 Axes>"
      ]
     },
     "metadata": {},
     "output_type": "display_data"
    }
   ],
   "source": [
    "plot_future_past_div(past_citations,future_citations,authors_in_div,top_min25,cmap)"
   ]
  },
  {
   "cell_type": "code",
   "execution_count": null,
   "metadata": {},
   "outputs": [],
   "source": []
  }
 ],
 "metadata": {
  "kernelspec": {
   "display_name": "Python 3",
   "language": "python",
   "name": "python3"
  },
  "language_info": {
   "codemirror_mode": {
    "name": "ipython",
    "version": 3
   },
   "file_extension": ".py",
   "mimetype": "text/x-python",
   "name": "python",
   "nbconvert_exporter": "python",
   "pygments_lexer": "ipython3",
   "version": "3.6.8"
  }
 },
 "nbformat": 4,
 "nbformat_minor": 2
}
