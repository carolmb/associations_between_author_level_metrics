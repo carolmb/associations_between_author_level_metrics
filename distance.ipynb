{
 "cells": [
  {
   "cell_type": "code",
   "execution_count": 1,
   "metadata": {},
   "outputs": [],
   "source": [
    "from igraph import *\n",
    "import xnet\n",
    "import glob\n",
    "import math\n",
    "import numpy as np\n",
    "import matplotlib.pyplot as plt\n",
    "import concurrent.futures\n",
    "from collections import defaultdict\n",
    "from scipy.linalg import norm"
   ]
  },
  {
   "cell_type": "code",
   "execution_count": 2,
   "metadata": {},
   "outputs": [
    {
     "name": "stdout",
     "output_type": "stream",
     "text": [
      "matplotlib: 3.0.2\n"
     ]
    }
   ],
   "source": [
    "import matplotlib\n",
    "print('matplotlib: {}'.format(matplotlib.__version__))"
   ]
  },
  {
   "cell_type": "code",
   "execution_count": 3,
   "metadata": {},
   "outputs": [],
   "source": [
    "%load_ext autoreload\n",
    "%autoreload"
   ]
  },
  {
   "cell_type": "markdown",
   "metadata": {},
   "source": [
    "# Leitura dos dados\n",
    "calculate_dist é chamado apenas uma vez e depois a informação é salva na própria rede que passa a ser lida"
   ]
  },
  {
   "cell_type": "code",
   "execution_count": 4,
   "metadata": {},
   "outputs": [],
   "source": [
    "def norm(X):\n",
    "    minx = min(X)\n",
    "    maxx = max(X)\n",
    "    X = (np.asarray(X)-minx)/(maxx-minx)\n",
    "    return X\n",
    "\n",
    "def calculate_dist(filenames):\n",
    "\tfor filename in filenames:\n",
    "\t\t# print(filename)\n",
    "\t\tnet = xnet.xnet2igraph(filename)\n",
    "\t\tweights = net.es['weight']\n",
    "\t\tweights = norm(weights)\n",
    "\t\tweights = [math.sqrt(2*(1-w)) for w in weights]\n",
    "\t\tprint(weights[:10])\n",
    "\t\tif len(weights) > 0:\n",
    "\t\t\tnet.es['distance'] = weights\n",
    "\t\t\txnet.igraph2xnet(net,filename[:-5]+\"_dist.xnet\")\n",
    "\t\telse:\n",
    "\t\t\tprint('error',filename)"
   ]
  },
  {
   "cell_type": "code",
   "execution_count": 5,
   "metadata": {},
   "outputs": [],
   "source": [
    "# Executa apenas uma vez\n",
    "# filenames = glob.glob('colabs/basic_colab_cut/*pac*.xnet')\n",
    "# calculate_dist(filenames)"
   ]
  },
  {
   "cell_type": "code",
   "execution_count": 4,
   "metadata": {},
   "outputs": [],
   "source": [
    "filenames = glob.glob('colabs/wbasic/*pac*5.xnet')\n",
    "filenames = sorted(filenames)"
   ]
  },
  {
   "cell_type": "code",
   "execution_count": 6,
   "metadata": {},
   "outputs": [
    {
     "name": "stdout",
     "output_type": "stream",
     "text": [
      "['colabs/basic_colab_cut/colab_1990_1993.xnet_0.5_selected_basic4_pac_labels_dist.xnet', 'colabs/basic_colab_cut/colab_1991_1994.xnet_0.5_selected_basic4_pac_labels_dist.xnet', 'colabs/basic_colab_cut/colab_1992_1995.xnet_0.5_selected_basic4_pac_labels_dist.xnet', 'colabs/basic_colab_cut/colab_1993_1996.xnet_0.5_selected_basic4_pac_labels_dist.xnet', 'colabs/basic_colab_cut/colab_1994_1997.xnet_0.5_selected_basic4_pac_labels_dist.xnet', 'colabs/basic_colab_cut/colab_1995_1998.xnet_0.5_selected_basic4_pac_labels_dist.xnet', 'colabs/basic_colab_cut/colab_1996_1999.xnet_0.5_selected_basic4_pac_labels_dist.xnet', 'colabs/basic_colab_cut/colab_1997_2000.xnet_0.5_selected_basic4_pac_labels_dist.xnet', 'colabs/basic_colab_cut/colab_1998_2001.xnet_0.5_selected_basic4_pac_labels_dist.xnet', 'colabs/basic_colab_cut/colab_1999_2002.xnet_0.5_selected_basic4_pac_labels_dist.xnet', 'colabs/basic_colab_cut/colab_2000_2003.xnet_0.5_selected_basic4_pac_labels_dist.xnet', 'colabs/basic_colab_cut/colab_2001_2004.xnet_0.5_selected_basic4_pac_labels_dist.xnet', 'colabs/basic_colab_cut/colab_2002_2005.xnet_0.5_selected_basic4_pac_labels_dist.xnet', 'colabs/basic_colab_cut/colab_2003_2006.xnet_0.5_selected_basic4_pac_labels_dist.xnet', 'colabs/basic_colab_cut/colab_2004_2007.xnet_0.5_selected_basic4_pac_labels_dist.xnet', 'colabs/basic_colab_cut/colab_2005_2008.xnet_0.5_selected_basic4_pac_labels_dist.xnet', 'colabs/basic_colab_cut/colab_2006_2009.xnet_0.5_selected_basic4_pac_labels_dist.xnet', 'colabs/basic_colab_cut/colab_2007_2010.xnet_0.5_selected_basic4_pac_labels_dist.xnet']\n"
     ]
    }
   ],
   "source": [
    "filenames = glob.glob('colabs/basic_colab_cut/*pac*dist.xnet')\n",
    "filenames = sorted(filenames)\n",
    "print(filenames)"
   ]
  },
  {
   "cell_type": "code",
   "execution_count": 7,
   "metadata": {},
   "outputs": [],
   "source": [
    "def calculate_shortest_paths(net):\n",
    "    summary = defaultdict(lambda:defaultdict(lambda:0))\n",
    "    all_paths = []\n",
    "    \n",
    "    pacs = [str(i) for i in range(10)]\n",
    "    \n",
    "    for pac1 in pacs:\n",
    "        print(pac1)\n",
    "        sources = net.vs.select(pac_label_eq=pac1)[:10]\n",
    "        for pac2 in pacs:\n",
    "            targets = net.vs.select(pac_label_eq=pac2)[:10]\n",
    "            targets = [v.index for v in targets]\n",
    "            paths = []\n",
    "            for s in sources:\n",
    "                path_lens = net.get_shortest_paths(s,to=targets,weights='distance',output=\"epath\")\n",
    "                for p in path_lens:\n",
    "                    x = sum(net.es[idx]['distance'] for idx in p)\n",
    "#                     print(x,end=',')\n",
    "                    if x > 0:\n",
    "                        paths.append(x)\n",
    "                        all_paths.append(x)\n",
    "            if len(paths) == 0:\n",
    "                print('len path == 0',len(targets),len(sources))\n",
    "                summary[pac1][pac2] = (np.nan,np.nan,np.nan)\n",
    "                summary[pac2][pac1] = (np.nan,np.nan,np.nan)\n",
    "            else:\n",
    "                mean = np.mean(paths)\n",
    "                std_dev = np.std(paths)\n",
    "                summary[pac1][pac2] = (mean,std_dev,len(targets)) \n",
    "                summary[pac2][pac1] = (mean,std_dev,len(sources))\n",
    "\n",
    "            if pac1 == pac2:\n",
    "                break\n",
    "    all_paths_mean = np.mean(all_paths)\n",
    "    all_paths_std = np.std(all_paths)\n",
    "    return summary,(all_paths_mean,all_paths_std)"
   ]
  },
  {
   "cell_type": "code",
   "execution_count": 8,
   "metadata": {},
   "outputs": [],
   "source": [
    "def plot(summaries,all_paths_summary,dates,base=''):\n",
    "    # xs = [float(d) for d in dates]\n",
    "    ys = defaultdict(lambda:defaultdict(lambda:[]))\n",
    "\n",
    "    for d in dates:\n",
    "        year_summary = summaries[d]\n",
    "        for pp1,summary_pp1 in year_summary.items():\n",
    "            if summary_pp1:\n",
    "                for pp2,(mean,std,f) in summary_pp1.items():\n",
    "                    ys[pp1][pp2].append((d,mean,std,f))\n",
    "    \n",
    "    for pp1,pp2_means in ys.items():\n",
    "        freq = []\n",
    "        for pp2,means_std in pp2_means.items():\n",
    "            means_std = np.array(means_std)\n",
    "            freq.append((np.nanmean(means_std[:,3]),pp2))\n",
    "        freq = sorted(freq,reverse=True)\n",
    "        f_max = freq[0][0]\n",
    "        plt.figure(figsize=(12,3))\n",
    "\n",
    "        for f,pp2 in freq:\n",
    "            means_std = pp2_means[pp2]\n",
    "            means_std = np.asarray(means_std)\n",
    "            means = means_std[:,1]\n",
    "            std = means_std[:,2]\n",
    "            xs = means_std[:,0]\n",
    "#             print(xs)\n",
    "            \n",
    "            fraq = f/f_max\n",
    "            elw = max(0.3,2*fraq)\n",
    "            lw = max(0.3,2*fraq)\n",
    "            ms = max(0.3,2*fraq)\n",
    "            \n",
    "            alpha = max(0.3,0.65*fraq)\n",
    "            \n",
    "            plt.errorbar(xs,means,std,\n",
    "            linestyle='-',label=pp2.upper(),fmt='o',elinewidth=elw,linewidth=lw,markersize=ms,alpha=alpha)#,color=pps_color[pp2])\n",
    "        all_paths_summary = np.asarray(all_paths_summary)\n",
    "        \n",
    "        labels = [str(int(x)) if x%5 == 0 else '' for x in xs]\n",
    "        plt.xticks(np.arange(min(xs), max(xs)+1, 1.0),labels=labels)   \n",
    "        \n",
    "        plt.errorbar(xs, all_paths_summary[:,0], all_paths_summary[:,1], \n",
    "        linestyle='-',label='all',fmt='o',elinewidth=1,linewidth=1.2,markersize=1.5,alpha=0.3,color='cyan')\n",
    "        plt.legend(loc='upper right')\n",
    "        plt.xlabel('year')\n",
    "        plt.ylabel('shortest path mean')                \n",
    "        plt.savefig('shortest_paths_'+base+pp1+'.pdf',format='pdf',bbox_inches=\"tight\")\n",
    "        plt.clf()"
   ]
  },
  {
   "cell_type": "code",
   "execution_count": 6,
   "metadata": {},
   "outputs": [
    {
     "name": "stdout",
     "output_type": "stream",
     "text": [
      "[1990, 1991, 1992, 1993, 1994, 1995, 1996, 1997, 1998, 1999, 2000, 2001, 2002, 2003, 2004, 2005]\n"
     ]
    }
   ],
   "source": [
    "dates = []\n",
    "nets = []\n",
    "for filename in filenames:\n",
    "    net = xnet.xnet2igraph(filename)\n",
    "    nets.append(net.components().giant())\n",
    "\n",
    "    # por ano\n",
    "    date = int(filename.split('colab_')[1].split('_')[0])\n",
    "    \n",
    "    dates.append(date)\n",
    "print(dates)"
   ]
  },
  {
   "cell_type": "code",
   "execution_count": 7,
   "metadata": {},
   "outputs": [
    {
     "name": "stdout",
     "output_type": "stream",
     "text": [
      "1990\n",
      "(array(['0', '1', '2', '3', '4'], dtype='<U1'), array([12655,  8894,    82,   418,   358]))\n",
      "1991\n",
      "(array(['0', '1', '2', '3', '4'], dtype='<U1'), array([19556,   523,   145,     7,  4302]))\n",
      "1992\n",
      "(array(['0', '1', '2', '3', '4'], dtype='<U1'), array([19160,  2302,  5255,   191,   105]))\n",
      "1993\n",
      "(array(['0', '1', '2', '3', '4'], dtype='<U1'), array([20057,  2660,   166,   162,  5477]))\n",
      "1994\n",
      "(array(['0', '1', '2', '3', '4'], dtype='<U1'), array([21845,  2762,   334,   104,  6390]))\n",
      "1995\n",
      "(array(['0', '1', '2', '3', '4'], dtype='<U1'), array([17454,  3052,   236,  5081,  6734]))\n",
      "1996\n",
      "(array(['0', '1', '2', '3', '4'], dtype='<U1'), array([ 3013, 24698,   586,  5957,  1189]))\n",
      "1997\n",
      "(array(['0', '1', '2', '3', '4'], dtype='<U1'), array([  938, 26072,    18,  6924,  3627]))\n",
      "1998\n",
      "(array(['0', '1', '2', '3', '4'], dtype='<U1'), array([ 3637, 18925,   833,  8867,  7050]))\n",
      "1999\n",
      "(array(['0', '1', '2', '3', '4'], dtype='<U1'), array([32432,  1831,  5663,    13,    31]))\n",
      "2000\n",
      "(array(['0', '1', '2', '3', '4'], dtype='<U1'), array([24255,  1309,  2204,  7998,  6765]))\n",
      "2001\n",
      "(array(['0', '1', '2', '3', '4'], dtype='<U1'), array([ 7007, 18807,  2501,  7877,  7557]))\n",
      "2002\n",
      "(array(['0', '1', '2', '3', '4'], dtype='<U1'), array([28705,  2912,  1157,  7420,  7518]))\n",
      "2003\n",
      "(array(['0', '1', '2', '3', '4'], dtype='<U1'), array([29036,  3236,  1757,  9012,  7190]))\n",
      "2004\n",
      "(array(['0', '1', '2', '3', '4'], dtype='<U1'), array([32345,  7551, 10931,  1432,   130]))\n",
      "2005\n",
      "(array(['0', '1', '2', '3', '4'], dtype='<U1'), array([32925,  8107, 10458,   128,  1390]))\n"
     ]
    }
   ],
   "source": [
    "for y,n in zip(dates,nets):\n",
    "    print(y)\n",
    "    print(np.unique(n.vs['pac_label'],return_counts=True))"
   ]
  },
  {
   "cell_type": "code",
   "execution_count": 28,
   "metadata": {},
   "outputs": [],
   "source": [
    "dates = np.asarray(dates)\n",
    "nets = np.asarray(nets)\n",
    "\n",
    "sorted_idxs = np.argsort(dates)\n",
    "dates = dates[sorted_idxs]\n",
    "nets = nets[sorted_idxs]"
   ]
  },
  {
   "cell_type": "markdown",
   "metadata": {},
   "source": [
    "Código a seguir válido para quando as redes são geradas para cada mês com janela de 3 meses:"
   ]
  },
  {
   "cell_type": "markdown",
   "metadata": {},
   "source": [
    "Código válido apenas para intervalo de tempo em anos:"
   ]
  },
  {
   "cell_type": "code",
   "execution_count": 59,
   "metadata": {},
   "outputs": [
    {
     "name": "stdout",
     "output_type": "stream",
     "text": [
      "0\n",
      "1\n",
      "len path == 0 1 1\n",
      "2\n",
      "3\n",
      "4\n",
      "5\n",
      "6\n",
      "7\n",
      "8\n",
      "9\n",
      "0\n",
      "1\n",
      "2\n",
      "3\n",
      "4\n",
      "5\n",
      "6\n",
      "7\n",
      "8\n",
      "9\n",
      "0\n",
      "1\n",
      "2\n",
      "3\n",
      "4\n",
      "5\n",
      "len path == 0 10 0\n",
      "len path == 0 10 0\n",
      "len path == 0 10 0\n",
      "len path == 0 10 0\n",
      "len path == 0 3 0\n",
      "len path == 0 0 0\n",
      "6\n",
      "len path == 0 0 2\n",
      "7\n",
      "len path == 0 0 10\n",
      "8\n",
      "len path == 0 0 10\n",
      "9\n",
      "len path == 0 0 10\n",
      "0\n",
      "1\n",
      "2\n",
      "3\n",
      "4\n",
      "5\n",
      "len path == 0 1 1\n",
      "6\n",
      "7\n",
      "8\n",
      "9\n",
      "0\n",
      "1\n",
      "2\n",
      "3\n",
      "4\n",
      "5\n",
      "6\n",
      "7\n",
      "8\n",
      "9\n",
      "0\n",
      "1\n",
      "2\n",
      "3\n",
      "4\n",
      "5\n",
      "6\n",
      "7\n",
      "8\n",
      "9\n",
      "0\n",
      "1\n",
      "2\n",
      "3\n",
      "4\n",
      "5\n",
      "6\n",
      "7\n",
      "len path == 0 10 0\n",
      "len path == 0 10 0\n",
      "len path == 0 10 0\n",
      "len path == 0 4 0\n",
      "len path == 0 3 0\n",
      "len path == 0 10 0\n",
      "len path == 0 3 0\n",
      "len path == 0 0 0\n",
      "8\n",
      "len path == 0 0 3\n",
      "9\n",
      "len path == 0 0 1\n",
      "len path == 0 1 1\n",
      "0\n",
      "1\n",
      "2\n",
      "3\n",
      "4\n",
      "5\n",
      "6\n",
      "7\n",
      "8\n",
      "9\n",
      "0\n",
      "1\n",
      "2\n",
      "3\n",
      "4\n",
      "5\n",
      "6\n",
      "len path == 0 3 0\n",
      "len path == 0 10 0\n",
      "len path == 0 10 0\n",
      "len path == 0 10 0\n",
      "len path == 0 10 0\n",
      "len path == 0 10 0\n",
      "len path == 0 0 0\n",
      "7\n",
      "len path == 0 0 2\n",
      "8\n",
      "len path == 0 0 3\n",
      "9\n",
      "len path == 0 0 4\n",
      "0\n",
      "1\n",
      "2\n",
      "3\n",
      "4\n",
      "5\n",
      "6\n",
      "7\n",
      "8\n",
      "9\n",
      "0\n",
      "1\n",
      "2\n",
      "3\n",
      "4\n",
      "5\n",
      "6\n",
      "7\n",
      "8\n",
      "9\n",
      "0\n",
      "1\n",
      "2\n",
      "3\n",
      "4\n",
      "5\n",
      "6\n",
      "7\n",
      "8\n",
      "9\n",
      "0\n",
      "1\n",
      "2\n",
      "3\n",
      "4\n",
      "5\n",
      "6\n",
      "7\n",
      "8\n",
      "len path == 0 1 1\n",
      "9\n",
      "0\n",
      "1\n",
      "2\n",
      "3\n",
      "4\n",
      "5\n",
      "6\n",
      "7\n",
      "8\n",
      "9\n",
      "0\n",
      "1\n",
      "2\n",
      "3\n",
      "4\n",
      "5\n",
      "6\n",
      "7\n",
      "8\n",
      "9\n",
      "0\n",
      "1\n",
      "2\n",
      "3\n",
      "4\n",
      "5\n",
      "6\n",
      "7\n",
      "8\n",
      "9\n",
      "len path == 0 1 1\n",
      "0\n",
      "1\n",
      "2\n",
      "3\n",
      "4\n",
      "5\n",
      "6\n",
      "7\n",
      "8\n",
      "9\n",
      "0\n",
      "1\n",
      "2\n",
      "3\n",
      "4\n",
      "5\n",
      "6\n",
      "7\n",
      "8\n",
      "9\n"
     ]
    }
   ],
   "source": [
    "summaries = dict()\n",
    "all_paths_summary = []\n",
    "for date,net in zip(dates,nets):\n",
    "    summaries[date],all_paths = calculate_shortest_paths(net)\n",
    "    all_paths_summary.append(all_paths)"
   ]
  },
  {
   "cell_type": "code",
   "execution_count": 60,
   "metadata": {},
   "outputs": [
    {
     "data": {
      "text/plain": [
       "<Figure size 864x216 with 0 Axes>"
      ]
     },
     "metadata": {},
     "output_type": "display_data"
    },
    {
     "data": {
      "text/plain": [
       "<Figure size 864x216 with 0 Axes>"
      ]
     },
     "metadata": {},
     "output_type": "display_data"
    },
    {
     "data": {
      "text/plain": [
       "<Figure size 864x216 with 0 Axes>"
      ]
     },
     "metadata": {},
     "output_type": "display_data"
    },
    {
     "data": {
      "text/plain": [
       "<Figure size 864x216 with 0 Axes>"
      ]
     },
     "metadata": {},
     "output_type": "display_data"
    },
    {
     "data": {
      "text/plain": [
       "<Figure size 864x216 with 0 Axes>"
      ]
     },
     "metadata": {},
     "output_type": "display_data"
    },
    {
     "data": {
      "text/plain": [
       "<Figure size 864x216 with 0 Axes>"
      ]
     },
     "metadata": {},
     "output_type": "display_data"
    },
    {
     "data": {
      "text/plain": [
       "<Figure size 864x216 with 0 Axes>"
      ]
     },
     "metadata": {},
     "output_type": "display_data"
    },
    {
     "data": {
      "text/plain": [
       "<Figure size 864x216 with 0 Axes>"
      ]
     },
     "metadata": {},
     "output_type": "display_data"
    },
    {
     "data": {
      "text/plain": [
       "<Figure size 864x216 with 0 Axes>"
      ]
     },
     "metadata": {},
     "output_type": "display_data"
    },
    {
     "data": {
      "text/plain": [
       "<Figure size 864x216 with 0 Axes>"
      ]
     },
     "metadata": {},
     "output_type": "display_data"
    }
   ],
   "source": [
    "plot(summaries,all_paths_summary,dates)"
   ]
  },
  {
   "cell_type": "markdown",
   "metadata": {},
   "source": [
    "# Isolamento"
   ]
  },
  {
   "cell_type": "code",
   "execution_count": 61,
   "metadata": {},
   "outputs": [],
   "source": [
    "def plot_isolation(summaries,all_paths_summary,dates,base='',color=None):\n",
    "    isolation = dict()\n",
    "    # xs = [float(d) for d in dates]\n",
    "    ys = defaultdict(lambda:defaultdict(lambda:[]))\n",
    "\n",
    "    freq_dict = defaultdict(lambda:[])\n",
    "    for d in dates:\n",
    "        year_summary = summaries[d]\n",
    "        for pp1,summary_pp1 in year_summary.items():\n",
    "            if summary_pp1:\n",
    "                for pp2,(mean,std,f) in summary_pp1.items():\n",
    "                    ys[pp1][pp2].append((d,mean,std,f))\n",
    "                    freq_dict[pp2].append(f)\n",
    "\n",
    "    freq = [(np.mean(fs),pp) for pp,fs in freq_dict.items()]\n",
    "    freq = sorted(freq,reverse=True)\n",
    "    f_max = freq[0][0]\n",
    "    if np.isnan(f_max):\n",
    "        return None,None\n",
    "    plt.figure(figsize=(12,3))\n",
    "                    \n",
    "    for f,pp1 in freq:\n",
    "        pp2_means = ys[pp1]\n",
    "        \n",
    "        means = np.zeros(len(pp2_means[pp1]))\n",
    "        total_std = np.zeros(len(pp2_means[pp1]))\n",
    "        total = np.zeros(len(pp2_means[pp1]))\n",
    "        xs = []\n",
    "        for pp2,means_std in pp2_means.items():\n",
    "            if not pp1 == pp2:\n",
    "                means_std = np.array(means_std)\n",
    "                xs = means_std[:,0]\n",
    "                t = means_std[:,3]\n",
    "                std = means_std[:,2]\n",
    "                print(t.shape,total.shape)\n",
    "                total += t\n",
    "#                 print(means_std[:,1],t,means_std[:,1]*t)\n",
    "                means += means_std[:,1]*t\n",
    "                total_std += std*t\n",
    "\n",
    "        means /= total\n",
    "        total_std /= total\n",
    "        fraq = f/f_max\n",
    "        fraq = max(fraq,0.4)\n",
    "        plt.errorbar(xs,means,total_std,\n",
    "        linestyle='-',label=pp1.upper(),fmt='o',elinewidth=1.5*fraq,linewidth=2*fraq,markersize=2*fraq,alpha=0.65*fraq)#,color=color[pp1])\n",
    "        \n",
    "        isolation[pp1] = (means,total_std)\n",
    "    \n",
    "#     print(xs)\n",
    "#     labels = [str(int(x))  if x%5 == 0 else '' for x in xs]  \n",
    "#     print(labels)\n",
    "#     plt.xticks(np.arange(min(xs), max(xs)+1, 1.0),labels=labels)   \n",
    "    \n",
    "#     for begin,delta,color in interval_colors:\n",
    "#         if begin+delta >= dates[0] and begin <= dates[-1]:\n",
    "#             plt.axvspan(max(begin,dates[0]), min(begin+delta,dates[-1]), facecolor=color, alpha=0.3)\n",
    "\n",
    "    plt.legend(loc='upper right')\n",
    "    plt.xlabel('year')\n",
    "    plt.ylabel('isolation')                \n",
    "    plt.savefig('shortest_paths_'+base+'.pdf',format='pdf',bbox_inches=\"tight\")\n",
    "    plt.clf()\n",
    "    return isolation,xs"
   ]
  },
  {
   "cell_type": "markdown",
   "metadata": {},
   "source": [
    "Código para dados em intervalos de anos:"
   ]
  },
  {
   "cell_type": "code",
   "execution_count": 62,
   "metadata": {},
   "outputs": [],
   "source": [
    "isolation,xs = plot_isolation(summaries,all_paths_summary,dates)"
   ]
  },
  {
   "cell_type": "markdown",
   "metadata": {},
   "source": [
    "# Fragmentação"
   ]
  },
  {
   "cell_type": "code",
   "execution_count": 51,
   "metadata": {},
   "outputs": [],
   "source": [
    "def plot_fragmentation(summaries,all_paths_summary,pps,dates,inverval_colors,color,base):\n",
    "    # xs = [float(d) for d in dates]\n",
    "    ys = defaultdict(lambda:defaultdict(lambda:[]))\n",
    "\n",
    "    freq_dict = defaultdict(lambda:[])\n",
    "    for d in dates:\n",
    "        year_summary = summaries[d]\n",
    "        for pp1,summary_pp1 in year_summary.items():\n",
    "            if summary_pp1:\n",
    "                for pp2,(mean,std,f) in summary_pp1.items():\n",
    "                    if pp1 == pp2:\n",
    "                        ys[pp1][pp2].append((d,mean,std,f))\n",
    "                        freq_dict[pp2].append(f)\n",
    "\n",
    "    freq = [(np.mean(fs),pp) for pp,fs in freq_dict.items()]\n",
    "    freq = sorted(freq,reverse=True)\n",
    "    f_max = freq[0][0]\n",
    "    plt.figure(figsize=(12,3))\n",
    "    \n",
    "    fragmentation = dict()\n",
    "    for f,pp1 in freq:\n",
    "        pp2_means = ys[pp1]\n",
    "        \n",
    "        means = np.zeros(len(pp2_means[pp1]))\n",
    "        xs = []\n",
    "        for pp2,means_std in pp2_means.items():\n",
    "            if pp1 == pp2:\n",
    "                means_std = np.array(means_std)\n",
    "                means = means_std[:,1]\n",
    "                std = means_std[:,2]\n",
    "                xs = means_std[:,0]\n",
    "                break\n",
    "        fraq = f/f_max\n",
    "        fraq = max(fraq,0.45)\n",
    "        if np.isnan(fraq):\n",
    "            print(pp1,f,f_max)\n",
    "            continue\n",
    "        plt.subplot(1,1,1)\n",
    "        plt.errorbar(xs,means,std,\n",
    "        linestyle='-',label=pp1.upper(),fmt='o',elinewidth=1.5*fraq,linewidth=2*fraq,markersize=2*fraq,alpha=0.65*fraq)#,color=color[pp1])\n",
    "        fragmentation[pp1] = (means,std)\n",
    "        \n",
    "#     labels = [str(int(x))  if x%5 == 0 else '' for x in xs]\n",
    "#     plt.xticks(np.arange(min(xs), max(xs)+1, 1.0),labels=labels)   \n",
    "    \n",
    "    for begin,delta,color in interval_colors:\n",
    "        if begin+delta >= dates[0] and begin <= dates[-1]:\n",
    "            plt.axvspan(max(begin,dates[0]), min(begin+delta,dates[-1]), facecolor=color, alpha=0.3)\n",
    "\n",
    "    \n",
    "    plt.legend(loc='upper right')\n",
    "    plt.xlabel('year')\n",
    "    plt.ylabel('fragmentation')                \n",
    "    plt.savefig('shortest_paths_'+base+'.pdf',format='pdf',bbox_inches=\"tight\")\n",
    "    \n",
    "    plt.clf()\n",
    "    return fragmentation,xs"
   ]
  },
  {
   "cell_type": "code",
   "execution_count": 21,
   "metadata": {},
   "outputs": [],
   "source": [
    "def plot_4years_fragmentation(dates,nets,year,valid_pps):\n",
    "    summaries = dict()\n",
    "\n",
    "    idxs = [idx for idx,date in enumerate(dates) if date < year+4 and date >= year]\n",
    "#   \n",
    "    current_dates = []\n",
    "    current_nets = []\n",
    "    all_paths_summary = []\n",
    "\n",
    "    current_nets = [nets[idx] for idx in idxs]\n",
    "#     valid_pps = list(get_valid_pp(current_nets))\n",
    "    valid_pps = list(get_valid_pp(current_nets,cut_percent=0.05))\n",
    "#     valid_pps = set()\n",
    "#     for n in current_nets:\n",
    "#         valid_pps |= set(n.vs['political_party'])\n",
    "#     print(valid_pps)\n",
    "\n",
    "    for idx in idxs:\n",
    "        current_dates.append(dates[idx])\n",
    "        summaries[dates[idx]],all_paths = calculate_shortest_paths(nets[idx],valid_pps)\n",
    "        all_paths_summary.append(all_paths)\n",
    "        \n",
    "    return plot_fragmentation(summaries,all_paths_summary,valid_pps,current_dates,interval_colors,pps_color,str(year)+'_'+str(year+3)+'_fragmentation')"
   ]
  },
  {
   "cell_type": "markdown",
   "metadata": {},
   "source": [
    "Código para intervalo em anos:"
   ]
  },
  {
   "cell_type": "code",
   "execution_count": 28,
   "metadata": {},
   "outputs": [
    {
     "data": {
      "text/plain": [
       "<Figure size 864x216 with 0 Axes>"
      ]
     },
     "metadata": {},
     "output_type": "display_data"
    }
   ],
   "source": [
    "frag,xs = plot_4years_fragmentation(dates,nets,1995,valid_pps)"
   ]
  },
  {
   "cell_type": "markdown",
   "metadata": {},
   "source": [
    "Código para intervalo em meses:"
   ]
  },
  {
   "cell_type": "code",
   "execution_count": 53,
   "metadata": {},
   "outputs": [
    {
     "data": {
      "text/plain": [
       "<Figure size 864x216 with 0 Axes>"
      ]
     },
     "metadata": {},
     "output_type": "display_data"
    },
    {
     "data": {
      "text/plain": [
       "<Figure size 864x216 with 0 Axes>"
      ]
     },
     "metadata": {},
     "output_type": "display_data"
    },
    {
     "data": {
      "text/plain": [
       "<Figure size 864x216 with 0 Axes>"
      ]
     },
     "metadata": {},
     "output_type": "display_data"
    }
   ],
   "source": [
    "total_frag = defaultdict(lambda:[])\n",
    "total_xs = []\n",
    "for year in range(1995,2018,4):\n",
    "    frag,xs = plot_4years_fragmentation(dates,nets,year,valid_pps)\n",
    "    for k,v in frag.items():\n",
    "        total_frag[k].append(v)\n",
    "    total_xs.append(xs)"
   ]
  },
  {
   "cell_type": "markdown",
   "metadata": {},
   "source": [
    "Distância em relação ao governo:"
   ]
  },
  {
   "cell_type": "code",
   "execution_count": 76,
   "metadata": {},
   "outputs": [
    {
     "name": "stdout",
     "output_type": "stream",
     "text": [
      "psdb [('FHC', 2.4908820766416526), ('Lula', 3.8835780174612617), ('Dilma', 4.095665412007527), ('Temer', 2.8818087798223324)]\n",
      "pp [('FHC', 2.7917070797067045), ('Lula', 2.7688764509675385), ('Dilma', 3.666234855916504), ('Temer', 2.821914764948892)]\n",
      "pmdb [('FHC', 2.8051044997743655), ('Lula', 2.780354046114604), ('Dilma', 3.5343510334110326), ('Temer', 2.6642746684162524)]\n",
      "pt [('FHC', 3.8751642380542393), ('Lula', 2.0597650478176948), ('Dilma', 1.9066299336191868), ('Temer', 4.386559097832085)]\n",
      "dem [('FHC', 2.6182757068557603), ('Lula', 3.8935104225662798), ('Dilma', 4.201142880993076), ('Temer', 2.727031004680421)]\n"
     ]
    }
   ],
   "source": [
    "intervals = [('FHC',(1995.01,2003)),('Lula',(2003.01,2011)),('Dilma',(2011.01,2016.4)),('Temer',(2016.66,2019))]\n",
    "gov_map = {'FHC':'psdb','Lula':'pt','Dilma':'pt','Temer':'pmdb'}\n",
    "\n",
    "def calculate_align(summaries,intervals,dates,pp):\n",
    "    align = defaultdict(lambda:[])\n",
    "    for d in dates:\n",
    "        gov = None\n",
    "        for president,interval in intervals:\n",
    "            if d >= interval[0] and d <= interval[1]:\n",
    "                gov = gov_map[president]\n",
    "                break\n",
    "        summary = summaries[d][pp][gov]\n",
    "        \n",
    "        if not summary == 0:\n",
    "            mean = summary[0]\n",
    "            align[president].append(mean)\n",
    "    \n",
    "    align_mean = [(k,np.mean(a)) for k,a in align.items()]\n",
    "    return align_mean\n",
    "\n",
    "def aligns(dates,nets,valid_pps):\n",
    "    summaries = dict()\n",
    "\n",
    "    for date,net in zip(dates,nets):\n",
    "        summaries[date],_ = calculate_shortest_paths(net,valid_pps)\n",
    "    \n",
    "    for pp in valid_pps:\n",
    "        align_mean = calculate_align(summaries,intervals,dates,pp)\n",
    "        print(pp,align_mean)\n",
    "\n",
    "aligns(dates,nets,valid_pps)"
   ]
  },
  {
   "cell_type": "markdown",
   "metadata": {},
   "source": [
    "# Medida de isolamento/fragmentação médios por intervalo"
   ]
  },
  {
   "cell_type": "code",
   "execution_count": 58,
   "metadata": {},
   "outputs": [],
   "source": [
    "def metric_mean(pp,intervals,total_isolation,total_xs,metric):\n",
    "    isolation_pp = total_isolation[pp]\n",
    "    gov_iso,gov_count,op_iso,op_count = 0.0,0,0.0,0\n",
    "    value_by_interval = [[] for _ in range(len(intervals))]\n",
    "    for xs,iso in zip(total_xs,isolation_pp):\n",
    "        for idx,x in enumerate(xs):\n",
    "            for i in range(len(intervals)):\n",
    "                \n",
    "                if x >= intervals[i][0] and x <= intervals[i][1]:\n",
    "                    value_by_interval[i].append(iso[0][idx])\n",
    "#                     print(value_by_interval)\n",
    "    for i,value in zip(intervals,value_by_interval):\n",
    "        print(metric+' of '+pp+' during '+str(i),mean(value))"
   ]
  },
  {
   "cell_type": "code",
   "execution_count": 59,
   "metadata": {},
   "outputs": [
    {
     "name": "stdout",
     "output_type": "stream",
     "text": [
      "Isolation of psdb during (1995.01, 2003) 2.937746518528365\n",
      "Isolation of psdb during (2003.01, 2011) 3.4379430689604016\n",
      "Isolation of psdb during (2011.01, 2016.4) 3.622686649126459\n",
      "Isolation of psdb during (2016.66, 2019) 3.3358949149289736\n",
      "\n",
      "Isolation of pp during (1995.01, 2003) 2.9595197386087437\n",
      "Isolation of pp during (2003.01, 2011) 3.1006175699889273\n",
      "Isolation of pp during (2011.01, 2016.4) 3.431763452369908\n",
      "Isolation of pp during (2016.66, 2019) 3.338128443687539\n",
      "\n",
      "Isolation of pmdb during (1995.01, 2003) 2.956948742582771\n",
      "Isolation of pmdb during (2003.01, 2011) 3.187213250056103\n",
      "Isolation of pmdb during (2011.01, 2016.4) 3.4705848806008075\n",
      "Isolation of pmdb during (2016.66, 2019) 3.283016377881835\n",
      "\n",
      "Isolation of pt during (1995.01, 2003) 3.793930002186151\n",
      "Isolation of pt during (2003.01, 2011) 3.3269296511864677\n",
      "Isolation of pt during (2011.01, 2016.4) 3.795111096825172\n",
      "Isolation of pt during (2016.66, 2019) 4.371097939688608\n",
      "\n",
      "Isolation of dem during (1995.01, 2003) 2.953175946486894\n",
      "Isolation of dem during (2003.01, 2011) 3.4418829491122467\n",
      "Isolation of dem during (2011.01, 2016.4) 3.503266542470543\n",
      "Isolation of dem during (2016.66, 2019) 3.2523547326060016\n",
      "\n"
     ]
    }
   ],
   "source": [
    "intervals = [(1995.01,2003),(2003.01,2011),(2011.01,2016.4),(2016.66,2019)]\n",
    "for pp in valid_pps:\n",
    "    metric_mean(pp,intervals,total_isolation,total_xs,'Isolation')\n",
    "    print()"
   ]
  },
  {
   "cell_type": "code",
   "execution_count": 91,
   "metadata": {},
   "outputs": [
    {
     "name": "stdout",
     "output_type": "stream",
     "text": [
      "Fragmentation of psdb during (1995.01, 2003) 2.4908820766416517\n",
      "Fragmentation of psdb during (2003.01, 2011) 2.0328737211304846\n",
      "Fragmentation of psdb during (2011.01, 2016.4) 1.988783093836204\n",
      "Fragmentation of psdb during (2016.66, 2019) 2.617430830308141\n",
      "\n",
      "Fragmentation of pp during (1995.01, 2003) 2.6909996627192685\n",
      "Fragmentation of pp during (2003.01, 2011) 2.4981901856274873\n",
      "Fragmentation of pp during (2011.01, 2016.4) 3.0232200092366113\n",
      "Fragmentation of pp during (2016.66, 2019) 2.910780783532844\n",
      "\n",
      "Fragmentation of pmdb during (1995.01, 2003) 2.786850348165676\n",
      "Fragmentation of pmdb during (2003.01, 2011) 2.6857991766873774\n",
      "Fragmentation of pmdb during (2011.01, 2016.4) 2.6721463671924734\n",
      "Fragmentation of pmdb during (2016.66, 2019) 2.6642746684162524\n",
      "\n",
      "Fragmentation of pt during (1995.01, 2003) 1.8093114245892123\n",
      "Fragmentation of pt during (2003.01, 2011) 2.0597650478176948\n",
      "Fragmentation of pt during (2011.01, 2016.4) 1.9066299336191865\n",
      "Fragmentation of pt during (2016.66, 2019) 1.9329672540940024\n",
      "\n",
      "Fragmentation of dem during (1995.01, 2003) 2.5017469177436698\n",
      "Fragmentation of dem during (2003.01, 2011) 2.2902972441448455\n",
      "Fragmentation of dem during (2011.01, 2016.4) 2.2551138740730714\n",
      "Fragmentation of dem during (2016.66, 2019) 2.6936867868243675\n",
      "\n"
     ]
    }
   ],
   "source": [
    "for pp in valid_pps:\n",
    "    metric_mean(pp,intervals,total_frag,total_xs,'Fragmentation')\n",
    "    print()"
   ]
  },
  {
   "cell_type": "code",
   "execution_count": 7,
   "metadata": {
    "scrolled": false
   },
   "outputs": [
    {
     "name": "stdout",
     "output_type": "stream",
     "text": [
      "1995.0833333333333 ['pmdb' 'pp' 'dem']\n",
      "1995.1666666666665 ['pmdb' 'dem' 'pp']\n",
      "1995.2499999999998 ['pmdb' 'dem' 'pp']\n",
      "1995.333333333333 ['pmdb' 'dem' 'pp']\n",
      "1995.4166666666663 ['pmdb' 'dem' 'pp']\n",
      "1995.4999999999995 ['pmdb' 'dem' 'pp']\n",
      "1995.5833333333328 ['pmdb' 'pp' 'dem']\n",
      "1995.666666666666 ['pmdb' 'pp' 'dem']\n",
      "1995.7499999999993 ['pmdb' 'pp' 'dem']\n",
      "1995.8333333333326 ['pmdb' 'dem' 'pp']\n",
      "1995.9166666666658 ['pmdb' 'dem' 'psdb']\n",
      "1995.999999999999 ['pmdb' 'dem' 'pp']\n",
      "1996.0833333333323 ['pmdb' 'pp' 'dem']\n",
      "1996.1666666666656 ['pmdb' 'dem' 'pp']\n",
      "1996.2499999999989 ['pmdb' 'dem' 'pp']\n",
      "1996.3333333333321 ['pmdb' 'dem' 'pp']\n",
      "1996.4166666666654 ['dem' 'pmdb' 'pp']\n",
      "1996.4999999999986 ['dem' 'pmdb' 'pp']\n",
      "1996.583333333332 ['dem' 'pp' 'pmdb']\n",
      "1996.6666666666652 ['dem' 'pmdb' 'pp']\n",
      "1996.7499999999984 ['pmdb' 'dem' 'pp']\n",
      "1996.8333333333317 ['pmdb' 'pp' 'psdb']\n",
      "1996.916666666665 ['pmdb' 'pp' 'dem']\n",
      "1996.9999999999982 ['pmdb' 'dem' 'psdb']\n",
      "1997.0833333333314 ['dem' 'pmdb' 'pp']\n",
      "1997.1666666666647 ['dem' 'pmdb' 'psdb']\n",
      "1997.249999999998 ['pmdb' 'dem' 'psdb']\n",
      "1997.3333333333312 ['pmdb' 'psdb' 'dem']\n",
      "1997.4166666666645 ['psdb' 'dem' 'pmdb']\n",
      "1997.4999999999977 ['pmdb' 'pp' 'psdb']\n",
      "1997.583333333331 ['dem' 'psdb' 'pmdb']\n",
      "1997.6666666666642 ['pmdb' 'psdb' 'dem']\n",
      "1997.7499999999975 ['dem' 'psdb' 'pmdb']\n",
      "1997.8333333333308 ['dem' 'psdb' 'pmdb']\n",
      "1997.916666666664 ['dem' 'psdb' 'pmdb']\n",
      "1997.9999999999973 ['dem' 'psdb' 'pp']\n",
      "1998.0833333333305 ['dem' 'psdb' 'pmdb']\n",
      "1998.1666666666638 ['dem' 'psdb' 'pmdb']\n",
      "1998.249999999997 ['dem' 'psdb' 'pmdb']\n",
      "1998.3333333333303 ['dem' 'psdb' 'pmdb']\n",
      "1998.4166666666636 ['dem' 'psdb' 'pmdb']\n",
      "1998.4999999999968 ['dem' 'psdb' 'pmdb']\n",
      "1998.58333333333 ['dem' 'psdb' 'pmdb']\n",
      "1998.6666666666633 ['dem' 'psdb' 'pmdb']\n",
      "1998.7499999999966 ['dem' 'psdb' 'pmdb']\n",
      "1998.8333333333298 ['dem' 'pmdb' 'psdb']\n",
      "1998.916666666663 ['psdb' 'dem' 'pmdb']\n",
      "1998.9999999999964 ['dem' 'psdb' 'pmdb']\n",
      "1999.0833333333296 ['dem' 'psdb' 'pmdb']\n",
      "1999.1666666666629 ['dem' 'pmdb' 'psdb']\n",
      "1999.2499999999961 ['dem' 'pmdb' 'psdb']\n",
      "1999.3333333333294 ['dem' 'pmdb' 'psdb']\n",
      "1999.4166666666626 ['psdb' 'pmdb' 'dem']\n",
      "1999.499999999996 ['psdb' 'pmdb' 'dem']\n",
      "1999.5833333333292 ['psdb' 'dem' 'pmdb']\n",
      "1999.6666666666624 ['psdb' 'pmdb' 'dem']\n",
      "1999.7499999999957 ['psdb' 'dem' 'pmdb']\n",
      "1999.833333333329 ['psdb' 'dem' 'pmdb']\n",
      "1999.9166666666622 ['pmdb' 'dem' 'psdb']\n",
      "1999.9999999999955 ['psdb' 'pmdb' 'dem']\n",
      "2000.0833333333287 ['psdb' 'pmdb' 'dem']\n",
      "2000.166666666662 ['psdb' 'pmdb' 'dem']\n",
      "2000.2499999999952 ['pmdb' 'dem' 'psdb']\n",
      "2000.3333333333285 ['dem' 'pmdb' 'psdb']\n",
      "2000.4166666666617 ['dem' 'pmdb' 'psdb']\n",
      "2000.499999999995 ['dem' 'psdb' 'pmdb']\n",
      "2000.5833333333283 ['psdb' 'pmdb' 'dem']\n",
      "2000.6666666666615 ['psdb' 'pmdb' 'dem']\n",
      "2000.7499999999948 ['psdb' 'dem' 'pmdb']\n",
      "2000.833333333328 ['psdb' 'dem' 'pmdb']\n",
      "2000.9166666666613 ['psdb' 'dem' 'pmdb']\n",
      "2000.9999999999945 ['psdb' 'pmdb' 'dem']\n",
      "2001.0833333333278 ['dem' 'psdb' 'pmdb']\n",
      "2001.166666666661 ['pmdb' 'dem' 'psdb']\n",
      "2001.2499999999943 ['psdb' 'dem' 'pmdb']\n",
      "2001.3333333333276 ['dem' 'psdb' 'pmdb']\n",
      "2001.4166666666608 ['psdb' 'dem' 'pmdb']\n",
      "2001.499999999994 ['psdb' 'dem' 'pmdb']\n",
      "2001.5833333333273 ['psdb' 'dem' 'pmdb']\n",
      "2001.6666666666606 ['pmdb' 'psdb' 'dem']\n",
      "2001.7499999999939 ['pmdb' 'dem' 'psdb']\n",
      "2001.8333333333271 ['dem' 'pmdb' 'psdb']\n",
      "2001.9166666666604 ['dem' 'pmdb' 'pt']\n",
      "2001.9999999999936 ['dem' 'pmdb' 'pt']\n",
      "2002.083333333327 ['dem' 'pmdb' 'psdb']\n",
      "2002.1666666666601 ['dem' 'pmdb' 'psdb']\n",
      "2002.2499999999934 ['dem' 'pmdb' 'psdb']\n",
      "2002.3333333333267 ['dem' 'pmdb' 'psdb']\n",
      "2002.41666666666 ['dem' 'pt' 'pmdb']\n",
      "2002.4999999999932 ['pt' 'dem' 'pmdb']\n",
      "2002.5833333333264 ['pt' 'dem' 'psdb']\n",
      "2002.6666666666597 ['pt' 'dem' 'psdb']\n",
      "2002.749999999993 ['pt' 'dem' 'pmdb']\n",
      "2002.8333333333262 ['pt' 'dem' 'psdb']\n",
      "2002.9166666666595 ['pt' 'dem' 'pmdb']\n",
      "2002.9999999999927 ['pt' 'pmdb' 'dem']\n",
      "2003.083333333326 ['pt' 'dem' 'pmdb']\n",
      "2003.1666666666592 ['pt' 'dem' 'pmdb']\n",
      "2003.2499999999925 ['pt' 'pmdb' 'dem']\n",
      "2003.3333333333258 ['pt' 'pmdb' 'dem']\n",
      "2003.416666666659 ['pt' 'pmdb' 'dem']\n",
      "2003.4999999999923 ['pt' 'pmdb' 'dem']\n",
      "2003.5833333333255 ['pt' 'pmdb' 'dem']\n",
      "2003.6666666666588 ['pmdb' 'pt' 'dem']\n",
      "2003.749999999992 ['pt' 'pmdb' 'dem']\n",
      "2003.8333333333253 ['pt' 'pmdb' 'pp']\n",
      "2003.9166666666586 ['pt' 'pmdb' 'pl']\n",
      "2003.9999999999918 ['pt' 'pmdb' 'pp']\n",
      "2004.083333333325 ['pt' 'pmdb' 'dem']\n",
      "2004.1666666666583 ['pt' 'pmdb' 'dem']\n",
      "2004.2499999999916 ['pt' 'pmdb' 'dem']\n",
      "2004.3333333333248 ['pt' 'pmdb' 'dem']\n",
      "2004.416666666658 ['pt' 'pmdb' 'psdb']\n",
      "2004.4999999999914 ['pt' 'pmdb' 'dem']\n",
      "2004.5833333333246 ['pt' 'pmdb' 'dem']\n",
      "2004.6666666666579 ['pt' 'pmdb' 'dem']\n",
      "2004.7499999999911 ['pt' 'pmdb' 'dem']\n",
      "2004.8333333333244 ['pt' 'pmdb' 'pp']\n",
      "2004.9166666666576 ['pt' 'pmdb' 'psdb']\n",
      "2004.999999999991 ['pt' 'pmdb' 'dem']\n",
      "2005.0833333333242 ['pt' 'pmdb' 'dem']\n",
      "2005.1666666666574 ['pt' 'dem' 'pmdb']\n",
      "2005.2499999999907 ['pmdb' 'pt' 'dem']\n",
      "2005.333333333324 ['pt' 'pmdb' 'dem']\n",
      "2005.4166666666572 ['pmdb' 'pt' 'dem']\n",
      "2005.4999999999905 ['pmdb' 'pt' 'psdb']\n",
      "2005.5833333333237 ['pmdb' 'pt' 'psdb']\n",
      "2005.666666666657 ['pmdb' 'pt' 'dem']\n",
      "2005.7499999999902 ['pmdb' 'dem' 'psdb']\n",
      "2005.8333333333235 ['pt' 'pmdb' 'dem']\n",
      "2005.9166666666567 ['pt' 'pmdb' 'dem']\n",
      "2005.99999999999 ['pt' 'pmdb' 'dem']\n",
      "2006.0833333333233 ['pt' 'pmdb' 'dem']\n",
      "2006.1666666666565 ['pt' 'pmdb' 'psdb']\n",
      "2006.2499999999898 ['pt' 'pmdb' 'psdb']\n",
      "2006.333333333323 ['pmdb' 'pt' 'psdb']\n",
      "2006.4166666666563 ['pmdb' 'dem' 'psdb']\n",
      "2006.4999999999895 ['pmdb' 'psdb' 'dem']\n",
      "2006.5833333333228 ['pt' 'pmdb' 'psdb']\n",
      "2006.666666666656 ['pt' 'pmdb' 'psdb']\n",
      "2006.7499999999893 ['pt' 'pmdb' 'dem']\n",
      "2006.8333333333226 ['pt' 'pmdb' 'dem']\n",
      "2006.9166666666558 ['pmdb' 'pt' 'dem']\n",
      "2006.999999999989 ['pmdb' 'pt' 'dem']\n",
      "2007.0833333333223 ['pmdb' 'pt' 'psdb']\n",
      "2007.1666666666556 ['pt' 'pmdb' 'psdb']\n",
      "2007.2499999999889 ['pmdb' 'psdb' 'dem']\n",
      "2007.3333333333221 ['pmdb' 'dem' 'psdb']\n",
      "2007.4166666666554 ['pmdb' 'dem' 'psdb']\n",
      "2007.4999999999886 ['pmdb' 'dem' 'psdb']\n",
      "2007.583333333322 ['pmdb' 'psdb' 'pt']\n",
      "2007.6666666666551 ['pmdb' 'pt' 'psdb']\n",
      "2007.7499999999884 ['pmdb' 'pt' 'psdb']\n",
      "2007.8333333333217 ['pmdb' 'pt' 'psdb']\n",
      "2007.916666666655 ['pmdb' 'pt' 'psdb']\n",
      "2007.9999999999882 ['pmdb' 'pt' 'psdb']\n",
      "2008.0833333333214 ['pmdb' 'pt' 'psdb']\n",
      "2008.1666666666547 ['pmdb' 'pt' 'psdb']\n",
      "2008.249999999988 ['pmdb' 'pt' 'psdb']\n",
      "2008.3333333333212 ['pmdb' 'pt' 'psdb']\n",
      "2008.4166666666545 ['pmdb' 'pt' 'psdb']\n",
      "2008.4999999999877 ['pt' 'pmdb' 'psdb']\n",
      "2008.583333333321 ['pt' 'pmdb' 'dem']\n",
      "2008.6666666666542 ['pt' 'pmdb' 'psdb']\n",
      "2008.7499999999875 ['pt' 'pmdb' 'psdb']\n",
      "2008.8333333333208 ['pmdb' 'psdb' 'dem']\n",
      "2008.916666666654 ['pmdb' 'pt' 'psdb']\n",
      "2008.9999999999873 ['pmdb' 'pt' 'psdb']\n",
      "2009.0833333333205 ['pmdb' 'pt' 'psdb']\n",
      "2009.1666666666538 ['pt' 'pmdb' 'psdb']\n",
      "2009.249999999987 ['pmdb' 'pt' 'psdb']\n",
      "2009.3333333333203 ['pt' 'pmdb' 'psdb']\n",
      "2009.4166666666536 ['pmdb' 'pt' 'psdb']\n",
      "2009.4999999999868 ['pmdb' 'pt' 'psdb']\n",
      "2009.58333333332 ['pmdb' 'pt' 'pp']\n",
      "2009.6666666666533 ['pmdb' 'pt' 'dem']\n",
      "2009.7499999999866 ['pt' 'pmdb' 'psdb']\n",
      "2009.8333333333198 ['pt' 'pmdb' 'psdb']\n",
      "2009.916666666653 ['pt' 'pmdb' 'psdb']\n",
      "2009.9999999999864 ['pt' 'pmdb' 'psdb']\n",
      "2010.0833333333196 ['pt' 'pmdb' 'psdb']\n",
      "2010.1666666666529 ['pt' 'pmdb' 'psdb']\n",
      "2010.2499999999861 ['pt' 'pmdb' 'psdb']\n",
      "2010.3333333333194 ['pt' 'pmdb' 'psdb']\n",
      "2010.4166666666526 ['pmdb' 'pt' 'psdb']\n",
      "2010.499999999986 ['pt' 'pmdb' 'psdb']\n",
      "2010.5833333333192 ['pt' 'pmdb' 'psdb']\n",
      "2010.6666666666524 ['pt' 'pmdb' 'psdb']\n",
      "2010.7499999999857 ['pt' 'pp' 'pmdb']\n",
      "2010.833333333319 ['pt' 'pp' 'pmdb']\n",
      "2010.9166666666522 ['pp' 'pt' 'pmdb']\n",
      "2010.9999999999854 ['pp' 'pt' 'psdb']\n",
      "2011.0833333333187 ['pt' 'pp' 'pmdb']\n",
      "2011.166666666652 ['pt' 'pp' 'pmdb']\n",
      "2011.2499999999852 ['pt' 'pp' 'pmdb']\n",
      "2011.3333333333185 ['pt' 'pp' 'pmdb']\n",
      "2011.4166666666517 ['pp' 'pt' 'pmdb']\n",
      "2011.499999999985 ['pt' 'pp' 'pmdb']\n",
      "2011.5833333333183 ['pt' 'pp' 'pmdb']\n",
      "2011.6666666666515 ['pt' 'pp' 'pmdb']\n",
      "2011.7499999999848 ['pp' 'pt' 'pmdb']\n",
      "2011.833333333318 ['pt' 'pp' 'pmdb']\n",
      "2011.9166666666513 ['pp' 'pt' 'pmdb']\n",
      "2011.9999999999845 ['pp' 'pt' 'pmdb']\n",
      "2012.0833333333178 ['pp' 'pt' 'pmdb']\n",
      "2012.166666666651 ['pt' 'pmdb' 'pp']\n",
      "2012.2499999999843 ['pt' 'pmdb' 'pp']\n",
      "2012.3333333333176 ['pt' 'pmdb' 'pp']\n",
      "2012.4166666666508 ['pt' 'pp' 'pmdb']\n",
      "2012.499999999984 ['pt' 'pp' 'pmdb']\n",
      "2012.5833333333173 ['pt' 'pmdb' 'pp']\n",
      "2012.6666666666506 ['pmdb' 'pt' 'pp']\n",
      "2012.7499999999839 ['pt' 'pp' 'pmdb']\n",
      "2012.8333333333171 ['pt' 'pp' 'pmdb']\n",
      "2012.9166666666504 ['pt' 'pp' 'pmdb']\n",
      "2012.9999999999836 ['pt' 'pp' 'pmdb']\n",
      "2013.083333333317 ['pt' 'pp' 'pmdb']\n",
      "2013.1666666666501 ['pt' 'pp' 'pmdb']\n",
      "2013.2499999999834 ['pt' 'pp' 'pmdb']\n",
      "2013.3333333333167 ['pt' 'pp' 'pmdb']\n",
      "2013.41666666665 ['pt' 'pmdb' 'pp']\n",
      "2013.4999999999832 ['pt' 'pmdb' 'pp']\n",
      "2013.5833333333164 ['pt' 'pp' 'pmdb']\n",
      "2013.6666666666497 ['pt' 'pp' 'pmdb']\n",
      "2013.749999999983 ['pt' 'pp' 'pmdb']\n",
      "2013.8333333333162 ['pt' 'pmdb' 'pp']\n",
      "2013.9166666666495 ['pt' 'pp' 'pmdb']\n",
      "2013.9999999999827 ['pt' 'pmdb' 'pp']\n",
      "2014.083333333316 ['pt' 'pp' 'psdb']\n",
      "2014.1666666666492 ['pt' 'pp' 'psdb']\n",
      "2014.2499999999825 ['pt' 'psdb' 'pmdb']\n",
      "2014.3333333333157 ['pt' 'pmdb' 'pp']\n",
      "2014.416666666649 ['pt' 'psdb' 'pmdb']\n",
      "2014.4999999999823 ['pt' 'psdb' 'pp']\n",
      "2014.5833333333155 ['pp' 'pt' 'psdb']\n",
      "2014.6666666666488 ['pp' 'pt' 'pmdb']\n",
      "2014.749999999982 ['pp' 'pt' 'pmdb']\n",
      "2014.8333333333153 ['pp' 'pt' 'psdb']\n",
      "2014.9166666666486 ['pp' 'psdb' 'pmdb']\n",
      "2014.9999999999818 ['pp' 'pt' 'pmdb']\n",
      "2015.083333333315 ['pp' 'pt' 'pmdb']\n",
      "2015.1666666666483 ['pp' 'pt' 'pmdb']\n",
      "2015.2499999999816 ['pp' 'pmdb' 'psdb']\n",
      "2015.3333333333148 ['pp' 'pt' 'pmdb']\n",
      "2015.416666666648 ['pp' 'pt' 'pmdb']\n",
      "2015.4999999999814 ['pp' 'pt' 'pmdb']\n",
      "2015.5833333333146 ['pp' 'pt' 'pmdb']\n",
      "2015.6666666666479 ['pp' 'pt' 'pmdb']\n",
      "2015.7499999999811 ['pp' 'pt' 'pmdb']\n",
      "2015.8333333333144 ['pp' 'pt' 'pmdb']\n",
      "2015.9166666666476 ['pp' 'pt' 'pmdb']\n",
      "2015.999999999981 ['pp' 'pt' 'pmdb']\n",
      "2016.0833333333142 ['pp' 'pt' 'pmdb']\n",
      "2016.1666666666474 ['pp' 'pt' 'pmdb']\n",
      "2016.2499999999807 ['pp' 'pt' 'pmdb']\n",
      "2016.333333333314 ['pp' 'pt' 'pmdb']\n",
      "2016.4166666666472 ['pp' 'pt' 'pmdb']\n",
      "2016.4999999999804 ['pp' 'pt' 'pmdb']\n",
      "2016.5833333333137 ['pp' 'pt' 'pmdb']\n",
      "2016.666666666647 ['pp' 'pt' 'pmdb']\n",
      "2016.7499999999802 ['pp' 'pt' 'pmdb']\n",
      "2016.8333333333135 ['pp' 'pt' 'pmdb']\n",
      "2016.9166666666467 ['pp' 'pmdb' 'pt']\n",
      "2016.99999999998 ['pp' 'pmdb' 'psdb']\n",
      "2017.0833333333132 ['pp' 'pt' 'pmdb']\n",
      "2017.1666666666465 ['pp' 'pt' 'pmdb']\n",
      "2017.2499999999798 ['pp' 'pt' 'pmdb']\n",
      "2017.333333333313 ['pp' 'pmdb' 'dem']\n"
     ]
    }
   ],
   "source": [
    "valid_pps = list(get_valid_pp(nets))"
   ]
  },
  {
   "cell_type": "code",
   "execution_count": 84,
   "metadata": {},
   "outputs": [
    {
     "data": {
      "text/plain": [
       "['pmdb', 'dem', 'pt', 'pp', 'psdb', 'pl']"
      ]
     },
     "execution_count": 84,
     "metadata": {},
     "output_type": "execute_result"
    }
   ],
   "source": [
    "valid_pps"
   ]
  },
  {
   "cell_type": "code",
   "execution_count": null,
   "metadata": {},
   "outputs": [],
   "source": []
  }
 ],
 "metadata": {
  "kernelspec": {
   "display_name": "Python 3",
   "language": "python",
   "name": "python3"
  },
  "language_info": {
   "codemirror_mode": {
    "name": "ipython",
    "version": 3
   },
   "file_extension": ".py",
   "mimetype": "text/x-python",
   "name": "python",
   "nbconvert_exporter": "python",
   "pygments_lexer": "ipython3",
   "version": "3.6.8"
  }
 },
 "nbformat": 4,
 "nbformat_minor": 2
}
