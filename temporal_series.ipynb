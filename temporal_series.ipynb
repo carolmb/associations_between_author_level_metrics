{
 "cells": [
  {
   "cell_type": "code",
   "execution_count": 1,
   "metadata": {},
   "outputs": [],
   "source": [
    "import xnet\n",
    "import json\n",
    "import glob\n",
    "import util\n",
    "import numpy as np\n",
    "import seaborn as sns\n",
    "import matplotlib.pyplot as plt\n",
    "\n",
    "from igraph import *\n",
    "from scipy.stats import pearsonr\n",
    "from collections import defaultdict\n",
    "from matplotlib.ticker import MaxNLocator\n",
    "from util import save,load\n",
    "from util import get_attr_pacs,get_pac_list,get_pacs_paper_published"
   ]
  },
  {
   "cell_type": "code",
   "execution_count": 2,
   "metadata": {},
   "outputs": [],
   "source": [
    "from numpy.random import RandomState\n",
    "\n",
    "random_state = RandomState()"
   ]
  },
  {
   "cell_type": "code",
   "execution_count": 3,
   "metadata": {},
   "outputs": [],
   "source": [
    "attr_pacs = get_attr_pacs()\n",
    "pac_list = get_pac_list()\n",
    "\n",
    "def get_in(paper,data):\n",
    "    pacs = []\n",
    "    p_neighbors = data.neighbors(paper,mode=IN)\n",
    "    n_neighbors = len(p_neighbors)\n",
    "    return n_neighbors\n",
    "\n",
    "def get_out(paper,data):\n",
    "    pacs = []\n",
    "    p_neighbors = data.neighbors(paper,mode=OUT)\n",
    "    n_neighbors = len(p_neighbors)\n",
    "    return n_neighbors\n",
    "\n",
    "def get_freq_of(data,get_freq,delta,filename):\n",
    "\n",
    "\thistory = defaultdict(lambda:defaultdict(lambda:0))\n",
    "\n",
    "\tyear_begin = 1986\n",
    "\tyear_end = 2006\n",
    "\n",
    "\tfor i,year in enumerate(range(year_begin,year_end+1)):\n",
    "\t\tprint(\"current year %d\" % year)\n",
    "\t\tsubset = data.vs.select(year_ge=year,year_le=year+delta)\n",
    "\t\tsubgraph = data.subgraph(subset)\n",
    "\t\tfor paper in subgraph.vs:\n",
    "\t\t\tauthors_idxs = paper['authors_idxs'].split(',')\n",
    "\t\t\tvalue = get_freq(paper,subgraph)\n",
    "\t\t\tfor author in authors_idxs:\n",
    "\t\t\t\thistory[author][year+delta] += value\n",
    "\t\tsave(history,filename)\n",
    "\n",
    "\treturn history"
   ]
  },
  {
   "cell_type": "code",
   "execution_count": 4,
   "metadata": {},
   "outputs": [],
   "source": [
    "authors_out = load('data/authors_out_freq.json')\n",
    "authors_in = load('data/authors_in_freq.json') # citações"
   ]
  },
  {
   "cell_type": "code",
   "execution_count": 5,
   "metadata": {},
   "outputs": [],
   "source": [
    "history_out_filename = 'data/authors_pac_out_2lvls_2multi.json'\n",
    "history_in_filename = 'data/authors_pac_in_2lvls_2multi.json'"
   ]
  },
  {
   "cell_type": "code",
   "execution_count": 6,
   "metadata": {},
   "outputs": [],
   "source": [
    "history_out = load(history_out_filename)\n",
    "authors_out_div = util.authors_metric(history_out,util.get_div) # diversidade das publicações citadas (author out)\n",
    "save(authors_out_div,'data/authors_out_div.json')\n",
    "history_in = load(history_in_filename)\n",
    "authors_in_div = util.authors_metric(history_in,util.get_div) # diversidade das publicações que citam o autor (author in)\n",
    "save(authors_in_div,'data/authors_in_div.json')"
   ]
  },
  {
   "cell_type": "code",
   "execution_count": 7,
   "metadata": {},
   "outputs": [],
   "source": [
    "'''\n",
    "autores válidos seguindo critério frouxo\n",
    "'''\n",
    "def read_valid_authors():\n",
    "    import glob\n",
    "    name_to_authors = dict()\n",
    "    files = glob.glob('valid_authors_min_criteria_*.txt')\n",
    "    for valid_authors_file in files:\n",
    "        valid_authors = open(valid_authors_file,'r').read().split(\"\\n\")[:-1]\n",
    "        name_to_authors[valid_authors_file[:-4]] = valid_authors\n",
    "    return name_to_authors"
   ]
  },
  {
   "cell_type": "code",
   "execution_count": 8,
   "metadata": {},
   "outputs": [],
   "source": [
    "def get_temporal_series(valid_authors,data,min_year):\n",
    "    Y = []\n",
    "    for author in valid_authors:\n",
    "        history = data[author]\n",
    "        y = []\n",
    "        old_year = 0\n",
    "        for year in range(1995,2011):\n",
    "            try:\n",
    "                value = history[str(year)]\n",
    "            except:\n",
    "                value = 0\n",
    "            if year >= min_year:\n",
    "                y.append(value)\n",
    "        Y.append(np.asarray(y))\n",
    "    Y = np.asarray(Y)\n",
    "    return Y"
   ]
  },
  {
   "cell_type": "code",
   "execution_count": 9,
   "metadata": {},
   "outputs": [],
   "source": [
    "files_valid_authors = read_valid_authors()\n",
    "files = list(files_valid_authors.keys())\n",
    "temporal_series_div_out = dict()\n",
    "temporal_series_div_in = dict()\n",
    "temporal_series_in = dict()\n",
    "for file,valid_authors in files_valid_authors.items():\n",
    "    temporal_series_div_out[file] = get_temporal_series(valid_authors,authors_out_div,1995)\n",
    "    temporal_series_div_in[file] = get_temporal_series(valid_authors,authors_in_div,1995)\n",
    "    temporal_series_in[file] = get_temporal_series(valid_authors,authors_in,1995)"
   ]
  },
  {
   "cell_type": "code",
   "execution_count": 10,
   "metadata": {},
   "outputs": [],
   "source": [
    "def delta_temporal_series(X,delta):\n",
    "    Y = []\n",
    "    for x in X:\n",
    "        y = []\n",
    "        for i in range(len(x)-delta):\n",
    "            y.append(x[i+delta]-x[i])\n",
    "        Y.append(np.asarray(y))\n",
    "    Y = np.asarray(Y)\n",
    "    return Y"
   ]
  },
  {
   "cell_type": "code",
   "execution_count": 11,
   "metadata": {},
   "outputs": [],
   "source": [
    "temporal_series_delta_in = dict()\n",
    "for file in files:\n",
    "    temporal_series_delta_in[file] = delta_temporal_series(temporal_series_in[file],1)"
   ]
  },
  {
   "cell_type": "code",
   "execution_count": 12,
   "metadata": {},
   "outputs": [],
   "source": [
    "def shuffle_data(X,N):\n",
    "    \n",
    "    total = np.zeros(X.shape)\n",
    "    idxs = np.arange(X.shape[1])\n",
    "    for i in range(N):\n",
    "        for j in range(X.shape[0]):\n",
    "            random_state.shuffle(idxs)\n",
    "            total[j] += X[j][idxs]\n",
    "    total /= N\n",
    "    return total"
   ]
  },
  {
   "cell_type": "code",
   "execution_count": 13,
   "metadata": {},
   "outputs": [],
   "source": [
    "temporal_series_in_shuffled = dict()\n",
    "temporal_series_delta_in_shuffled = dict()\n",
    "temporal_series_div_out_shuffled = dict()\n",
    "temporal_series_div_in_shuffled = dict()\n",
    "iters = 1000\n",
    "for file in files:\n",
    "    temporal_series_in_shuffled[file] = shuffle_data(temporal_series_in[file],iters)\n",
    "    temporal_series_delta_in_shuffled[file] = shuffle_data(temporal_series_delta_in[file],iters)\n",
    "    temporal_series_div_out_shuffled[file] = shuffle_data(temporal_series_div_out[file],iters)\n",
    "    temporal_series_div_in_shuffled[file] = shuffle_data(temporal_series_div_in[file],iters)"
   ]
  },
  {
   "cell_type": "code",
   "execution_count": 14,
   "metadata": {},
   "outputs": [],
   "source": [
    "from scipy import stats\n",
    "\n",
    "def corr_temporal_series(temporal_x,temporal_y,shuffled_x,shuffled_y,title,lag,delta=1):\n",
    "    X = []\n",
    "    shuffled_X = []\n",
    "    for x,y,x2,y2 in zip(temporal_x,temporal_y,shuffled_x,shuffled_y):\n",
    "        if lag == 0:\n",
    "            corr = pearsonr(x[delta:],y)[0]\n",
    "            shuffled_corr = pearsonr(x2[delta:],y2)[0]\n",
    "        else:\n",
    "            corr = pearsonr(x[delta:-lag],y[lag:])[0]\n",
    "            shuffled_corr = pearsonr(x2[delta:-lag],y2[lag:])[0]\n",
    "        \n",
    "        X.append(corr)    \n",
    "        shuffled_X.append(shuffled_corr)\n",
    "    \n",
    "    shuffled_X = np.asarray(shuffled_X)\n",
    "    \n",
    "    plt.title(title)\n",
    "    plt.xlim(-1,1)\n",
    "    plt.hist(X,bins=np.linspace(-1,1,50),alpha=0.6,density=True)\n",
    "#     plt.hist(shuffled_X,bins=np.linspace(-1,1,50),color='red',alpha=0.2)\n",
    "\n",
    "    x = np.linspace(-1,1, 100)\n",
    "    kde = stats.gaussian_kde(shuffled_X[~np.isnan(shuffled_X)])\n",
    "    y = kde(x)\n",
    "    plt.plot(x,y,color='red')\n",
    "    plt.savefig('temporal_series_data/'+title+'.pdf')\n",
    "    plt.clf()\n",
    "    return X"
   ]
  },
  {
   "cell_type": "code",
   "execution_count": 15,
   "metadata": {
    "scrolled": false
   },
   "outputs": [
    {
     "name": "stderr",
     "output_type": "stream",
     "text": [
      "/home/carol_mb/.local/lib/python3.8/site-packages/scipy/stats/stats.py:3508: PearsonRConstantInputWarning: An input array is constant; the correlation coefficent is not defined.\n",
      "  warnings.warn(PearsonRConstantInputWarning())\n",
      "/home/carol_mb/.local/lib/python3.8/site-packages/scipy/stats/stats.py:3508: PearsonRConstantInputWarning: An input array is constant; the correlation coefficent is not defined.\n",
      "  warnings.warn(PearsonRConstantInputWarning())\n",
      "/home/carol_mb/.local/lib/python3.8/site-packages/scipy/stats/stats.py:3508: PearsonRConstantInputWarning: An input array is constant; the correlation coefficent is not defined.\n",
      "  warnings.warn(PearsonRConstantInputWarning())\n",
      "/home/carol_mb/.local/lib/python3.8/site-packages/scipy/stats/stats.py:3508: PearsonRConstantInputWarning: An input array is constant; the correlation coefficent is not defined.\n",
      "  warnings.warn(PearsonRConstantInputWarning())\n",
      "/home/carol_mb/.local/lib/python3.8/site-packages/scipy/stats/stats.py:3508: PearsonRConstantInputWarning: An input array is constant; the correlation coefficent is not defined.\n",
      "  warnings.warn(PearsonRConstantInputWarning())\n",
      "/home/carol_mb/.local/lib/python3.8/site-packages/scipy/stats/stats.py:3508: PearsonRConstantInputWarning: An input array is constant; the correlation coefficent is not defined.\n",
      "  warnings.warn(PearsonRConstantInputWarning())\n",
      "/home/carol_mb/.local/lib/python3.8/site-packages/scipy/stats/stats.py:3508: PearsonRConstantInputWarning: An input array is constant; the correlation coefficent is not defined.\n",
      "  warnings.warn(PearsonRConstantInputWarning())\n",
      "/home/carol_mb/.local/lib/python3.8/site-packages/scipy/stats/stats.py:3508: PearsonRConstantInputWarning: An input array is constant; the correlation coefficent is not defined.\n",
      "  warnings.warn(PearsonRConstantInputWarning())\n",
      "/home/carol_mb/.local/lib/python3.8/site-packages/scipy/stats/stats.py:3508: PearsonRConstantInputWarning: An input array is constant; the correlation coefficent is not defined.\n",
      "  warnings.warn(PearsonRConstantInputWarning())\n",
      "/home/carol_mb/.local/lib/python3.8/site-packages/scipy/stats/stats.py:3508: PearsonRConstantInputWarning: An input array is constant; the correlation coefficent is not defined.\n",
      "  warnings.warn(PearsonRConstantInputWarning())\n",
      "/home/carol_mb/.local/lib/python3.8/site-packages/scipy/stats/stats.py:3508: PearsonRConstantInputWarning: An input array is constant; the correlation coefficent is not defined.\n",
      "  warnings.warn(PearsonRConstantInputWarning())\n",
      "/home/carol_mb/.local/lib/python3.8/site-packages/scipy/stats/stats.py:3508: PearsonRConstantInputWarning: An input array is constant; the correlation coefficent is not defined.\n",
      "  warnings.warn(PearsonRConstantInputWarning())\n",
      "/home/carol_mb/.local/lib/python3.8/site-packages/scipy/stats/stats.py:3508: PearsonRConstantInputWarning: An input array is constant; the correlation coefficent is not defined.\n",
      "  warnings.warn(PearsonRConstantInputWarning())\n",
      "/home/carol_mb/.local/lib/python3.8/site-packages/scipy/stats/stats.py:3508: PearsonRConstantInputWarning: An input array is constant; the correlation coefficent is not defined.\n",
      "  warnings.warn(PearsonRConstantInputWarning())\n",
      "/home/carol_mb/.local/lib/python3.8/site-packages/scipy/stats/stats.py:3508: PearsonRConstantInputWarning: An input array is constant; the correlation coefficent is not defined.\n",
      "  warnings.warn(PearsonRConstantInputWarning())\n",
      "/home/carol_mb/.local/lib/python3.8/site-packages/scipy/stats/stats.py:3508: PearsonRConstantInputWarning: An input array is constant; the correlation coefficent is not defined.\n",
      "  warnings.warn(PearsonRConstantInputWarning())\n",
      "/home/carol_mb/.local/lib/python3.8/site-packages/scipy/stats/stats.py:3508: PearsonRConstantInputWarning: An input array is constant; the correlation coefficent is not defined.\n",
      "  warnings.warn(PearsonRConstantInputWarning())\n",
      "/home/carol_mb/.local/lib/python3.8/site-packages/scipy/stats/stats.py:3508: PearsonRConstantInputWarning: An input array is constant; the correlation coefficent is not defined.\n",
      "  warnings.warn(PearsonRConstantInputWarning())\n",
      "/home/carol_mb/.local/lib/python3.8/site-packages/scipy/stats/stats.py:3508: PearsonRConstantInputWarning: An input array is constant; the correlation coefficent is not defined.\n",
      "  warnings.warn(PearsonRConstantInputWarning())\n",
      "/home/carol_mb/.local/lib/python3.8/site-packages/scipy/stats/stats.py:3508: PearsonRConstantInputWarning: An input array is constant; the correlation coefficent is not defined.\n",
      "  warnings.warn(PearsonRConstantInputWarning())\n",
      "/home/carol_mb/.local/lib/python3.8/site-packages/scipy/stats/stats.py:3508: PearsonRConstantInputWarning: An input array is constant; the correlation coefficent is not defined.\n",
      "  warnings.warn(PearsonRConstantInputWarning())\n",
      "/home/carol_mb/.local/lib/python3.8/site-packages/scipy/stats/stats.py:3508: PearsonRConstantInputWarning: An input array is constant; the correlation coefficent is not defined.\n",
      "  warnings.warn(PearsonRConstantInputWarning())\n",
      "/home/carol_mb/.local/lib/python3.8/site-packages/scipy/stats/stats.py:3508: PearsonRConstantInputWarning: An input array is constant; the correlation coefficent is not defined.\n",
      "  warnings.warn(PearsonRConstantInputWarning())\n",
      "/home/carol_mb/.local/lib/python3.8/site-packages/scipy/stats/stats.py:3508: PearsonRConstantInputWarning: An input array is constant; the correlation coefficent is not defined.\n",
      "  warnings.warn(PearsonRConstantInputWarning())\n"
     ]
    },
    {
     "data": {
      "text/plain": [
       "<Figure size 432x288 with 0 Axes>"
      ]
     },
     "metadata": {},
     "output_type": "display_data"
    }
   ],
   "source": [
    "corr = dict()\n",
    "for file in files:\n",
    "    corr[file] = defaultdict(lambda:defaultdict(lambda:None))\n",
    "    for lag in [0,1,2,3]:\n",
    "        l = corr_temporal_series(temporal_series_div_in[file],temporal_series_in[file],\n",
    "                          temporal_series_div_in_shuffled[file],temporal_series_in_shuffled[file],\n",
    "                          'div in - in - pearson - lag %d\\n'%lag+file,lag,delta=0)\n",
    "        corr[file]['div in - in'][lag] = l\n",
    "        l = corr_temporal_series(temporal_series_div_in[file],temporal_series_delta_in[file],\n",
    "                          temporal_series_div_in_shuffled[file],temporal_series_delta_in_shuffled[file],\n",
    "                          'div in - delta in - pearson - lag %d\\n'%lag+file,lag)\n",
    "        corr[file]['div in - delta in'][lag] = l\n",
    "        l = corr_temporal_series(temporal_series_div_out[file],temporal_series_in[file],\n",
    "                          temporal_series_div_out_shuffled[file],temporal_series_in_shuffled[file],\n",
    "                          'div out - in - pearson - lag %d\\n'%lag+file,lag,delta=0)\n",
    "        corr[file]['div out - in'][lag] = l\n",
    "        l = corr_temporal_series(temporal_series_div_out[file],temporal_series_delta_in[file],\n",
    "                          temporal_series_div_out_shuffled[file],temporal_series_delta_in_shuffled[file],\n",
    "                          'div out - delta in - pearson - lag %d\\n'%lag+file,lag)\n",
    "        corr[file]['div out - delta in'][lag] = l\n",
    "\n",
    "\n",
    "        l = corr_temporal_series(temporal_series_in[file],temporal_series_in[file],\n",
    "                         temporal_series_in_shuffled[file],temporal_series_in_shuffled[file],\n",
    "                         'in - in - pearson - lag %d\\n'%lag+file,lag,delta=0)\n",
    "        corr[file]['in - in'][lag] = l\n",
    "        l = corr_temporal_series(temporal_series_in[file],temporal_series_delta_in[file],\n",
    "                         temporal_series_in_shuffled[file],temporal_series_delta_in_shuffled[file],\n",
    "                         'in - delta in - pearson - lag %d\\n'%lag+file,lag,delta=1)\n",
    "        corr[file]['in - delta in']"
   ]
  },
  {
   "cell_type": "code",
   "execution_count": 16,
   "metadata": {
    "scrolled": true
   },
   "outputs": [],
   "source": [
    "for file,corr_pairs in corr.items():\n",
    "    for pair,corrs in corr_pairs.items():\n",
    "        for i in range(1,4):\n",
    "            \n",
    "#             heatmap, xedges, yedges = np.histogram2d(corrs[0], corrs[1], bins=50)\n",
    "#             extent = [xedges[0], xedges[-1], yedges[0], yedges[-1]]\n",
    "#             plt.imshow(heatmap.T, extent=extent, origin='lower')\n",
    "            plt.scatter(corrs[0],corrs[i],alpha=0.4,s=3,rasterized=True)\n",
    "            plt.xlim(-1,1)\n",
    "            plt.ylim(-1,1)\n",
    "            plt.title(pair+\" - lag 0 vs lag %d\"%i)\n",
    "            plt.xlabel(\"lag 0\") \n",
    "            plt.ylabel(\"lag %d\"%i)\n",
    "            plt.tight_layout()\n",
    "            plt.savefig('temporal_series_data/'+'pearson_corr_lag_0_lag_%s_%d_%s.pdf'%(pair,i,file))\n",
    "            plt.close()"
   ]
  },
  {
   "cell_type": "code",
   "execution_count": 17,
   "metadata": {},
   "outputs": [],
   "source": [
    "def get_freq_of_future(data,get_freq,delta,filename):\n",
    "\n",
    "\thistory = defaultdict(lambda:defaultdict(lambda:0))\n",
    "\n",
    "\tyear_begin = 1986\n",
    "\tyear_end = 2007\n",
    "\n",
    "\tfor i,year in enumerate(range(year_begin,year_end+1)):\n",
    "\t\tprint(\"current year %d\" % year)\n",
    "\t\tsubset = data.vs.select(year_ge=year,year_le=year+delta)\n",
    "\t\tsubgraph = data.subgraph(subset)\n",
    "\t\tfor paper in subgraph.vs:\n",
    "\t\t\tauthors_idxs = paper['authors_idxs'].split(',')\n",
    "\t\t\tvalue = get_freq(paper,subgraph)\n",
    "\t\t\tfor author in authors_idxs:\n",
    "\t\t\t\thistory[author][year] += value\n",
    "\t\tsave(history,filename)\n",
    "\n",
    "\treturn history"
   ]
  },
  {
   "cell_type": "code",
   "execution_count": 18,
   "metadata": {},
   "outputs": [],
   "source": [
    "data = xnet.xnet2igraph('data/citation_network_ge1985_pacs.xnet')"
   ]
  },
  {
   "cell_type": "code",
   "execution_count": 19,
   "metadata": {},
   "outputs": [],
   "source": [
    "#future_citations1 = get_freq_of_future(data,get_in,0,'data/future_citations1.json')\n",
    "#future_citations2 = get_freq_of_future(data,get_in,1,'data/future_citations2.json')\n",
    "#future_citations3 = get_freq_of_future(data,get_in,2,'data/future_citations3.json')"
   ]
  },
  {
   "cell_type": "code",
   "execution_count": 20,
   "metadata": {},
   "outputs": [],
   "source": [
    "future_citations1 = load('data/future_citations1.json')\n",
    "future_citations2 = load('data/future_citations2.json')\n",
    "future_citations3 = load('data/future_citations3.json')"
   ]
  },
  {
   "cell_type": "code",
   "execution_count": 21,
   "metadata": {},
   "outputs": [
    {
     "name": "stdout",
     "output_type": "stream",
     "text": [
      "['valid_authors_min_criteria_in_out_10_16', 'valid_authors_min_criteria_in_out_1_10', 'valid_authors_min_criteria_in_out_25_16']\n"
     ]
    }
   ],
   "source": [
    "files_valid_authors = read_valid_authors()\n",
    "files = list(files_valid_authors.keys())\n",
    "temporal_series_future_1 = dict()\n",
    "temporal_series_future_2 = dict()\n",
    "temporal_series_future_3 = dict()\n",
    "print(files)\n",
    "for file,valid_authors in files_valid_authors.items():\n",
    "    temporal_series_future_1[file] = get_temporal_series(valid_authors,future_citations1,1995)\n",
    "    temporal_series_future_2[file] = get_temporal_series(valid_authors,future_citations2,1995)\n",
    "    temporal_series_future_3[file] = get_temporal_series(valid_authors,future_citations3,1995)"
   ]
  },
  {
   "cell_type": "code",
   "execution_count": 22,
   "metadata": {},
   "outputs": [],
   "source": [
    "temporal_series_future_1_shuffled = dict()\n",
    "temporal_series_future_2_shuffled = dict()\n",
    "temporal_series_future_3_shuffled = dict()\n",
    "iters = 1000\n",
    "\n",
    "for file in files:\n",
    "    temporal_series_future_1_shuffled[file] = shuffle_data(temporal_series_future_1[file],iters)\n",
    "    temporal_series_future_2_shuffled[file] = shuffle_data(temporal_series_future_2[file],iters)\n",
    "    temporal_series_future_3_shuffled[file] = shuffle_data(temporal_series_future_3[file],iters)"
   ]
  },
  {
   "cell_type": "code",
   "execution_count": 23,
   "metadata": {},
   "outputs": [
    {
     "name": "stderr",
     "output_type": "stream",
     "text": [
      "/home/carol_mb/.local/lib/python3.8/site-packages/scipy/stats/stats.py:3508: PearsonRConstantInputWarning: An input array is constant; the correlation coefficent is not defined.\n",
      "  warnings.warn(PearsonRConstantInputWarning())\n",
      "/home/carol_mb/.local/lib/python3.8/site-packages/scipy/stats/stats.py:3508: PearsonRConstantInputWarning: An input array is constant; the correlation coefficent is not defined.\n",
      "  warnings.warn(PearsonRConstantInputWarning())\n",
      "/home/carol_mb/.local/lib/python3.8/site-packages/scipy/stats/stats.py:3508: PearsonRConstantInputWarning: An input array is constant; the correlation coefficent is not defined.\n",
      "  warnings.warn(PearsonRConstantInputWarning())\n",
      "/home/carol_mb/.local/lib/python3.8/site-packages/scipy/stats/stats.py:3508: PearsonRConstantInputWarning: An input array is constant; the correlation coefficent is not defined.\n",
      "  warnings.warn(PearsonRConstantInputWarning())\n",
      "/home/carol_mb/.local/lib/python3.8/site-packages/scipy/stats/stats.py:3508: PearsonRConstantInputWarning: An input array is constant; the correlation coefficent is not defined.\n",
      "  warnings.warn(PearsonRConstantInputWarning())\n"
     ]
    },
    {
     "data": {
      "text/plain": [
       "<Figure size 432x288 with 0 Axes>"
      ]
     },
     "metadata": {},
     "output_type": "display_data"
    }
   ],
   "source": [
    "corr_future = dict()\n",
    "for file in files:\n",
    "    corr_future[file] = defaultdict(lambda:defaultdict(lambda:None))\n",
    "    l = corr_temporal_series(temporal_series_div_in[file],temporal_series_future_1[file],\n",
    "                    temporal_series_div_in_shuffled[file],temporal_series_future_1_shuffled[file],\n",
    "                    'div in - future 1 - pearson - lag %d\\n'%lag+file,lag=1,delta=0)\n",
    "    l = corr_temporal_series(temporal_series_div_in[file],temporal_series_future_2[file],\n",
    "                    temporal_series_div_in_shuffled[file],temporal_series_future_2_shuffled[file],\n",
    "                    'div in - future 2 - pearson - lag %d\\n'%lag+file,lag=1,delta=0)\n",
    "    l = corr_temporal_series(temporal_series_div_in[file],temporal_series_future_3[file],\n",
    "                    temporal_series_div_in_shuffled[file],temporal_series_future_3_shuffled[file],\n",
    "                    'div in - future 3 - pearson - lag %d\\n'%lag+file,lag=1,delta=0)\n",
    "\n",
    "    corr_future[file] = defaultdict(lambda:defaultdict(lambda:None))\n",
    "    l = corr_temporal_series(temporal_series_in[file],temporal_series_future_1[file],\n",
    "                    temporal_series_in_shuffled[file],temporal_series_future_1_shuffled[file],\n",
    "                    'in - future 1 - pearson - lag %d\\n'%lag+file,lag=1,delta=0)\n",
    "    l = corr_temporal_series(temporal_series_in[file],temporal_series_future_2[file],\n",
    "                    temporal_series_in_shuffled[file],temporal_series_future_2_shuffled[file],\n",
    "                    'in - future 2 - pearson - lag %d\\n'%lag+file,lag=1,delta=0)\n",
    "    l = corr_temporal_series(temporal_series_in[file],temporal_series_future_3[file],\n",
    "                    temporal_series_in_shuffled[file],temporal_series_future_3_shuffled[file],\n",
    "                    'in - future 3 - pearson - lag %d\\n'%lag+file,lag=1,delta=0)"
   ]
  },
  {
   "cell_type": "code",
   "execution_count": 24,
   "metadata": {},
   "outputs": [
    {
     "name": "stdout",
     "output_type": "stream",
     "text": [
      "622\n",
      "622\n"
     ]
    },
    {
     "data": {
      "text/plain": [
       "<Figure size 432x288 with 0 Axes>"
      ]
     },
     "metadata": {},
     "output_type": "display_data"
    }
   ],
   "source": [
    "file = 'valid_authors_min_criteria_in_out_25_16'\n",
    "l = corr_temporal_series(temporal_series_div_in[file],temporal_series_delta_in[file],\n",
    "                          temporal_series_div_in_shuffled[file],temporal_series_delta_in_shuffled[file],\n",
    "                          'div in - delta in - pearson - lag %d\\n'%lag+file,lag)\n",
    "print(len(l))\n",
    "valid_authors = files_valid_authors[file]\n",
    "print(len(valid_authors))\n",
    "authors_valid = []\n",
    "for author,corr in zip(valid_authors,l):\n",
    "    if corr >= 0.5:\n",
    "        authors_valid.append(1)\n",
    "    else:\n",
    "        authors_valid.append(0)"
   ]
  },
  {
   "cell_type": "code",
   "execution_count": 25,
   "metadata": {},
   "outputs": [],
   "source": [
    "def get_metric_temporal_serie(valid_authors, metric,value):\n",
    "    history = [0 for i in range(16)]\n",
    "    history = np.asarray(history,dtype=np.float)\n",
    "    count = 0\n",
    "    for author in valid_authors:\n",
    "        if author == value:\n",
    "            history += np.asarray(metric[author],dtype=np.float)\n",
    "            count += 1\n",
    "    \n",
    "    history = history/count\n",
    "    return history"
   ]
  },
  {
   "cell_type": "code",
   "execution_count": 26,
   "metadata": {},
   "outputs": [],
   "source": [
    "x = list(range(1995,2011))"
   ]
  },
  {
   "cell_type": "code",
   "execution_count": 27,
   "metadata": {},
   "outputs": [
    {
     "data": {
      "image/png": "[encoded data removed]",
      "text/plain": [
       "<Figure size 432x288 with 1 Axes>"
      ]
     },
     "metadata": {
      "needs_background": "light"
     },
     "output_type": "display_data"
    }
   ],
   "source": [
    "average_in_ge05 = get_metric_temporal_serie(authors_valid,temporal_series_in[file],1)\n",
    "average_in_l05 = get_metric_temporal_serie(authors_valid,temporal_series_in[file],0)\n",
    "plt.plot(x,average_in_ge05,label='corr >= 0.5')\n",
    "plt.plot(x,average_in_l05,label='corr < 0.5')\n",
    "plt.legend()\n",
    "plt.ylabel('average in')\n",
    "plt.savefig('temporal_series_data/div in - delta in - lag 3 - 23_16/average_in.pdf')"
   ]
  },
  {
   "cell_type": "code",
   "execution_count": 28,
   "metadata": {},
   "outputs": [
    {
     "data": {
      "image/png": "[encoded data removed]",
      "text/plain": [
       "<Figure size 432x288 with 1 Axes>"
      ]
     },
     "metadata": {
      "needs_background": "light"
     },
     "output_type": "display_data"
    }
   ],
   "source": [
    "average_div_in_ge05 = get_metric_temporal_serie(authors_valid,temporal_series_div_in[file],1)\n",
    "average_div_in_l05 = get_metric_temporal_serie(authors_valid,temporal_series_div_in[file],0)\n",
    "plt.plot(x,average_div_in_ge05,label='corr >= 0.5')\n",
    "plt.plot(x,average_div_in_l05,label='corr < 0.5')\n",
    "plt.legend()\n",
    "plt.ylabel('average div in')\n",
    "plt.savefig('temporal_series_data/div in - delta in - lag 3 - 23_16/average_div_in.pdf')"
   ]
  },
  {
   "cell_type": "code",
   "execution_count": 29,
   "metadata": {},
   "outputs": [
    {
     "data": {
      "image/png": "[encoded data removed]",
      "text/plain": [
       "<Figure size 432x288 with 1 Axes>"
      ]
     },
     "metadata": {
      "needs_background": "light"
     },
     "output_type": "display_data"
    }
   ],
   "source": [
    "average_div_out_ge05 = get_metric_temporal_serie(authors_valid,temporal_series_div_out[file],1)\n",
    "average_div_out_l05 = get_metric_temporal_serie(authors_valid,temporal_series_div_out[file],0)\n",
    "plt.plot(x,average_div_out_ge05,label='corr >= 0.5')\n",
    "plt.plot(x,average_div_out_l05,label='corr < 0.5')\n",
    "plt.legend()\n",
    "plt.ylabel('average div out')\n",
    "plt.savefig('temporal_series_data/div in - delta in - lag 3 - 23_16/average_div_out.pdf')"
   ]
  },
  {
   "cell_type": "code",
   "execution_count": null,
   "metadata": {},
   "outputs": [],
   "source": []
  }
 ],
 "metadata": {
  "kernelspec": {
   "display_name": "Python 3",
   "language": "python",
   "name": "python3"
  },
  "language_info": {
   "codemirror_mode": {
    "name": "ipython",
    "version": 3
   },
   "file_extension": ".py",
   "mimetype": "text/x-python",
   "name": "python",
   "nbconvert_exporter": "python",
   "pygments_lexer": "ipython3",
   "version": "3.8.2"
  }
 },
 "nbformat": 4,
 "nbformat_minor": 2
}
